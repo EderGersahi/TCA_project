{
 "cells": [
  {
   "cell_type": "markdown",
   "id": "e0b75bab",
   "metadata": {},
   "source": [
    "# Modelo 3 "
   ]
  },
  {
   "cell_type": "code",
   "execution_count": 1,
   "id": "a151b1a8",
   "metadata": {},
   "outputs": [],
   "source": [
    "import numpy as np\n",
    "import pandas as pd\n",
    "import matplotlib.pyplot as plt\n",
    "import seaborn as sns"
   ]
  },
  {
   "cell_type": "code",
   "execution_count": 2,
   "id": "eb8de281",
   "metadata": {},
   "outputs": [
    {
     "data": {
      "application/vnd.microsoft.datawrangler.viewer.v0+json": {
       "columns": [
        {
         "name": "index",
         "rawType": "int64",
         "type": "integer"
        },
        {
         "name": "h_num_per",
         "rawType": "int64",
         "type": "integer"
        },
        {
         "name": "h_num_adu",
         "rawType": "int64",
         "type": "integer"
        },
        {
         "name": "h_num_men",
         "rawType": "int64",
         "type": "integer"
        },
        {
         "name": "h_num_noc",
         "rawType": "int64",
         "type": "integer"
        },
        {
         "name": "h_tot_hab",
         "rawType": "int64",
         "type": "integer"
        },
        {
         "name": "ID_Paquete",
         "rawType": "int64",
         "type": "integer"
        },
        {
         "name": "ID_Segmento_Comp",
         "rawType": "int64",
         "type": "integer"
        },
        {
         "name": "ID_Agencia",
         "rawType": "int64",
         "type": "integer"
        },
        {
         "name": "ID_empresa",
         "rawType": "int64",
         "type": "integer"
        },
        {
         "name": "ID_Tipo_Habitacion",
         "rawType": "int64",
         "type": "integer"
        },
        {
         "name": "ID_canal",
         "rawType": "int64",
         "type": "integer"
        },
        {
         "name": "h_fec_lld_ok",
         "rawType": "object",
         "type": "string"
        },
        {
         "name": "h_fec_sda_ok",
         "rawType": "object",
         "type": "string"
        },
        {
         "name": "Reservacion",
         "rawType": "int64",
         "type": "integer"
        },
        {
         "name": "ID_estatus_reservaciones",
         "rawType": "int64",
         "type": "integer"
        },
        {
         "name": "h_can_res",
         "rawType": "int64",
         "type": "integer"
        },
        {
         "name": "h_cod_reserva",
         "rawType": "int64",
         "type": "integer"
        },
        {
         "name": "h_edo",
         "rawType": "int64",
         "type": "integer"
        },
        {
         "name": "h_codigop",
         "rawType": "int64",
         "type": "integer"
        },
        {
         "name": "h_tfa_total",
         "rawType": "float64",
         "type": "float"
        }
       ],
       "conversionMethod": "pd.DataFrame",
       "ref": "aa4926d3-c6d4-4bda-8711-bc3a6277947b",
       "rows": [
        [
         "0",
         "2",
         "2",
         "0",
         "3",
         "1",
         "1",
         "14",
         "112",
         "1",
         "25",
         "10",
         "2019-11-07",
         "2019-11-10",
         "1",
         "9",
         "9",
         "31047",
         "85",
         "333",
         "2659.98"
        ],
        [
         "1",
         "4",
         "4",
         "0",
         "4",
         "1",
         "2",
         "14",
         "112",
         "1",
         "25",
         "10",
         "2019-12-01",
         "2019-12-05",
         "1",
         "9",
         "9",
         "31047",
         "54",
         "398",
         "1764.0"
        ],
        [
         "2",
         "2",
         "2",
         "0",
         "4",
         "1",
         "1",
         "14",
         "112",
         "1",
         "23",
         "10",
         "2019-12-01",
         "2019-12-05",
         "1",
         "9",
         "9",
         "31047",
         "75",
         "6566",
         "2660.04"
        ],
        [
         "3",
         "4",
         "3",
         "0",
         "3",
         "1",
         "2",
         "14",
         "112",
         "1",
         "24",
         "10",
         "2019-12-08",
         "2019-12-11",
         "1",
         "9",
         "9",
         "31047",
         "54",
         "2961",
         "1995.03"
        ],
        [
         "4",
         "2",
         "2",
         "0",
         "4",
         "1",
         "1",
         "5",
         "14",
         "1",
         "4",
         "13",
         "2019-12-08",
         "2019-12-12",
         "1",
         "9",
         "12",
         "23266",
         "85",
         "1224",
         "13369.92"
        ]
       ],
       "shape": {
        "columns": 20,
        "rows": 5
       }
      },
      "text/html": [
       "<div>\n",
       "<style scoped>\n",
       "    .dataframe tbody tr th:only-of-type {\n",
       "        vertical-align: middle;\n",
       "    }\n",
       "\n",
       "    .dataframe tbody tr th {\n",
       "        vertical-align: top;\n",
       "    }\n",
       "\n",
       "    .dataframe thead th {\n",
       "        text-align: right;\n",
       "    }\n",
       "</style>\n",
       "<table border=\"1\" class=\"dataframe\">\n",
       "  <thead>\n",
       "    <tr style=\"text-align: right;\">\n",
       "      <th></th>\n",
       "      <th>h_num_per</th>\n",
       "      <th>h_num_adu</th>\n",
       "      <th>h_num_men</th>\n",
       "      <th>h_num_noc</th>\n",
       "      <th>h_tot_hab</th>\n",
       "      <th>ID_Paquete</th>\n",
       "      <th>ID_Segmento_Comp</th>\n",
       "      <th>ID_Agencia</th>\n",
       "      <th>ID_empresa</th>\n",
       "      <th>ID_Tipo_Habitacion</th>\n",
       "      <th>ID_canal</th>\n",
       "      <th>h_fec_lld_ok</th>\n",
       "      <th>h_fec_sda_ok</th>\n",
       "      <th>Reservacion</th>\n",
       "      <th>ID_estatus_reservaciones</th>\n",
       "      <th>h_can_res</th>\n",
       "      <th>h_cod_reserva</th>\n",
       "      <th>h_edo</th>\n",
       "      <th>h_codigop</th>\n",
       "      <th>h_tfa_total</th>\n",
       "    </tr>\n",
       "  </thead>\n",
       "  <tbody>\n",
       "    <tr>\n",
       "      <th>0</th>\n",
       "      <td>2</td>\n",
       "      <td>2</td>\n",
       "      <td>0</td>\n",
       "      <td>3</td>\n",
       "      <td>1</td>\n",
       "      <td>1</td>\n",
       "      <td>14</td>\n",
       "      <td>112</td>\n",
       "      <td>1</td>\n",
       "      <td>25</td>\n",
       "      <td>10</td>\n",
       "      <td>2019-11-07</td>\n",
       "      <td>2019-11-10</td>\n",
       "      <td>1</td>\n",
       "      <td>9</td>\n",
       "      <td>9</td>\n",
       "      <td>31047</td>\n",
       "      <td>85</td>\n",
       "      <td>333</td>\n",
       "      <td>2659.98</td>\n",
       "    </tr>\n",
       "    <tr>\n",
       "      <th>1</th>\n",
       "      <td>4</td>\n",
       "      <td>4</td>\n",
       "      <td>0</td>\n",
       "      <td>4</td>\n",
       "      <td>1</td>\n",
       "      <td>2</td>\n",
       "      <td>14</td>\n",
       "      <td>112</td>\n",
       "      <td>1</td>\n",
       "      <td>25</td>\n",
       "      <td>10</td>\n",
       "      <td>2019-12-01</td>\n",
       "      <td>2019-12-05</td>\n",
       "      <td>1</td>\n",
       "      <td>9</td>\n",
       "      <td>9</td>\n",
       "      <td>31047</td>\n",
       "      <td>54</td>\n",
       "      <td>398</td>\n",
       "      <td>1764.00</td>\n",
       "    </tr>\n",
       "    <tr>\n",
       "      <th>2</th>\n",
       "      <td>2</td>\n",
       "      <td>2</td>\n",
       "      <td>0</td>\n",
       "      <td>4</td>\n",
       "      <td>1</td>\n",
       "      <td>1</td>\n",
       "      <td>14</td>\n",
       "      <td>112</td>\n",
       "      <td>1</td>\n",
       "      <td>23</td>\n",
       "      <td>10</td>\n",
       "      <td>2019-12-01</td>\n",
       "      <td>2019-12-05</td>\n",
       "      <td>1</td>\n",
       "      <td>9</td>\n",
       "      <td>9</td>\n",
       "      <td>31047</td>\n",
       "      <td>75</td>\n",
       "      <td>6566</td>\n",
       "      <td>2660.04</td>\n",
       "    </tr>\n",
       "    <tr>\n",
       "      <th>3</th>\n",
       "      <td>4</td>\n",
       "      <td>3</td>\n",
       "      <td>0</td>\n",
       "      <td>3</td>\n",
       "      <td>1</td>\n",
       "      <td>2</td>\n",
       "      <td>14</td>\n",
       "      <td>112</td>\n",
       "      <td>1</td>\n",
       "      <td>24</td>\n",
       "      <td>10</td>\n",
       "      <td>2019-12-08</td>\n",
       "      <td>2019-12-11</td>\n",
       "      <td>1</td>\n",
       "      <td>9</td>\n",
       "      <td>9</td>\n",
       "      <td>31047</td>\n",
       "      <td>54</td>\n",
       "      <td>2961</td>\n",
       "      <td>1995.03</td>\n",
       "    </tr>\n",
       "    <tr>\n",
       "      <th>4</th>\n",
       "      <td>2</td>\n",
       "      <td>2</td>\n",
       "      <td>0</td>\n",
       "      <td>4</td>\n",
       "      <td>1</td>\n",
       "      <td>1</td>\n",
       "      <td>5</td>\n",
       "      <td>14</td>\n",
       "      <td>1</td>\n",
       "      <td>4</td>\n",
       "      <td>13</td>\n",
       "      <td>2019-12-08</td>\n",
       "      <td>2019-12-12</td>\n",
       "      <td>1</td>\n",
       "      <td>9</td>\n",
       "      <td>12</td>\n",
       "      <td>23266</td>\n",
       "      <td>85</td>\n",
       "      <td>1224</td>\n",
       "      <td>13369.92</td>\n",
       "    </tr>\n",
       "  </tbody>\n",
       "</table>\n",
       "</div>"
      ],
      "text/plain": [
       "   h_num_per  h_num_adu  h_num_men  h_num_noc  h_tot_hab  ID_Paquete  \\\n",
       "0          2          2          0          3          1           1   \n",
       "1          4          4          0          4          1           2   \n",
       "2          2          2          0          4          1           1   \n",
       "3          4          3          0          3          1           2   \n",
       "4          2          2          0          4          1           1   \n",
       "\n",
       "   ID_Segmento_Comp  ID_Agencia  ID_empresa  ID_Tipo_Habitacion  ID_canal  \\\n",
       "0                14         112           1                  25        10   \n",
       "1                14         112           1                  25        10   \n",
       "2                14         112           1                  23        10   \n",
       "3                14         112           1                  24        10   \n",
       "4                 5          14           1                   4        13   \n",
       "\n",
       "  h_fec_lld_ok h_fec_sda_ok  Reservacion  ID_estatus_reservaciones  h_can_res  \\\n",
       "0   2019-11-07   2019-11-10            1                         9          9   \n",
       "1   2019-12-01   2019-12-05            1                         9          9   \n",
       "2   2019-12-01   2019-12-05            1                         9          9   \n",
       "3   2019-12-08   2019-12-11            1                         9          9   \n",
       "4   2019-12-08   2019-12-12            1                         9         12   \n",
       "\n",
       "   h_cod_reserva  h_edo  h_codigop  h_tfa_total  \n",
       "0          31047     85        333      2659.98  \n",
       "1          31047     54        398      1764.00  \n",
       "2          31047     75       6566      2660.04  \n",
       "3          31047     54       2961      1995.03  \n",
       "4          23266     85       1224     13369.92  "
      ]
     },
     "execution_count": 2,
     "metadata": {},
     "output_type": "execute_result"
    }
   ],
   "source": [
    "df=pd.read_csv(\"reservaciones_clean.csv\")\n",
    "df.drop(columns=\"Cliente_Disp\",inplace=True)\n",
    "df.head()"
   ]
  },
  {
   "cell_type": "code",
   "execution_count": 3,
   "id": "536180e3",
   "metadata": {},
   "outputs": [],
   "source": [
    "df['h_fec_lld_ok']=pd.to_datetime(df['h_fec_lld_ok'])\n",
    "df['h_fec_sda_ok']=pd.to_datetime(df['h_fec_sda_ok'])\n",
    "df['h_fec_sda_ok']=df['h_fec_sda_ok'].astype('int64')/1e9\n",
    "df=df.sort_values('h_fec_lld_ok')"
   ]
  },
  {
   "cell_type": "code",
   "execution_count": 4,
   "id": "3e066a15",
   "metadata": {},
   "outputs": [],
   "source": [
    "df2=df.copy()\n",
    "df2=df2[['h_fec_lld_ok','h_tfa_total']]\n",
    "df2=df2.groupby('h_fec_lld_ok').sum().reset_index()"
   ]
  },
  {
   "cell_type": "code",
   "execution_count": 5,
   "id": "93baf403",
   "metadata": {},
   "outputs": [
    {
     "data": {
      "text/plain": [
       "Text(0.5, 0, 'h_fec_lld_ok')"
      ]
     },
     "execution_count": 5,
     "metadata": {},
     "output_type": "execute_result"
    },
    {
     "data": {
      "image/png": "[encoded data removed]",
      "text/plain": [
       "<Figure size 1000x400 with 1 Axes>"
      ]
     },
     "metadata": {},
     "output_type": "display_data"
    }
   ],
   "source": [
    "plt.figure(figsize=(10, 4))\n",
    "plt.plot(df2['h_fec_lld_ok'], df2['h_tfa_total'], linestyle='-', alpha=0.6)\n",
    "plt.title('h_tfa_total')\n",
    "plt.xlabel('h_fec_lld_ok')"
   ]
  },
  {
   "cell_type": "markdown",
   "id": "f3bf8a35",
   "metadata": {},
   "source": [
    "## Suavizado"
   ]
  },
  {
   "cell_type": "code",
   "execution_count": 6,
   "id": "67c91bb0",
   "metadata": {},
   "outputs": [],
   "source": [
    "from scipy.signal import savgol_filter\n",
    "df2['smoothed'] = df2['h_tfa_total'].rolling(window=7).mean() #media movil simple\n",
    "df2['smoothed2'] = df2['h_tfa_total'].ewm(span=7, adjust=False).mean() # Suavizado exponencial\n",
    "df2['smoothed3'] = savgol_filter(df2['h_tfa_total'], window_length=15, polyorder=2)"
   ]
  },
  {
   "cell_type": "code",
   "execution_count": 7,
   "id": "16f8203f",
   "metadata": {},
   "outputs": [
    {
     "data": {
      "text/plain": [
       "Text(0.5, 0, 'Fecha')"
      ]
     },
     "execution_count": 7,
     "metadata": {},
     "output_type": "execute_result"
    },
    {
     "data": {
      "image/png": "[encoded data removed]",
      "text/plain": [
       "<Figure size 1000x400 with 1 Axes>"
      ]
     },
     "metadata": {},
     "output_type": "display_data"
    }
   ],
   "source": [
    "plt.figure(figsize=(10, 4))\n",
    "plt.plot(df2['h_fec_lld_ok'], df2['smoothed3'], linestyle='-', alpha=0.6)\n",
    "plt.title('smoothed')\n",
    "plt.xlabel('Fecha')"
   ]
  },
  {
   "cell_type": "code",
   "execution_count": 8,
   "id": "1bb440a2",
   "metadata": {},
   "outputs": [
    {
     "data": {
      "application/vnd.microsoft.datawrangler.viewer.v0+json": {
       "columns": [
        {
         "name": "index",
         "rawType": "int64",
         "type": "integer"
        },
        {
         "name": "h_fec_lld_ok",
         "rawType": "datetime64[ns]",
         "type": "datetime"
        },
        {
         "name": "h_tfa_total",
         "rawType": "float64",
         "type": "float"
        },
        {
         "name": "smoothed",
         "rawType": "float64",
         "type": "float"
        },
        {
         "name": "smoothed2",
         "rawType": "float64",
         "type": "float"
        },
        {
         "name": "smoothed3",
         "rawType": "float64",
         "type": "float"
        }
       ],
       "conversionMethod": "pd.DataFrame",
       "ref": "7168580d-e778-4994-83b5-2a3766726adb",
       "rows": [
        [
         "0",
         "2019-02-05 00:00:00",
         "672.8",
         null,
         "672.8",
         "255607.52095212202"
        ],
        [
         "1",
         "2019-02-06 00:00:00",
         "11052.0",
         null,
         "3267.6",
         "513921.77460069524"
        ],
        [
         "2",
         "2019-02-12 00:00:00",
         "18999.2",
         null,
         "7200.5",
         "739398.3635604512"
        ],
        [
         "3",
         "2019-02-13 00:00:00",
         "2593319.9948333334",
         null,
         "653730.3737083334",
         "932037.2878313898"
        ],
        [
         "4",
         "2019-02-14 00:00:00",
         "1519102.509975",
         null,
         "870073.407775",
         "1091838.547413511"
        ],
        [
         "5",
         "2019-02-15 00:00:00",
         "2084924.7574421053",
         null,
         "1173786.2451917764",
         "1218802.142306815"
        ],
        [
         "6",
         "2019-02-16 00:00:00",
         "802712.4034166667",
         "1004397.6665238722",
         "1081017.7847479992",
         "1312928.0725113016"
        ],
        [
         "7",
         "2019-02-17 00:00:00",
         "1276068.2339",
         "1186597.0142238722",
         "1129780.3970359995",
         "1374216.338026978"
        ],
        [
         "8",
         "2019-02-18 00:00:00",
         "1057309.4656",
         "1336062.3664524439",
         "1111662.6641769996",
         "1349559.097787411"
        ],
        [
         "9",
         "2019-02-19 00:00:00",
         "263713.08",
         "1371021.4921667294",
         "899675.2681327497",
         "1277842.2125671185"
        ],
        [
         "10",
         "2019-02-20 00:00:00",
         "1491840.0506",
         "1213667.2144191102",
         "1047716.4637495622",
         "1087945.5182348785"
        ],
        [
         "11",
         "2019-02-21 00:00:00",
         "1330142.4147030304",
         "1186672.9150945432",
         "1118322.951487929",
         "1037001.6012760769"
        ],
        [
         "12",
         "2019-02-22 00:00:00",
         "1350518.7311",
         "1081757.7684742424",
         "1176371.8963909468",
         "860086.4668451315"
        ],
        [
         "13",
         "2019-02-23 00:00:00",
         "1009985.383",
         "1111368.1941290044",
         "1134775.2680432103",
         "1000008.0419250361"
        ],
        [
         "14",
         "2019-02-24 00:00:00",
         "1205610.9894",
         "1101302.873486147",
         "1152484.1983824077",
         "992214.4784056717"
        ],
        [
         "15",
         "2019-02-25 00:00:00",
         "934663.3548",
         "1083782.0005147187",
         "1098028.9874868058",
         "988114.3732550634"
        ],
        [
         "16",
         "2019-02-26 00:00:00",
         "347990.4218",
         "1095821.6207718614",
         "910519.3460651044",
         "1066760.519800235"
        ],
        [
         "17",
         "2019-02-27 00:00:00",
         "166756.8628",
         "906524.0225147187",
         "724578.7252488283",
         "1013698.3200577473"
        ],
        [
         "18",
         "2019-02-28 00:00:00",
         "1191287.385725",
         "886687.5898035716",
         "841255.8903678712",
         "964609.675288744"
        ],
        [
         "19",
         "2019-03-01 00:00:00",
         "2452341.4014",
         "1044090.8284178572",
         "1244027.2681259033",
         "936576.3790572677"
        ],
        [
         "20",
         "2019-03-02 00:00:00",
         "717288.6302363636",
         "1002277.0065944806",
         "1112342.6086535184",
         "1071683.9412326098"
        ],
        [
         "21",
         "2019-03-03 00:00:00",
         "989473.9376385965",
         "971400.2849142799",
         "1081625.440899788",
         "1145559.4394074623"
        ],
        [
         "22",
         "2019-03-04 00:00:00",
         "1565194.9981333334",
         "1061476.233961899",
         "1202517.8302081744",
         "1243816.4126574493"
        ],
        [
         "23",
         "2019-03-05 00:00:00",
         "635052.3271",
         "1102485.0775761849",
         "1060651.4544311308",
         "1341144.7893759655"
        ],
        [
         "24",
         "2019-03-06 00:00:00",
         "564872.9735",
         "1159358.8076761847",
         "936706.8341983481",
         "1305961.7647656354"
        ],
        [
         "25",
         "2019-03-07 00:00:00",
         "1669057.6356696968",
         "1227611.7005254272",
         "1119794.5345661852",
         "1085833.653398947"
        ],
        [
         "26",
         "2019-03-08 00:00:00",
         "2024942.9379",
         "1166554.7771682844",
         "1346081.635399639",
         "934685.3978665702"
        ],
        [
         "27",
         "2019-03-09 00:00:00",
         "822737.1637",
         "1181618.8533773753",
         "1215245.5174747293",
         "1022888.7843587114"
        ],
        [
         "28",
         "2019-03-10 00:00:00",
         "1022499.4270744992",
         "1186336.7804396471",
         "1167058.9948746718",
         "1066698.2259235184"
        ],
        [
         "29",
         "2019-03-11 00:00:00",
         "924138.4541",
         "1094757.2741491708",
         "1106328.8596810037",
         "1059592.905211732"
        ],
        [
         "30",
         "2019-03-12 00:00:00",
         "398745.38",
         "1060999.1388491709",
         "929432.9897607528",
         "1077483.2498808245"
        ],
        [
         "31",
         "2019-03-13 00:00:00",
         "421129.9372",
         "1040464.4193777422",
         "802357.2266205646",
         "1109603.1938273965"
        ],
        [
         "32",
         "2019-03-14 00:00:00",
         "1429648.1262",
         "1006263.0608820714",
         "959179.9515154234",
         "877612.200867827"
        ],
        [
         "33",
         "2019-03-15 00:00:00",
         "1839605.7714543124",
         "979786.3228184016",
         "1179286.4065001458",
         "978089.3418366562"
        ],
        [
         "34",
         "2019-03-16 00:00:00",
         "1596110.845",
         "1090268.2772898301",
         "1283492.5161251093",
         "1198091.47814534"
        ],
        [
         "35",
         "2019-03-17 00:00:00",
         "583561.7192",
         "1027562.890450616",
         "1108509.816893832",
         "1225748.3025149389"
        ],
        [
         "36",
         "2019-03-18 00:00:00",
         "975885.1066",
         "1034955.2693791875",
         "1075353.639320374",
         "1342577.3322346255"
        ],
        [
         "37",
         "2019-03-19 00:00:00",
         "1528900.6489",
         "1196406.0220791877",
         "1188740.3917152805",
         "1452863.4817325764"
        ],
        [
         "38",
         "2019-03-20 00:00:00",
         "370602.612",
         "1189187.832764902",
         "984205.9467864604",
         "1409251.8865536554"
        ],
        [
         "39",
         "2019-03-21 00:00:00",
         "2868101.038",
         "1394681.1058791876",
         "1455179.7195898453",
         "1217627.070010444"
        ],
        [
         "40",
         "2019-03-22 00:00:00",
         "1256297.8092",
         "1311351.3969857146",
         "1405459.241992384",
         "1106126.6727686026"
        ],
        [
         "41",
         "2019-03-23 00:00:00",
         "758194.2193363636",
         "1191649.0218909092",
         "1243642.9863283788",
         "1213856.8233387019"
        ],
        [
         "42",
         "2019-03-24 00:00:00",
         "1647653.0713",
         "1343662.0721909092",
         "1344645.5075712842",
         "1249033.4896144357"
        ],
        [
         "43",
         "2019-03-25 00:00:00",
         "892484.6784",
         "1331747.7253051947",
         "1231605.3002784632",
         "1180634.2627527602"
        ],
        [
         "44",
         "2019-03-26 00:00:00",
         "391124.0056",
         "1169208.2048337662",
         "1021484.9766088473",
         "1154638.1692295126"
        ],
        [
         "45",
         "2019-03-27 00:00:00",
         "631330.4456543124",
         "1206455.0382129536",
         "923946.3438702135",
         "1102123.219073447"
        ],
        [
         "46",
         "2019-03-28 00:00:00",
         "1558623.1821",
         "1019386.7730843822",
         "1082615.5534276601",
         "837055.1563750086"
        ],
        [
         "47",
         "2019-03-29 00:00:00",
         "1955623.8327030302",
         "1119290.4907276721",
         "1300867.6232465026",
         "873621.9923691417"
        ],
        [
         "48",
         "2019-03-30 00:00:00",
         "491882.4411",
         "1081245.9509796205",
         "1098621.327709877",
         "971447.1302960301"
        ],
        [
         "49",
         "2019-03-31 00:00:00",
         "1039507.2589",
         "994367.9777796204",
         "1083842.8105074076",
         "980407.0762312667"
        ]
       ],
       "shape": {
        "columns": 5,
        "rows": 681
       }
      },
      "text/html": [
       "<div>\n",
       "<style scoped>\n",
       "    .dataframe tbody tr th:only-of-type {\n",
       "        vertical-align: middle;\n",
       "    }\n",
       "\n",
       "    .dataframe tbody tr th {\n",
       "        vertical-align: top;\n",
       "    }\n",
       "\n",
       "    .dataframe thead th {\n",
       "        text-align: right;\n",
       "    }\n",
       "</style>\n",
       "<table border=\"1\" class=\"dataframe\">\n",
       "  <thead>\n",
       "    <tr style=\"text-align: right;\">\n",
       "      <th></th>\n",
       "      <th>h_fec_lld_ok</th>\n",
       "      <th>h_tfa_total</th>\n",
       "      <th>smoothed</th>\n",
       "      <th>smoothed2</th>\n",
       "      <th>smoothed3</th>\n",
       "    </tr>\n",
       "  </thead>\n",
       "  <tbody>\n",
       "    <tr>\n",
       "      <th>0</th>\n",
       "      <td>2019-02-05</td>\n",
       "      <td>6.728000e+02</td>\n",
       "      <td>NaN</td>\n",
       "      <td>672.800000</td>\n",
       "      <td>2.556075e+05</td>\n",
       "    </tr>\n",
       "    <tr>\n",
       "      <th>1</th>\n",
       "      <td>2019-02-06</td>\n",
       "      <td>1.105200e+04</td>\n",
       "      <td>NaN</td>\n",
       "      <td>3267.600000</td>\n",
       "      <td>5.139218e+05</td>\n",
       "    </tr>\n",
       "    <tr>\n",
       "      <th>2</th>\n",
       "      <td>2019-02-12</td>\n",
       "      <td>1.899920e+04</td>\n",
       "      <td>NaN</td>\n",
       "      <td>7200.500000</td>\n",
       "      <td>7.393984e+05</td>\n",
       "    </tr>\n",
       "    <tr>\n",
       "      <th>3</th>\n",
       "      <td>2019-02-13</td>\n",
       "      <td>2.593320e+06</td>\n",
       "      <td>NaN</td>\n",
       "      <td>653730.373708</td>\n",
       "      <td>9.320373e+05</td>\n",
       "    </tr>\n",
       "    <tr>\n",
       "      <th>4</th>\n",
       "      <td>2019-02-14</td>\n",
       "      <td>1.519103e+06</td>\n",
       "      <td>NaN</td>\n",
       "      <td>870073.407775</td>\n",
       "      <td>1.091839e+06</td>\n",
       "    </tr>\n",
       "    <tr>\n",
       "      <th>...</th>\n",
       "      <td>...</td>\n",
       "      <td>...</td>\n",
       "      <td>...</td>\n",
       "      <td>...</td>\n",
       "      <td>...</td>\n",
       "    </tr>\n",
       "    <tr>\n",
       "      <th>676</th>\n",
       "      <td>2020-12-25</td>\n",
       "      <td>3.877740e+04</td>\n",
       "      <td>438878.822258</td>\n",
       "      <td>443346.818266</td>\n",
       "      <td>5.172565e+05</td>\n",
       "    </tr>\n",
       "    <tr>\n",
       "      <th>677</th>\n",
       "      <td>2020-12-26</td>\n",
       "      <td>1.718680e+06</td>\n",
       "      <td>627977.595115</td>\n",
       "      <td>762180.033699</td>\n",
       "      <td>5.107749e+05</td>\n",
       "    </tr>\n",
       "    <tr>\n",
       "      <th>678</th>\n",
       "      <td>2020-12-27</td>\n",
       "      <td>4.606200e+04</td>\n",
       "      <td>632748.309401</td>\n",
       "      <td>583150.525274</td>\n",
       "      <td>5.014832e+05</td>\n",
       "    </tr>\n",
       "    <tr>\n",
       "      <th>679</th>\n",
       "      <td>2020-12-28</td>\n",
       "      <td>4.478400e+04</td>\n",
       "      <td>619656.023686</td>\n",
       "      <td>448558.893956</td>\n",
       "      <td>4.893817e+05</td>\n",
       "    </tr>\n",
       "    <tr>\n",
       "      <th>680</th>\n",
       "      <td>2020-12-29</td>\n",
       "      <td>5.419020e+05</td>\n",
       "      <td>624211.595115</td>\n",
       "      <td>471894.670467</td>\n",
       "      <td>4.744703e+05</td>\n",
       "    </tr>\n",
       "  </tbody>\n",
       "</table>\n",
       "<p>681 rows × 5 columns</p>\n",
       "</div>"
      ],
      "text/plain": [
       "    h_fec_lld_ok   h_tfa_total       smoothed      smoothed2     smoothed3\n",
       "0     2019-02-05  6.728000e+02            NaN     672.800000  2.556075e+05\n",
       "1     2019-02-06  1.105200e+04            NaN    3267.600000  5.139218e+05\n",
       "2     2019-02-12  1.899920e+04            NaN    7200.500000  7.393984e+05\n",
       "3     2019-02-13  2.593320e+06            NaN  653730.373708  9.320373e+05\n",
       "4     2019-02-14  1.519103e+06            NaN  870073.407775  1.091839e+06\n",
       "..           ...           ...            ...            ...           ...\n",
       "676   2020-12-25  3.877740e+04  438878.822258  443346.818266  5.172565e+05\n",
       "677   2020-12-26  1.718680e+06  627977.595115  762180.033699  5.107749e+05\n",
       "678   2020-12-27  4.606200e+04  632748.309401  583150.525274  5.014832e+05\n",
       "679   2020-12-28  4.478400e+04  619656.023686  448558.893956  4.893817e+05\n",
       "680   2020-12-29  5.419020e+05  624211.595115  471894.670467  4.744703e+05\n",
       "\n",
       "[681 rows x 5 columns]"
      ]
     },
     "execution_count": 8,
     "metadata": {},
     "output_type": "execute_result"
    }
   ],
   "source": [
    "df2"
   ]
  },
  {
   "cell_type": "code",
   "execution_count": 9,
   "id": "e83ba2b9",
   "metadata": {},
   "outputs": [
    {
     "data": {
      "text/plain": [
       "0     2019-02-05\n",
       "1     2019-02-06\n",
       "2     2019-02-12\n",
       "3     2019-02-13\n",
       "4     2019-02-14\n",
       "         ...    \n",
       "676   2020-12-25\n",
       "677   2020-12-26\n",
       "678   2020-12-27\n",
       "679   2020-12-28\n",
       "680   2020-12-29\n",
       "Name: h_fec_lld_ok, Length: 681, dtype: datetime64[ns]"
      ]
     },
     "execution_count": 9,
     "metadata": {},
     "output_type": "execute_result"
    }
   ],
   "source": [
    "df2['h_fec_lld_ok']\n"
   ]
  },
  {
   "cell_type": "markdown",
   "id": "63a6dfb0",
   "metadata": {},
   "source": [
    "## Prophet"
   ]
  },
  {
   "cell_type": "code",
   "execution_count": 10,
   "id": "780502d8",
   "metadata": {},
   "outputs": [],
   "source": [
    "import itertools\n",
    "import holidays\n",
    "from prophet import Prophet\n",
    "from prophet.diagnostics import cross_validation, performance_metrics\n",
    "from prophet.plot import plot_plotly, plot_components_plotly"
   ]
  },
  {
   "cell_type": "code",
   "execution_count": 11,
   "id": "ab817f97",
   "metadata": {},
   "outputs": [
    {
     "data": {
      "application/vnd.microsoft.datawrangler.viewer.v0+json": {
       "columns": [
        {
         "name": "index",
         "rawType": "int64",
         "type": "integer"
        },
        {
         "name": "h_fec_lld_ok",
         "rawType": "datetime64[ns]",
         "type": "datetime"
        },
        {
         "name": "smoothed2",
         "rawType": "float64",
         "type": "float"
        }
       ],
       "conversionMethod": "pd.DataFrame",
       "ref": "7e9dc5bb-34ef-43a7-94ca-9b19a23ef8b4",
       "rows": [
        [
         "0",
         "2019-02-05 00:00:00",
         "672.8"
        ],
        [
         "1",
         "2019-02-06 00:00:00",
         "3267.6"
        ],
        [
         "2",
         "2019-02-12 00:00:00",
         "7200.5"
        ],
        [
         "3",
         "2019-02-13 00:00:00",
         "653730.3737083334"
        ],
        [
         "4",
         "2019-02-14 00:00:00",
         "870073.407775"
        ],
        [
         "5",
         "2019-02-15 00:00:00",
         "1173786.2451917764"
        ],
        [
         "6",
         "2019-02-16 00:00:00",
         "1081017.7847479992"
        ],
        [
         "7",
         "2019-02-17 00:00:00",
         "1129780.3970359995"
        ],
        [
         "8",
         "2019-02-18 00:00:00",
         "1111662.6641769996"
        ],
        [
         "9",
         "2019-02-19 00:00:00",
         "899675.2681327497"
        ],
        [
         "10",
         "2019-02-20 00:00:00",
         "1047716.4637495622"
        ],
        [
         "11",
         "2019-02-21 00:00:00",
         "1118322.951487929"
        ],
        [
         "12",
         "2019-02-22 00:00:00",
         "1176371.8963909468"
        ],
        [
         "13",
         "2019-02-23 00:00:00",
         "1134775.2680432103"
        ],
        [
         "14",
         "2019-02-24 00:00:00",
         "1152484.1983824077"
        ],
        [
         "15",
         "2019-02-25 00:00:00",
         "1098028.9874868058"
        ],
        [
         "16",
         "2019-02-26 00:00:00",
         "910519.3460651044"
        ],
        [
         "17",
         "2019-02-27 00:00:00",
         "724578.7252488283"
        ],
        [
         "18",
         "2019-02-28 00:00:00",
         "841255.8903678712"
        ],
        [
         "19",
         "2019-03-01 00:00:00",
         "1244027.2681259033"
        ],
        [
         "20",
         "2019-03-02 00:00:00",
         "1112342.6086535184"
        ],
        [
         "21",
         "2019-03-03 00:00:00",
         "1081625.440899788"
        ],
        [
         "22",
         "2019-03-04 00:00:00",
         "1202517.8302081744"
        ],
        [
         "23",
         "2019-03-05 00:00:00",
         "1060651.4544311308"
        ],
        [
         "24",
         "2019-03-06 00:00:00",
         "936706.8341983481"
        ],
        [
         "25",
         "2019-03-07 00:00:00",
         "1119794.5345661852"
        ],
        [
         "26",
         "2019-03-08 00:00:00",
         "1346081.635399639"
        ],
        [
         "27",
         "2019-03-09 00:00:00",
         "1215245.5174747293"
        ],
        [
         "28",
         "2019-03-10 00:00:00",
         "1167058.9948746718"
        ],
        [
         "29",
         "2019-03-11 00:00:00",
         "1106328.8596810037"
        ],
        [
         "30",
         "2019-03-12 00:00:00",
         "929432.9897607528"
        ],
        [
         "31",
         "2019-03-13 00:00:00",
         "802357.2266205646"
        ],
        [
         "32",
         "2019-03-14 00:00:00",
         "959179.9515154234"
        ],
        [
         "33",
         "2019-03-15 00:00:00",
         "1179286.4065001458"
        ],
        [
         "34",
         "2019-03-16 00:00:00",
         "1283492.5161251093"
        ],
        [
         "35",
         "2019-03-17 00:00:00",
         "1108509.816893832"
        ],
        [
         "36",
         "2019-03-18 00:00:00",
         "1075353.639320374"
        ],
        [
         "37",
         "2019-03-19 00:00:00",
         "1188740.3917152805"
        ],
        [
         "38",
         "2019-03-20 00:00:00",
         "984205.9467864604"
        ],
        [
         "39",
         "2019-03-21 00:00:00",
         "1455179.7195898453"
        ],
        [
         "40",
         "2019-03-22 00:00:00",
         "1405459.241992384"
        ],
        [
         "41",
         "2019-03-23 00:00:00",
         "1243642.9863283788"
        ],
        [
         "42",
         "2019-03-24 00:00:00",
         "1344645.5075712842"
        ],
        [
         "43",
         "2019-03-25 00:00:00",
         "1231605.3002784632"
        ],
        [
         "44",
         "2019-03-26 00:00:00",
         "1021484.9766088473"
        ],
        [
         "45",
         "2019-03-27 00:00:00",
         "923946.3438702135"
        ],
        [
         "46",
         "2019-03-28 00:00:00",
         "1082615.5534276601"
        ],
        [
         "47",
         "2019-03-29 00:00:00",
         "1300867.6232465026"
        ],
        [
         "48",
         "2019-03-30 00:00:00",
         "1098621.327709877"
        ],
        [
         "49",
         "2019-03-31 00:00:00",
         "1083842.8105074076"
        ]
       ],
       "shape": {
        "columns": 2,
        "rows": 681
       }
      },
      "text/html": [
       "<div>\n",
       "<style scoped>\n",
       "    .dataframe tbody tr th:only-of-type {\n",
       "        vertical-align: middle;\n",
       "    }\n",
       "\n",
       "    .dataframe tbody tr th {\n",
       "        vertical-align: top;\n",
       "    }\n",
       "\n",
       "    .dataframe thead th {\n",
       "        text-align: right;\n",
       "    }\n",
       "</style>\n",
       "<table border=\"1\" class=\"dataframe\">\n",
       "  <thead>\n",
       "    <tr style=\"text-align: right;\">\n",
       "      <th></th>\n",
       "      <th>h_fec_lld_ok</th>\n",
       "      <th>smoothed2</th>\n",
       "    </tr>\n",
       "  </thead>\n",
       "  <tbody>\n",
       "    <tr>\n",
       "      <th>0</th>\n",
       "      <td>2019-02-05</td>\n",
       "      <td>672.800000</td>\n",
       "    </tr>\n",
       "    <tr>\n",
       "      <th>1</th>\n",
       "      <td>2019-02-06</td>\n",
       "      <td>3267.600000</td>\n",
       "    </tr>\n",
       "    <tr>\n",
       "      <th>2</th>\n",
       "      <td>2019-02-12</td>\n",
       "      <td>7200.500000</td>\n",
       "    </tr>\n",
       "    <tr>\n",
       "      <th>3</th>\n",
       "      <td>2019-02-13</td>\n",
       "      <td>653730.373708</td>\n",
       "    </tr>\n",
       "    <tr>\n",
       "      <th>4</th>\n",
       "      <td>2019-02-14</td>\n",
       "      <td>870073.407775</td>\n",
       "    </tr>\n",
       "    <tr>\n",
       "      <th>...</th>\n",
       "      <td>...</td>\n",
       "      <td>...</td>\n",
       "    </tr>\n",
       "    <tr>\n",
       "      <th>676</th>\n",
       "      <td>2020-12-25</td>\n",
       "      <td>443346.818266</td>\n",
       "    </tr>\n",
       "    <tr>\n",
       "      <th>677</th>\n",
       "      <td>2020-12-26</td>\n",
       "      <td>762180.033699</td>\n",
       "    </tr>\n",
       "    <tr>\n",
       "      <th>678</th>\n",
       "      <td>2020-12-27</td>\n",
       "      <td>583150.525274</td>\n",
       "    </tr>\n",
       "    <tr>\n",
       "      <th>679</th>\n",
       "      <td>2020-12-28</td>\n",
       "      <td>448558.893956</td>\n",
       "    </tr>\n",
       "    <tr>\n",
       "      <th>680</th>\n",
       "      <td>2020-12-29</td>\n",
       "      <td>471894.670467</td>\n",
       "    </tr>\n",
       "  </tbody>\n",
       "</table>\n",
       "<p>681 rows × 2 columns</p>\n",
       "</div>"
      ],
      "text/plain": [
       "    h_fec_lld_ok      smoothed2\n",
       "0     2019-02-05     672.800000\n",
       "1     2019-02-06    3267.600000\n",
       "2     2019-02-12    7200.500000\n",
       "3     2019-02-13  653730.373708\n",
       "4     2019-02-14  870073.407775\n",
       "..           ...            ...\n",
       "676   2020-12-25  443346.818266\n",
       "677   2020-12-26  762180.033699\n",
       "678   2020-12-27  583150.525274\n",
       "679   2020-12-28  448558.893956\n",
       "680   2020-12-29  471894.670467\n",
       "\n",
       "[681 rows x 2 columns]"
      ]
     },
     "execution_count": 11,
     "metadata": {},
     "output_type": "execute_result"
    }
   ],
   "source": [
    "df_prophet=df2[[\"h_fec_lld_ok\",\"smoothed2\"]]\n",
    "df_prophet"
   ]
  },
  {
   "cell_type": "code",
   "execution_count": null,
   "id": "a9032c7a",
   "metadata": {},
   "outputs": [],
   "source": [
    "#Camibiar el nombre de la variable de tiempo y la que se quiere predecir, para que el modelo prophet pueda reconocerlas\n",
    "df_prophet= df_prophet[['h_fec_lld_ok', 'smoothed2']].rename(columns={'h_fec_lld_ok': 'ds','smoothed2': 'y'})"
   ]
  },
  {
   "cell_type": "code",
   "execution_count": 13,
   "id": "88dde9e3",
   "metadata": {},
   "outputs": [
    {
     "data": {
      "application/vnd.microsoft.datawrangler.viewer.v0+json": {
       "columns": [
        {
         "name": "index",
         "rawType": "int64",
         "type": "integer"
        },
        {
         "name": "ds",
         "rawType": "datetime64[ns]",
         "type": "datetime"
        },
        {
         "name": "y",
         "rawType": "float64",
         "type": "float"
        }
       ],
       "conversionMethod": "pd.DataFrame",
       "ref": "467d199c-bd81-4e07-bfb1-30a6b9940830",
       "rows": [
        [
         "0",
         "2019-02-05 00:00:00",
         "672.8"
        ],
        [
         "1",
         "2019-02-06 00:00:00",
         "3267.6"
        ],
        [
         "2",
         "2019-02-12 00:00:00",
         "7200.5"
        ],
        [
         "3",
         "2019-02-13 00:00:00",
         "653730.3737083334"
        ],
        [
         "4",
         "2019-02-14 00:00:00",
         "870073.407775"
        ],
        [
         "5",
         "2019-02-15 00:00:00",
         "1173786.2451917764"
        ],
        [
         "6",
         "2019-02-16 00:00:00",
         "1081017.7847479992"
        ],
        [
         "7",
         "2019-02-17 00:00:00",
         "1129780.3970359995"
        ],
        [
         "8",
         "2019-02-18 00:00:00",
         "1111662.6641769996"
        ],
        [
         "9",
         "2019-02-19 00:00:00",
         "899675.2681327497"
        ],
        [
         "10",
         "2019-02-20 00:00:00",
         "1047716.4637495622"
        ],
        [
         "11",
         "2019-02-21 00:00:00",
         "1118322.951487929"
        ],
        [
         "12",
         "2019-02-22 00:00:00",
         "1176371.8963909468"
        ],
        [
         "13",
         "2019-02-23 00:00:00",
         "1134775.2680432103"
        ],
        [
         "14",
         "2019-02-24 00:00:00",
         "1152484.1983824077"
        ],
        [
         "15",
         "2019-02-25 00:00:00",
         "1098028.9874868058"
        ],
        [
         "16",
         "2019-02-26 00:00:00",
         "910519.3460651044"
        ],
        [
         "17",
         "2019-02-27 00:00:00",
         "724578.7252488283"
        ],
        [
         "18",
         "2019-02-28 00:00:00",
         "841255.8903678712"
        ],
        [
         "19",
         "2019-03-01 00:00:00",
         "1244027.2681259033"
        ],
        [
         "20",
         "2019-03-02 00:00:00",
         "1112342.6086535184"
        ],
        [
         "21",
         "2019-03-03 00:00:00",
         "1081625.440899788"
        ],
        [
         "22",
         "2019-03-04 00:00:00",
         "1202517.8302081744"
        ],
        [
         "23",
         "2019-03-05 00:00:00",
         "1060651.4544311308"
        ],
        [
         "24",
         "2019-03-06 00:00:00",
         "936706.8341983481"
        ],
        [
         "25",
         "2019-03-07 00:00:00",
         "1119794.5345661852"
        ],
        [
         "26",
         "2019-03-08 00:00:00",
         "1346081.635399639"
        ],
        [
         "27",
         "2019-03-09 00:00:00",
         "1215245.5174747293"
        ],
        [
         "28",
         "2019-03-10 00:00:00",
         "1167058.9948746718"
        ],
        [
         "29",
         "2019-03-11 00:00:00",
         "1106328.8596810037"
        ],
        [
         "30",
         "2019-03-12 00:00:00",
         "929432.9897607528"
        ],
        [
         "31",
         "2019-03-13 00:00:00",
         "802357.2266205646"
        ],
        [
         "32",
         "2019-03-14 00:00:00",
         "959179.9515154234"
        ],
        [
         "33",
         "2019-03-15 00:00:00",
         "1179286.4065001458"
        ],
        [
         "34",
         "2019-03-16 00:00:00",
         "1283492.5161251093"
        ],
        [
         "35",
         "2019-03-17 00:00:00",
         "1108509.816893832"
        ],
        [
         "36",
         "2019-03-18 00:00:00",
         "1075353.639320374"
        ],
        [
         "37",
         "2019-03-19 00:00:00",
         "1188740.3917152805"
        ],
        [
         "38",
         "2019-03-20 00:00:00",
         "984205.9467864604"
        ],
        [
         "39",
         "2019-03-21 00:00:00",
         "1455179.7195898453"
        ],
        [
         "40",
         "2019-03-22 00:00:00",
         "1405459.241992384"
        ],
        [
         "41",
         "2019-03-23 00:00:00",
         "1243642.9863283788"
        ],
        [
         "42",
         "2019-03-24 00:00:00",
         "1344645.5075712842"
        ],
        [
         "43",
         "2019-03-25 00:00:00",
         "1231605.3002784632"
        ],
        [
         "44",
         "2019-03-26 00:00:00",
         "1021484.9766088473"
        ],
        [
         "45",
         "2019-03-27 00:00:00",
         "923946.3438702135"
        ],
        [
         "46",
         "2019-03-28 00:00:00",
         "1082615.5534276601"
        ],
        [
         "47",
         "2019-03-29 00:00:00",
         "1300867.6232465026"
        ],
        [
         "48",
         "2019-03-30 00:00:00",
         "1098621.327709877"
        ],
        [
         "49",
         "2019-03-31 00:00:00",
         "1083842.8105074076"
        ]
       ],
       "shape": {
        "columns": 2,
        "rows": 681
       }
      },
      "text/html": [
       "<div>\n",
       "<style scoped>\n",
       "    .dataframe tbody tr th:only-of-type {\n",
       "        vertical-align: middle;\n",
       "    }\n",
       "\n",
       "    .dataframe tbody tr th {\n",
       "        vertical-align: top;\n",
       "    }\n",
       "\n",
       "    .dataframe thead th {\n",
       "        text-align: right;\n",
       "    }\n",
       "</style>\n",
       "<table border=\"1\" class=\"dataframe\">\n",
       "  <thead>\n",
       "    <tr style=\"text-align: right;\">\n",
       "      <th></th>\n",
       "      <th>ds</th>\n",
       "      <th>y</th>\n",
       "    </tr>\n",
       "  </thead>\n",
       "  <tbody>\n",
       "    <tr>\n",
       "      <th>0</th>\n",
       "      <td>2019-02-05</td>\n",
       "      <td>672.800000</td>\n",
       "    </tr>\n",
       "    <tr>\n",
       "      <th>1</th>\n",
       "      <td>2019-02-06</td>\n",
       "      <td>3267.600000</td>\n",
       "    </tr>\n",
       "    <tr>\n",
       "      <th>2</th>\n",
       "      <td>2019-02-12</td>\n",
       "      <td>7200.500000</td>\n",
       "    </tr>\n",
       "    <tr>\n",
       "      <th>3</th>\n",
       "      <td>2019-02-13</td>\n",
       "      <td>653730.373708</td>\n",
       "    </tr>\n",
       "    <tr>\n",
       "      <th>4</th>\n",
       "      <td>2019-02-14</td>\n",
       "      <td>870073.407775</td>\n",
       "    </tr>\n",
       "    <tr>\n",
       "      <th>...</th>\n",
       "      <td>...</td>\n",
       "      <td>...</td>\n",
       "    </tr>\n",
       "    <tr>\n",
       "      <th>676</th>\n",
       "      <td>2020-12-25</td>\n",
       "      <td>443346.818266</td>\n",
       "    </tr>\n",
       "    <tr>\n",
       "      <th>677</th>\n",
       "      <td>2020-12-26</td>\n",
       "      <td>762180.033699</td>\n",
       "    </tr>\n",
       "    <tr>\n",
       "      <th>678</th>\n",
       "      <td>2020-12-27</td>\n",
       "      <td>583150.525274</td>\n",
       "    </tr>\n",
       "    <tr>\n",
       "      <th>679</th>\n",
       "      <td>2020-12-28</td>\n",
       "      <td>448558.893956</td>\n",
       "    </tr>\n",
       "    <tr>\n",
       "      <th>680</th>\n",
       "      <td>2020-12-29</td>\n",
       "      <td>471894.670467</td>\n",
       "    </tr>\n",
       "  </tbody>\n",
       "</table>\n",
       "<p>681 rows × 2 columns</p>\n",
       "</div>"
      ],
      "text/plain": [
       "            ds              y\n",
       "0   2019-02-05     672.800000\n",
       "1   2019-02-06    3267.600000\n",
       "2   2019-02-12    7200.500000\n",
       "3   2019-02-13  653730.373708\n",
       "4   2019-02-14  870073.407775\n",
       "..         ...            ...\n",
       "676 2020-12-25  443346.818266\n",
       "677 2020-12-26  762180.033699\n",
       "678 2020-12-27  583150.525274\n",
       "679 2020-12-28  448558.893956\n",
       "680 2020-12-29  471894.670467\n",
       "\n",
       "[681 rows x 2 columns]"
      ]
     },
     "execution_count": 13,
     "metadata": {},
     "output_type": "execute_result"
    }
   ],
   "source": [
    "df_prophet"
   ]
  },
  {
   "cell_type": "code",
   "execution_count": 14,
   "id": "79e81ad4",
   "metadata": {},
   "outputs": [
    {
     "data": {
      "application/vnd.plotly.v1+json": {
       "config": {
        "plotlyServerURL": "https://plot.ly"
       },
       "data": [
        {
         "hovertemplate": "ds=%{x}<br>y=%{y}<extra></extra>",
         "legendgroup": "",
         "line": {
          "color": "#636efa",
          "dash": "solid"
         },
         "marker": {
          "symbol": "circle"
         },
         "mode": "lines",
         "name": "",
         "orientation": "v",
         "showlegend": false,
         "type": "scatter",
         "x": [
          "2019-02-05T00:00:00",
          "2019-02-06T00:00:00",
          "2019-02-12T00:00:00",
          "2019-02-13T00:00:00",
          "2019-02-14T00:00:00",
          "2019-02-15T00:00:00",
          "2019-02-16T00:00:00",
          "2019-02-17T00:00:00",
          "2019-02-18T00:00:00",
          "2019-02-19T00:00:00",
          "2019-02-20T00:00:00",
          "2019-02-21T00:00:00",
          "2019-02-22T00:00:00",
          "2019-02-23T00:00:00",
          "2019-02-24T00:00:00",
          "2019-02-25T00:00:00",
          "2019-02-26T00:00:00",
          "2019-02-27T00:00:00",
          "2019-02-28T00:00:00",
          "2019-03-01T00:00:00",
          "2019-03-02T00:00:00",
          "2019-03-03T00:00:00",
          "2019-03-04T00:00:00",
          "2019-03-05T00:00:00",
          "2019-03-06T00:00:00",
          "2019-03-07T00:00:00",
          "2019-03-08T00:00:00",
          "2019-03-09T00:00:00",
          "2019-03-10T00:00:00",
          "2019-03-11T00:00:00",
          "2019-03-12T00:00:00",
          "2019-03-13T00:00:00",
          "2019-03-14T00:00:00",
          "2019-03-15T00:00:00",
          "2019-03-16T00:00:00",
          "2019-03-17T00:00:00",
          "2019-03-18T00:00:00",
          "2019-03-19T00:00:00",
          "2019-03-20T00:00:00",
          "2019-03-21T00:00:00",
          "2019-03-22T00:00:00",
          "2019-03-23T00:00:00",
          "2019-03-24T00:00:00",
          "2019-03-25T00:00:00",
          "2019-03-26T00:00:00",
          "2019-03-27T00:00:00",
          "2019-03-28T00:00:00",
          "2019-03-29T00:00:00",
          "2019-03-30T00:00:00",
          "2019-03-31T00:00:00",
          "2019-04-01T00:00:00",
          "2019-04-02T00:00:00",
          "2019-04-03T00:00:00",
          "2019-04-04T00:00:00",
          "2019-04-05T00:00:00",
          "2019-04-06T00:00:00",
          "2019-04-07T00:00:00",
          "2019-04-08T00:00:00",
          "2019-04-09T00:00:00",
          "2019-04-10T00:00:00",
          "2019-04-11T00:00:00",
          "2019-04-12T00:00:00",
          "2019-04-13T00:00:00",
          "2019-04-14T00:00:00",
          "2019-04-15T00:00:00",
          "2019-04-16T00:00:00",
          "2019-04-17T00:00:00",
          "2019-04-18T00:00:00",
          "2019-04-19T00:00:00",
          "2019-04-20T00:00:00",
          "2019-04-21T00:00:00",
          "2019-04-22T00:00:00",
          "2019-04-23T00:00:00",
          "2019-04-24T00:00:00",
          "2019-04-25T00:00:00",
          "2019-04-26T00:00:00",
          "2019-04-27T00:00:00",
          "2019-04-28T00:00:00",
          "2019-04-29T00:00:00",
          "2019-04-30T00:00:00",
          "2019-05-01T00:00:00",
          "2019-05-02T00:00:00",
          "2019-05-03T00:00:00",
          "2019-05-04T00:00:00",
          "2019-05-05T00:00:00",
          "2019-05-06T00:00:00",
          "2019-05-07T00:00:00",
          "2019-05-08T00:00:00",
          "2019-05-09T00:00:00",
          "2019-05-10T00:00:00",
          "2019-05-11T00:00:00",
          "2019-05-12T00:00:00",
          "2019-05-13T00:00:00",
          "2019-05-14T00:00:00",
          "2019-05-15T00:00:00",
          "2019-05-16T00:00:00",
          "2019-05-17T00:00:00",
          "2019-05-18T00:00:00",
          "2019-05-19T00:00:00",
          "2019-05-20T00:00:00",
          "2019-05-21T00:00:00",
          "2019-05-22T00:00:00",
          "2019-05-23T00:00:00",
          "2019-05-24T00:00:00",
          "2019-05-25T00:00:00",
          "2019-05-26T00:00:00",
          "2019-05-27T00:00:00",
          "2019-05-28T00:00:00",
          "2019-05-29T00:00:00",
          "2019-05-30T00:00:00",
          "2019-05-31T00:00:00",
          "2019-06-01T00:00:00",
          "2019-06-02T00:00:00",
          "2019-06-03T00:00:00",
          "2019-06-04T00:00:00",
          "2019-06-05T00:00:00",
          "2019-06-06T00:00:00",
          "2019-06-07T00:00:00",
          "2019-06-08T00:00:00",
          "2019-06-09T00:00:00",
          "2019-06-10T00:00:00",
          "2019-06-11T00:00:00",
          "2019-06-12T00:00:00",
          "2019-06-13T00:00:00",
          "2019-06-14T00:00:00",
          "2019-06-15T00:00:00",
          "2019-06-16T00:00:00",
          "2019-06-17T00:00:00",
          "2019-06-18T00:00:00",
          "2019-06-19T00:00:00",
          "2019-06-20T00:00:00",
          "2019-06-21T00:00:00",
          "2019-06-22T00:00:00",
          "2019-06-23T00:00:00",
          "2019-06-24T00:00:00",
          "2019-06-25T00:00:00",
          "2019-06-26T00:00:00",
          "2019-06-27T00:00:00",
          "2019-06-28T00:00:00",
          "2019-06-29T00:00:00",
          "2019-06-30T00:00:00",
          "2019-07-01T00:00:00",
          "2019-07-02T00:00:00",
          "2019-07-03T00:00:00",
          "2019-07-04T00:00:00",
          "2019-07-05T00:00:00",
          "2019-07-06T00:00:00",
          "2019-07-07T00:00:00",
          "2019-07-08T00:00:00",
          "2019-07-09T00:00:00",
          "2019-07-10T00:00:00",
          "2019-07-11T00:00:00",
          "2019-07-12T00:00:00",
          "2019-07-13T00:00:00",
          "2019-07-14T00:00:00",
          "2019-07-15T00:00:00",
          "2019-07-16T00:00:00",
          "2019-07-17T00:00:00",
          "2019-07-18T00:00:00",
          "2019-07-19T00:00:00",
          "2019-07-20T00:00:00",
          "2019-07-21T00:00:00",
          "2019-07-22T00:00:00",
          "2019-07-23T00:00:00",
          "2019-07-24T00:00:00",
          "2019-07-25T00:00:00",
          "2019-07-26T00:00:00",
          "2019-07-27T00:00:00",
          "2019-07-28T00:00:00",
          "2019-07-29T00:00:00",
          "2019-07-30T00:00:00",
          "2019-07-31T00:00:00",
          "2019-08-01T00:00:00",
          "2019-08-02T00:00:00",
          "2019-08-03T00:00:00",
          "2019-08-04T00:00:00",
          "2019-08-05T00:00:00",
          "2019-08-06T00:00:00",
          "2019-08-07T00:00:00",
          "2019-08-08T00:00:00",
          "2019-08-09T00:00:00",
          "2019-08-10T00:00:00",
          "2019-08-11T00:00:00",
          "2019-08-12T00:00:00",
          "2019-08-13T00:00:00",
          "2019-08-14T00:00:00",
          "2019-08-15T00:00:00",
          "2019-08-16T00:00:00",
          "2019-08-17T00:00:00",
          "2019-08-18T00:00:00",
          "2019-08-19T00:00:00",
          "2019-08-20T00:00:00",
          "2019-08-21T00:00:00",
          "2019-08-22T00:00:00",
          "2019-08-23T00:00:00",
          "2019-08-24T00:00:00",
          "2019-08-25T00:00:00",
          "2019-08-26T00:00:00",
          "2019-08-27T00:00:00",
          "2019-08-28T00:00:00",
          "2019-08-29T00:00:00",
          "2019-08-30T00:00:00",
          "2019-08-31T00:00:00",
          "2019-09-01T00:00:00",
          "2019-09-02T00:00:00",
          "2019-09-03T00:00:00",
          "2019-09-04T00:00:00",
          "2019-09-05T00:00:00",
          "2019-09-06T00:00:00",
          "2019-09-07T00:00:00",
          "2019-09-08T00:00:00",
          "2019-09-09T00:00:00",
          "2019-09-10T00:00:00",
          "2019-09-11T00:00:00",
          "2019-09-12T00:00:00",
          "2019-09-13T00:00:00",
          "2019-09-14T00:00:00",
          "2019-09-15T00:00:00",
          "2019-09-16T00:00:00",
          "2019-09-17T00:00:00",
          "2019-09-18T00:00:00",
          "2019-09-19T00:00:00",
          "2019-09-20T00:00:00",
          "2019-09-21T00:00:00",
          "2019-09-22T00:00:00",
          "2019-09-23T00:00:00",
          "2019-09-24T00:00:00",
          "2019-09-25T00:00:00",
          "2019-09-26T00:00:00",
          "2019-09-27T00:00:00",
          "2019-09-28T00:00:00",
          "2019-09-29T00:00:00",
          "2019-09-30T00:00:00",
          "2019-10-01T00:00:00",
          "2019-10-02T00:00:00",
          "2019-10-03T00:00:00",
          "2019-10-04T00:00:00",
          "2019-10-05T00:00:00",
          "2019-10-06T00:00:00",
          "2019-10-07T00:00:00",
          "2019-10-08T00:00:00",
          "2019-10-09T00:00:00",
          "2019-10-10T00:00:00",
          "2019-10-11T00:00:00",
          "2019-10-12T00:00:00",
          "2019-10-13T00:00:00",
          "2019-10-14T00:00:00",
          "2019-10-15T00:00:00",
          "2019-10-16T00:00:00",
          "2019-10-17T00:00:00",
          "2019-10-18T00:00:00",
          "2019-10-19T00:00:00",
          "2019-10-20T00:00:00",
          "2019-10-21T00:00:00",
          "2019-10-22T00:00:00",
          "2019-10-23T00:00:00",
          "2019-10-24T00:00:00",
          "2019-10-25T00:00:00",
          "2019-10-26T00:00:00",
          "2019-10-27T00:00:00",
          "2019-10-28T00:00:00",
          "2019-10-29T00:00:00",
          "2019-10-30T00:00:00",
          "2019-10-31T00:00:00",
          "2019-11-01T00:00:00",
          "2019-11-02T00:00:00",
          "2019-11-03T00:00:00",
          "2019-11-04T00:00:00",
          "2019-11-05T00:00:00",
          "2019-11-06T00:00:00",
          "2019-11-07T00:00:00",
          "2019-11-08T00:00:00",
          "2019-11-09T00:00:00",
          "2019-11-10T00:00:00",
          "2019-11-11T00:00:00",
          "2019-11-12T00:00:00",
          "2019-11-13T00:00:00",
          "2019-11-14T00:00:00",
          "2019-11-15T00:00:00",
          "2019-11-16T00:00:00",
          "2019-11-17T00:00:00",
          "2019-11-18T00:00:00",
          "2019-11-19T00:00:00",
          "2019-11-20T00:00:00",
          "2019-11-21T00:00:00",
          "2019-11-22T00:00:00",
          "2019-11-23T00:00:00",
          "2019-11-24T00:00:00",
          "2019-11-25T00:00:00",
          "2019-11-26T00:00:00",
          "2019-11-27T00:00:00",
          "2019-11-28T00:00:00",
          "2019-11-29T00:00:00",
          "2019-11-30T00:00:00",
          "2019-12-01T00:00:00",
          "2019-12-02T00:00:00",
          "2019-12-03T00:00:00",
          "2019-12-04T00:00:00",
          "2019-12-05T00:00:00",
          "2019-12-06T00:00:00",
          "2019-12-07T00:00:00",
          "2019-12-08T00:00:00",
          "2019-12-09T00:00:00",
          "2019-12-10T00:00:00",
          "2019-12-11T00:00:00",
          "2019-12-12T00:00:00",
          "2019-12-13T00:00:00",
          "2019-12-14T00:00:00",
          "2019-12-15T00:00:00",
          "2019-12-16T00:00:00",
          "2019-12-17T00:00:00",
          "2019-12-18T00:00:00",
          "2019-12-19T00:00:00",
          "2019-12-20T00:00:00",
          "2019-12-21T00:00:00",
          "2019-12-22T00:00:00",
          "2019-12-23T00:00:00",
          "2019-12-24T00:00:00",
          "2019-12-25T00:00:00",
          "2019-12-26T00:00:00",
          "2019-12-27T00:00:00",
          "2019-12-28T00:00:00",
          "2019-12-29T00:00:00",
          "2019-12-30T00:00:00",
          "2019-12-31T00:00:00",
          "2020-01-01T00:00:00",
          "2020-01-02T00:00:00",
          "2020-01-03T00:00:00",
          "2020-01-04T00:00:00",
          "2020-01-05T00:00:00",
          "2020-01-06T00:00:00",
          "2020-01-07T00:00:00",
          "2020-01-08T00:00:00",
          "2020-01-09T00:00:00",
          "2020-01-10T00:00:00",
          "2020-01-11T00:00:00",
          "2020-01-12T00:00:00",
          "2020-01-13T00:00:00",
          "2020-01-14T00:00:00",
          "2020-01-15T00:00:00",
          "2020-01-16T00:00:00",
          "2020-01-17T00:00:00",
          "2020-01-18T00:00:00",
          "2020-01-19T00:00:00",
          "2020-01-20T00:00:00",
          "2020-01-21T00:00:00",
          "2020-01-22T00:00:00",
          "2020-01-23T00:00:00",
          "2020-01-24T00:00:00",
          "2020-01-25T00:00:00",
          "2020-01-26T00:00:00",
          "2020-01-27T00:00:00",
          "2020-01-28T00:00:00",
          "2020-01-29T00:00:00",
          "2020-01-30T00:00:00",
          "2020-01-31T00:00:00",
          "2020-02-01T00:00:00",
          "2020-02-02T00:00:00",
          "2020-02-03T00:00:00",
          "2020-02-04T00:00:00",
          "2020-02-05T00:00:00",
          "2020-02-06T00:00:00",
          "2020-02-07T00:00:00",
          "2020-02-08T00:00:00",
          "2020-02-09T00:00:00",
          "2020-02-10T00:00:00",
          "2020-02-11T00:00:00",
          "2020-02-12T00:00:00",
          "2020-02-13T00:00:00",
          "2020-02-14T00:00:00",
          "2020-02-15T00:00:00",
          "2020-02-16T00:00:00",
          "2020-02-17T00:00:00",
          "2020-02-18T00:00:00",
          "2020-02-19T00:00:00",
          "2020-02-20T00:00:00",
          "2020-02-21T00:00:00",
          "2020-02-22T00:00:00",
          "2020-02-23T00:00:00",
          "2020-02-24T00:00:00",
          "2020-02-25T00:00:00",
          "2020-02-26T00:00:00",
          "2020-02-27T00:00:00",
          "2020-02-28T00:00:00",
          "2020-02-29T00:00:00",
          "2020-03-01T00:00:00",
          "2020-03-02T00:00:00",
          "2020-03-03T00:00:00",
          "2020-03-04T00:00:00",
          "2020-03-05T00:00:00",
          "2020-03-06T00:00:00",
          "2020-03-07T00:00:00",
          "2020-03-08T00:00:00",
          "2020-03-09T00:00:00",
          "2020-03-10T00:00:00",
          "2020-03-11T00:00:00",
          "2020-03-12T00:00:00",
          "2020-03-13T00:00:00",
          "2020-03-14T00:00:00",
          "2020-03-15T00:00:00",
          "2020-03-16T00:00:00",
          "2020-03-17T00:00:00",
          "2020-03-18T00:00:00",
          "2020-03-19T00:00:00",
          "2020-03-20T00:00:00",
          "2020-03-21T00:00:00",
          "2020-03-22T00:00:00",
          "2020-03-23T00:00:00",
          "2020-03-24T00:00:00",
          "2020-03-25T00:00:00",
          "2020-03-26T00:00:00",
          "2020-03-27T00:00:00",
          "2020-03-28T00:00:00",
          "2020-03-29T00:00:00",
          "2020-03-30T00:00:00",
          "2020-03-31T00:00:00",
          "2020-04-01T00:00:00",
          "2020-04-02T00:00:00",
          "2020-04-03T00:00:00",
          "2020-04-04T00:00:00",
          "2020-04-05T00:00:00",
          "2020-04-06T00:00:00",
          "2020-04-07T00:00:00",
          "2020-04-08T00:00:00",
          "2020-04-09T00:00:00",
          "2020-04-10T00:00:00",
          "2020-04-11T00:00:00",
          "2020-04-12T00:00:00",
          "2020-04-13T00:00:00",
          "2020-04-14T00:00:00",
          "2020-04-15T00:00:00",
          "2020-04-16T00:00:00",
          "2020-04-17T00:00:00",
          "2020-04-18T00:00:00",
          "2020-04-19T00:00:00",
          "2020-04-20T00:00:00",
          "2020-04-21T00:00:00",
          "2020-04-22T00:00:00",
          "2020-04-23T00:00:00",
          "2020-04-24T00:00:00",
          "2020-04-25T00:00:00",
          "2020-04-26T00:00:00",
          "2020-04-27T00:00:00",
          "2020-04-28T00:00:00",
          "2020-04-29T00:00:00",
          "2020-04-30T00:00:00",
          "2020-05-01T00:00:00",
          "2020-05-02T00:00:00",
          "2020-05-03T00:00:00",
          "2020-05-04T00:00:00",
          "2020-05-05T00:00:00",
          "2020-05-06T00:00:00",
          "2020-05-07T00:00:00",
          "2020-05-08T00:00:00",
          "2020-05-09T00:00:00",
          "2020-05-10T00:00:00",
          "2020-05-11T00:00:00",
          "2020-05-12T00:00:00",
          "2020-05-13T00:00:00",
          "2020-05-14T00:00:00",
          "2020-05-15T00:00:00",
          "2020-05-16T00:00:00",
          "2020-05-17T00:00:00",
          "2020-05-18T00:00:00",
          "2020-05-19T00:00:00",
          "2020-05-20T00:00:00",
          "2020-05-21T00:00:00",
          "2020-05-22T00:00:00",
          "2020-05-23T00:00:00",
          "2020-05-24T00:00:00",
          "2020-05-25T00:00:00",
          "2020-05-26T00:00:00",
          "2020-05-27T00:00:00",
          "2020-05-28T00:00:00",
          "2020-05-29T00:00:00",
          "2020-05-30T00:00:00",
          "2020-05-31T00:00:00",
          "2020-06-01T00:00:00",
          "2020-06-02T00:00:00",
          "2020-06-03T00:00:00",
          "2020-06-04T00:00:00",
          "2020-06-05T00:00:00",
          "2020-06-06T00:00:00",
          "2020-06-07T00:00:00",
          "2020-06-08T00:00:00",
          "2020-06-09T00:00:00",
          "2020-06-10T00:00:00",
          "2020-06-11T00:00:00",
          "2020-06-12T00:00:00",
          "2020-06-13T00:00:00",
          "2020-06-14T00:00:00",
          "2020-06-15T00:00:00",
          "2020-06-16T00:00:00",
          "2020-06-17T00:00:00",
          "2020-06-18T00:00:00",
          "2020-06-19T00:00:00",
          "2020-06-20T00:00:00",
          "2020-06-21T00:00:00",
          "2020-06-22T00:00:00",
          "2020-06-23T00:00:00",
          "2020-06-24T00:00:00",
          "2020-06-25T00:00:00",
          "2020-06-26T00:00:00",
          "2020-06-27T00:00:00",
          "2020-06-28T00:00:00",
          "2020-06-29T00:00:00",
          "2020-06-30T00:00:00",
          "2020-07-01T00:00:00",
          "2020-07-02T00:00:00",
          "2020-07-03T00:00:00",
          "2020-07-04T00:00:00",
          "2020-07-05T00:00:00",
          "2020-07-06T00:00:00",
          "2020-07-07T00:00:00",
          "2020-07-08T00:00:00",
          "2020-07-09T00:00:00",
          "2020-07-10T00:00:00",
          "2020-07-11T00:00:00",
          "2020-07-12T00:00:00",
          "2020-07-13T00:00:00",
          "2020-07-14T00:00:00",
          "2020-07-15T00:00:00",
          "2020-07-16T00:00:00",
          "2020-07-17T00:00:00",
          "2020-07-18T00:00:00",
          "2020-07-19T00:00:00",
          "2020-07-20T00:00:00",
          "2020-07-21T00:00:00",
          "2020-07-22T00:00:00",
          "2020-07-23T00:00:00",
          "2020-07-24T00:00:00",
          "2020-07-25T00:00:00",
          "2020-07-26T00:00:00",
          "2020-07-27T00:00:00",
          "2020-07-28T00:00:00",
          "2020-07-29T00:00:00",
          "2020-07-30T00:00:00",
          "2020-07-31T00:00:00",
          "2020-08-01T00:00:00",
          "2020-08-02T00:00:00",
          "2020-08-03T00:00:00",
          "2020-08-04T00:00:00",
          "2020-08-05T00:00:00",
          "2020-08-06T00:00:00",
          "2020-08-07T00:00:00",
          "2020-08-08T00:00:00",
          "2020-08-09T00:00:00",
          "2020-08-10T00:00:00",
          "2020-08-11T00:00:00",
          "2020-08-12T00:00:00",
          "2020-08-13T00:00:00",
          "2020-08-14T00:00:00",
          "2020-08-15T00:00:00",
          "2020-08-16T00:00:00",
          "2020-08-17T00:00:00",
          "2020-08-18T00:00:00",
          "2020-08-19T00:00:00",
          "2020-08-20T00:00:00",
          "2020-08-21T00:00:00",
          "2020-08-22T00:00:00",
          "2020-08-23T00:00:00",
          "2020-08-24T00:00:00",
          "2020-08-25T00:00:00",
          "2020-08-26T00:00:00",
          "2020-08-27T00:00:00",
          "2020-08-28T00:00:00",
          "2020-08-29T00:00:00",
          "2020-08-30T00:00:00",
          "2020-08-31T00:00:00",
          "2020-09-01T00:00:00",
          "2020-09-02T00:00:00",
          "2020-09-03T00:00:00",
          "2020-09-04T00:00:00",
          "2020-09-05T00:00:00",
          "2020-09-06T00:00:00",
          "2020-09-07T00:00:00",
          "2020-09-08T00:00:00",
          "2020-09-09T00:00:00",
          "2020-09-10T00:00:00",
          "2020-09-11T00:00:00",
          "2020-09-12T00:00:00",
          "2020-09-13T00:00:00",
          "2020-09-14T00:00:00",
          "2020-09-15T00:00:00",
          "2020-09-16T00:00:00",
          "2020-09-17T00:00:00",
          "2020-09-18T00:00:00",
          "2020-09-19T00:00:00",
          "2020-09-20T00:00:00",
          "2020-09-21T00:00:00",
          "2020-09-24T00:00:00",
          "2020-09-25T00:00:00",
          "2020-09-26T00:00:00",
          "2020-09-27T00:00:00",
          "2020-09-28T00:00:00",
          "2020-09-29T00:00:00",
          "2020-09-30T00:00:00",
          "2020-10-01T00:00:00",
          "2020-10-02T00:00:00",
          "2020-10-03T00:00:00",
          "2020-10-04T00:00:00",
          "2020-10-05T00:00:00",
          "2020-10-07T00:00:00",
          "2020-10-08T00:00:00",
          "2020-10-09T00:00:00",
          "2020-10-10T00:00:00",
          "2020-10-11T00:00:00",
          "2020-10-12T00:00:00",
          "2020-10-13T00:00:00",
          "2020-10-14T00:00:00",
          "2020-10-15T00:00:00",
          "2020-10-16T00:00:00",
          "2020-10-17T00:00:00",
          "2020-10-18T00:00:00",
          "2020-10-19T00:00:00",
          "2020-10-20T00:00:00",
          "2020-10-21T00:00:00",
          "2020-10-22T00:00:00",
          "2020-10-23T00:00:00",
          "2020-10-24T00:00:00",
          "2020-10-25T00:00:00",
          "2020-10-26T00:00:00",
          "2020-10-27T00:00:00",
          "2020-10-28T00:00:00",
          "2020-10-29T00:00:00",
          "2020-10-30T00:00:00",
          "2020-10-31T00:00:00",
          "2020-11-01T00:00:00",
          "2020-11-02T00:00:00",
          "2020-11-03T00:00:00",
          "2020-11-04T00:00:00",
          "2020-11-05T00:00:00",
          "2020-11-06T00:00:00",
          "2020-11-07T00:00:00",
          "2020-11-08T00:00:00",
          "2020-11-09T00:00:00",
          "2020-11-11T00:00:00",
          "2020-11-12T00:00:00",
          "2020-11-13T00:00:00",
          "2020-11-14T00:00:00",
          "2020-11-15T00:00:00",
          "2020-11-16T00:00:00",
          "2020-11-18T00:00:00",
          "2020-11-19T00:00:00",
          "2020-11-20T00:00:00",
          "2020-11-21T00:00:00",
          "2020-11-22T00:00:00",
          "2020-11-23T00:00:00",
          "2020-11-24T00:00:00",
          "2020-11-25T00:00:00",
          "2020-11-26T00:00:00",
          "2020-11-27T00:00:00",
          "2020-11-28T00:00:00",
          "2020-11-29T00:00:00",
          "2020-11-30T00:00:00",
          "2020-12-01T00:00:00",
          "2020-12-02T00:00:00",
          "2020-12-03T00:00:00",
          "2020-12-04T00:00:00",
          "2020-12-05T00:00:00",
          "2020-12-06T00:00:00",
          "2020-12-07T00:00:00",
          "2020-12-08T00:00:00",
          "2020-12-09T00:00:00",
          "2020-12-10T00:00:00",
          "2020-12-11T00:00:00",
          "2020-12-12T00:00:00",
          "2020-12-13T00:00:00",
          "2020-12-14T00:00:00",
          "2020-12-17T00:00:00",
          "2020-12-19T00:00:00",
          "2020-12-20T00:00:00",
          "2020-12-21T00:00:00",
          "2020-12-22T00:00:00",
          "2020-12-23T00:00:00",
          "2020-12-24T00:00:00",
          "2020-12-25T00:00:00",
          "2020-12-26T00:00:00",
          "2020-12-27T00:00:00",
          "2020-12-28T00:00:00",
          "2020-12-29T00:00:00"
         ],
         "xaxis": "x",
         "y": [
          672.8,
          3267.6,
          7200.5,
          653730.3737083334,
          870073.407775,
          1173786.2451917764,
          1081017.7847479992,
          1129780.3970359995,
          1111662.6641769996,
          899675.2681327497,
          1047716.4637495622,
          1118322.951487929,
          1176371.8963909468,
          1134775.2680432103,
          1152484.1983824077,
          1098028.9874868058,
          910519.3460651044,
          724578.7252488283,
          841255.8903678712,
          1244027.2681259033,
          1112342.6086535184,
          1081625.440899788,
          1202517.8302081744,
          1060651.4544311308,
          936706.8341983481,
          1119794.5345661852,
          1346081.635399639,
          1215245.5174747293,
          1167058.9948746718,
          1106328.8596810037,
          929432.9897607528,
          802357.2266205646,
          959179.9515154234,
          1179286.4065001458,
          1283492.5161251093,
          1108509.816893832,
          1075353.639320374,
          1188740.3917152805,
          984205.9467864604,
          1455179.7195898453,
          1405459.241992384,
          1243642.9863283788,
          1344645.5075712842,
          1231605.3002784632,
          1021484.9766088473,
          923946.3438702135,
          1082615.5534276601,
          1300867.6232465026,
          1098621.327709877,
          1083842.8105074076,
          1033351.8161055557,
          837141.1520791668,
          819909.9238838196,
          1038829.6696076284,
          1308548.0328057213,
          1178442.004983778,
          1134238.7165711669,
          1047479.0732033751,
          888911.3008932655,
          768267.4795699491,
          772235.4801274617,
          941882.4038955963,
          1438495.9558716973,
          1710423.3111121063,
          1653338.40283408,
          1465378.2773255599,
          1376177.6755691702,
          2245540.076448356,
          1976363.0658029336,
          1748835.5360022,
          1902625.25247665,
          2234934.1230074875,
          2080441.7797556156,
          2001273.2666167119,
          2004564.0569935364,
          1888190.4830951523,
          1592655.7330713642,
          2237540.5596535234,
          1906699.3976839653,
          1507467.366212974,
          1300100.9701597304,
          1462170.1921764412,
          1695240.468832331,
          1490921.4910242483,
          1652032.070712009,
          2561952.434047687,
          2049531.0446857652,
          1675204.762764324,
          1682641.4211960474,
          1959170.5685220356,
          1664881.90247635,
          1839147.2811451748,
          2179108.848858881,
          1909200.1366441606,
          3491083.277381139,
          2655933.0909424517,
          2023724.7693371752,
          2139556.0864575766,
          2117617.661452157,
          2027292.9909526957,
          1690920.124069009,
          1612170.8295267567,
          1858086.5090914543,
          2017837.7626935907,
          1694865.154670193,
          1936881.2058693115,
          1875801.7552523916,
          1556209.740507746,
          1246964.1493670316,
          1570147.4582589318,
          1659360.694669199,
          1541255.4946352325,
          1572799.7712688486,
          1459015.6338516364,
          1202031.5185887273,
          1060319.877925961,
          1232622.4310363457,
          1536140.0873863501,
          1368075.3453397625,
          1511342.058954822,
          1596047.1363244497,
          1320754.8205433374,
          1198173.459207503,
          1191441.731480627,
          1623212.1116854702,
          1466533.3649234462,
          1720192.2043478293,
          1743096.2323692054,
          1485693.6079602377,
          1383040.4198568084,
          1881683.901091416,
          1889869.5375506133,
          1628189.78126296,
          2176523.89704722,
          2087564.650785415,
          1791228.8225640613,
          1496205.0848730458,
          1762297.3454592717,
          1767024.103044454,
          1608762.0028333405,
          2293215.1700250055,
          2303373.5714017376,
          1987241.3766763033,
          1755600.9342072275,
          1828859.8187804208,
          1896364.6327797603,
          1865392.5969848202,
          2234716.0253636152,
          2209235.613556045,
          2161405.316342034,
          1921441.6618565256,
          2039375.0719173942,
          2025202.9491491567,
          1964009.2114368675,
          1862740.3737776505,
          1911685.020483238,
          1759164.4789374284,
          1671280.9343114046,
          1971982.8735335534,
          1852760.382400165,
          1783947.2850251237,
          1967690.473468843,
          2203387.920851632,
          2018051.909438724,
          1732470.897354043,
          2068947.5316405324,
          2166212.246555399,
          2088771.5258665495,
          2038808.1193999122,
          2023259.367124934,
          1708689.0053437005,
          1486699.7729327753,
          1711169.7731495816,
          1614705.7529871862,
          1679327.7330653896,
          1628726.3570740423,
          1701874.6770305317,
          1513279.3809228987,
          1361024.327692174,
          1571029.2361691305,
          1691399.890401848,
          1643938.146926386,
          1618710.2140947895,
          1667722.511746092,
          1408951.940009569,
          1306903.6214571767,
          1928133.7159178825,
          1853222.9965634118,
          1801858.1137725587,
          2052602.4758794191,
          1928320.7771845642,
          1582426.740513423,
          1347568.166185067,
          1667666.8252638,
          1726687.792008961,
          1574201.736506721,
          1869218.4035550407,
          1833764.7725162804,
          1480966.1697455437,
          1208989.2139091578,
          1420911.5273568684,
          1643505.1999977794,
          1444643.1223733346,
          1691314.5013050009,
          1508098.8817537506,
          1222777.604915313,
          1021252.2438364847,
          1462783.2631273635,
          1562357.3199955227,
          1280547.098746642,
          1247751.7507349816,
          1147975.0621012363,
          967015.1795759272,
          810385.3812819454,
          815817.199486459,
          1474993.5626148442,
          1828389.125311133,
          1535835.0843083498,
          1659841.4829062624,
          1480827.0790046968,
          1150100.0492535227,
          1293319.115240142,
          1643821.6779406257,
          1403672.4438415803,
          2111225.6384811853,
          1820053.8649144606,
          1479604.8333108455,
          1159265.344699801,
          1099979.3830248506,
          1666334.262879749,
          1673148.7878431452,
          1608539.258982359,
          1428574.106228436,
          1208828.985121327,
          967544.4386409952,
          1152147.2838557465,
          1666529.1212918097,
          1330219.7650188573,
          1326192.583689143,
          1186261.9069668571,
          1202713.400475143,
          1302339.5151313571,
          1334131.152848518,
          1545010.9205863886,
          1291894.9503897915,
          1536089.5345423436,
          1384506.1200067578,
          1069288.6889300684,
          874267.0175475513,
          1187645.5736854135,
          1682680.56173906,
          1296949.996304295,
          1656564.5108066401,
          1582205.92410498,
          1345797.490653735,
          1173669.9439403012,
          1404149.0617302258,
          1725389.8039726694,
          1497404.522729502,
          1571547.3896721266,
          1366098.835379095,
          1062650.3105176548,
          938060.474538241,
          1144914.4908036808,
          1232932.4355027606,
          1023201.8859770704,
          1204970.8833578029,
          1035440.7145433521,
          837106.8023741809,
          849676.0159056357,
          2101807.5011792267,
          1741776.51730942,
          1782924.850707065,
          1787348.5342052989,
          1679399.9811039742,
          1546099.9826279806,
          1496142.3577209855,
          1588589.501140739,
          2219155.426631405,
          1944297.9879306967,
          1584458.3726980225,
          1728102.176073517,
          1437292.6782551378,
          1127699.4157413533,
          1215944.119656015,
          1682900.4415920111,
          1317508.3803440083,
          2068566.4712080064,
          1695124.7499310048,
          1325776.0643482537,
          1157401.3258361903,
          1211479.2114521428,
          1494621.1321391072,
          1223780.8811543304,
          1450503.4046407477,
          1800684.3325805608,
          1406645.6295354206,
          1133734.1892765653,
          1223478.495232424,
          1680726.7347076514,
          1371467.9939557386,
          2024969.5274418038,
          2857646.854756353,
          2327244.2676672647,
          1923620.4685254486,
          1798618.5039940863,
          1887936.2164205646,
          1720729.4006654234,
          1460521.5196919248,
          1334480.2430439438,
          1129831.7428496245,
          965145.7696372183,
          1131655.5397279137,
          1224934.7692959353,
          1359441.8938219515,
          1418485.0407914636,
          1968352.699631693,
          1565460.00972377,
          1244005.9112928277,
          1946704.8242196208,
          1656339.9081647156,
          1574217.6660235368,
          2196461.8838426527,
          2207080.1954569896,
          1752143.7518427423,
          1445786.1671820567,
          2018102.2796032093,
          1857248.992777407,
          1647729.532033055,
          1540097.1574247913,
          1449783.3326185935,
          1303771.2027389451,
          1222815.5419542089,
          1393342.0074406567,
          1238531.4404304926,
          1127237.5580728694,
          1462519.286979652,
          1287277.1464430722,
          1187650.9054073042,
          968252.6812054781,
          1186429.8767791088,
          1128087.7664843316,
          1045359.6919132487,
          1033025.9895349365,
          1362571.5511512025,
          1081375.079763402,
          876325.0742225514,
          961636.6487419135,
          1007948.3341564351,
          845711.4635673263,
          1026719.4153754947,
          895981.328581621,
          707853.320324744,
          617722.673843558,
          713176.8278826685,
          1168544.3038370013,
          1167981.802577751,
          996386.1528833134,
          984836.758637485,
          795902.7933781137,
          669953.1850335852,
          911048.3972251889,
          974897.9111688917,
          912755.1151266687,
          947137.4102200016,
          806810.4176650011,
          702685.30153966,
          572773.178329745,
          1455179.579247309,
          1444646.9642354818,
          1150035.6896766115,
          1085694.0263824586,
          1058519.128736844,
          882225.2627026329,
          812766.9079269748,
          1001567.0911952311,
          1339627.5478714232,
          1246271.977929758,
          1183325.9003473185,
          1160712.163310489,
          1086126.5789078667,
          923448.8912559,
          1120597.424641925,
          1144041.6406314438,
          1046982.3947735829,
          1145566.0609051872,
          1208042.3668288903,
          995485.1782716677,
          899144.5987037508,
          1085472.817777813,
          1260136.7215333597,
          1077741.3300000196,
          1261098.4121000147,
          1150549.535825011,
          977966.9318687583,
          788320.4693515687,
          1027600.6124136766,
          1613823.1668227576,
          1602529.861317068,
          1476438.599212801,
          1566537.162909601,
          1326221.7090226768,
          1073889.4495336744,
          1164517.4799502557,
          1265037.4883049994,
          1145816.9146287495,
          1283696.630196562,
          1244701.3416724214,
          1004352.6874543161,
          848847.0451407371,
          1212564.0219055528,
          1234066.5852541646,
          1083177.6001477665,
          1178646.6044108248,
          969192.1981581186,
          798798.583618589,
          715155.6877139418,
          722122.8797854565,
          685311.0373390922,
          741650.9615793192,
          1116864.8204344893,
          1154142.720325867,
          886508.1654944003,
          762714.4816208003,
          1677391.1949129226,
          1284034.131184692,
          1082659.143388519,
          1068595.0785913893,
          1274294.473943542,
          1040644.3604576566,
          913013.1128432425,
          1261500.9596324319,
          1083862.079724324,
          872830.986668243,
          1148521.1425011822,
          925615.0368758867,
          701742.725156915,
          527628.1043176863,
          589248.4832382647,
          857776.5324286985,
          669846.7993215239,
          1165582.9139051477,
          912673.6504288608,
          698859.0978216456,
          539465.1883662342,
          1065648.8462746756,
          1426078.6272060066,
          1173136.7104045048,
          986652.6478033785,
          872947.698352534,
          1236009.0162644004,
          936035.8646983004,
          937641.7635237253,
          1171828.397642794,
          904469.8532320956,
          882717.8949240717,
          739336.4131930538,
          575163.4798947904,
          459944.34652109287,
          733382.4388908197,
          836155.8908181149,
          658990.5506135861,
          672837.0829601896,
          555163.2322201421,
          422445.32416510663,
          341539.26312382997,
          674156.5448428724,
          912145.5686321543,
          796152.9089741157,
          831235.3567305868,
          686933.1386479401,
          544255.8039859551,
          549449.8429894663,
          897052.1272420997,
          986335.5778565749,
          756456.3164924311,
          603884.3323693234,
          512810.2902019925,
          954007.7176514943,
          725370.3882386207,
          738385.0761789655,
          975728.5646342242,
          766535.3234756681,
          692731.490106751,
          555233.0725800632,
          446200.98443504743,
          367249.48832628556,
          368818.4237447142,
          573637.1178085357,
          452701.94455640175,
          544102.5209173013,
          498711.55068797595,
          377492.64051598194,
          288157.08038698643,
          429688.7777902398,
          583613.8583426798,
          508204.1387570099,
          709779.4785677574,
          551637.938925818,
          426263.35919436347,
          342790.9643957726,
          510093.6407968295,
          605036.7755976222,
          510775.3741982166,
          822336.2556486625,
          686859.2067364969,
          532689.0850523727,
          411383.6487892795,
          393678.1090919596,
          402313.30551896966,
          405932.67913922726,
          425559.92055442045,
          450592.8704158153,
          377216.7878118615,
          303956.84085889615,
          430641.6406441721,
          463992.1404831291,
          567599.8278623468,
          712008.79954676,
          685465.9521600701,
          532004.3941200526,
          457791.04559003946,
          592638.0447743313,
          461594.2053807485,
          543299.4815355614,
          587307.408651671,
          509978.0914887533,
          400175.11361656495,
          322800.4552124237,
          558926.5739093177,
          463340.6154319883,
          519228.7715739912,
          459269.0786804934,
          391829.28901037003,
          298954.8367577775,
          226295.12756833312,
          471473.5856762498,
          431246.1392571874,
          492650.7819428905,
          397857.0464571679,
          325451.7973428759,
          299137.04800715693,
          257222.4960053677,
          321264.51700402575,
          267021.7177530193,
          307425.8933147645,
          238547.73248607336,
          194380.419364555,
          173639.06452341625,
          154124.6183925622,
          296060.30629442167,
          309888.74972081627,
          263176.1747906122,
          215943.85359295915,
          185777.65019471938,
          149840.23764603952,
          122875.17823452964,
          212522.57367589723,
          234749.64025692292,
          190625.7651926922,
          399584.23639451916,
          330167.15729588934,
          251727.867971917,
          192849.81097893775,
          319068.9107342033,
          677602.0530506525,
          514831.34478798934,
          570318.300190992,
          472397.373843244,
          743770.385382433,
          567621.7890368247,
          702075.1992776184,
          704132.0194582138,
          539751.3945936604,
          566759.9659452453,
          581599.829458934,
          439542.3520942005,
          334566.6640706504,
          402699.9880529878,
          355147.21603974083,
          313310.3545298056,
          791597.6658973543,
          620971.4094230157,
          475322.35206726176,
          395886.59405044635,
          696837.3555378348,
          744108.9567533762,
          568624.6625650321,
          569518.2496237741,
          472450.0930178306,
          491579.44726337295,
          690175.8404475297,
          528368.7353356472,
          507700.7515017355,
          385252.5636263016,
          802359.4227197262,
          611670.9570397947,
          564162.815279846,
          603037.7264598844,
          500408.2848449133,
          561521.1186336849,
          473733.2689752637,
          358807.70173144777,
          536033.7762985858,
          890920.4822239394,
          687690.1891679546,
          698872.726875966,
          568346.0351569745,
          438075.4763677308,
          362153.6072757981,
          601622.4054568487,
          762568.5540926366,
          585991.4430694774,
          768525.6898021081,
          661645.7123515811,
          507808.6317636858,
          394670.89132276434,
          552023.9484920732,
          783622.1213690549,
          615943.4460267911,
          828635.7545200933,
          670322.5758900701,
          526384.9669175525,
          431422.2251881644,
          603925.7270661233,
          490509.37529959244,
          379382.1014746943,
          475276.4161060207,
          411647.80207951553,
          314461.65905963664,
          473316.24429472745,
          618572.3882210456,
          778169.2911657842,
          596091.3258743383,
          703480.6544057537,
          536558.2908043154,
          469868.7181032365,
          555954.5160774274,
          937981.9921676053,
          827161.8516257041,
          1027037.2562192781,
          788463.8021644586,
          750904.0116233439,
          1759013.283717508,
          1328771.842788131,
          1016033.1695910982,
          968074.0171933237,
          746959.6528949927,
          570137.9596712445,
          428320.46975343337,
          698524.0848150749,
          915125.4936113062,
          699280.4177084797,
          804724.5082813597,
          667495.2512110198,
          508715.0084082649,
          389504.25630619866,
          748356.642229649,
          976305.9816722367,
          753913.7512541775,
          677771.1234406331,
          514172.9025804748,
          405044.4294353561,
          342824.1220765171,
          355096.9815573878,
          318753.2111680408,
          513640.87337603065,
          387672.25503202295,
          303680.1712740172,
          432981.9584555129,
          423483.5363416347,
          320779.40225622605,
          274692.0516921695,
          333522.2887691271,
          667029.7880279364,
          578203.2910209523,
          443346.8182657142,
          762180.0336992857,
          583150.5252744643,
          448558.8939558482,
          471894.67046688613
         ],
         "yaxis": "y"
        }
       ],
       "layout": {
        "legend": {
         "tracegroupgap": 0
        },
        "margin": {
         "t": 60
        },
        "template": {
         "data": {
          "bar": [
           {
            "error_x": {
             "color": "#2a3f5f"
            },
            "error_y": {
             "color": "#2a3f5f"
            },
            "marker": {
             "line": {
              "color": "#E5ECF6",
              "width": 0.5
             },
             "pattern": {
              "fillmode": "overlay",
              "size": 10,
              "solidity": 0.2
             }
            },
            "type": "bar"
           }
          ],
          "barpolar": [
           {
            "marker": {
             "line": {
              "color": "#E5ECF6",
              "width": 0.5
             },
             "pattern": {
              "fillmode": "overlay",
              "size": 10,
              "solidity": 0.2
             }
            },
            "type": "barpolar"
           }
          ],
          "carpet": [
           {
            "aaxis": {
             "endlinecolor": "#2a3f5f",
             "gridcolor": "white",
             "linecolor": "white",
             "minorgridcolor": "white",
             "startlinecolor": "#2a3f5f"
            },
            "baxis": {
             "endlinecolor": "#2a3f5f",
             "gridcolor": "white",
             "linecolor": "white",
             "minorgridcolor": "white",
             "startlinecolor": "#2a3f5f"
            },
            "type": "carpet"
           }
          ],
          "choropleth": [
           {
            "colorbar": {
             "outlinewidth": 0,
             "ticks": ""
            },
            "type": "choropleth"
           }
          ],
          "contour": [
           {
            "colorbar": {
             "outlinewidth": 0,
             "ticks": ""
            },
            "colorscale": [
             [
              0,
              "#0d0887"
             ],
             [
              0.1111111111111111,
              "#46039f"
             ],
             [
              0.2222222222222222,
              "#7201a8"
             ],
             [
              0.3333333333333333,
              "#9c179e"
             ],
             [
              0.4444444444444444,
              "#bd3786"
             ],
             [
              0.5555555555555556,
              "#d8576b"
             ],
             [
              0.6666666666666666,
              "#ed7953"
             ],
             [
              0.7777777777777778,
              "#fb9f3a"
             ],
             [
              0.8888888888888888,
              "#fdca26"
             ],
             [
              1,
              "#f0f921"
             ]
            ],
            "type": "contour"
           }
          ],
          "contourcarpet": [
           {
            "colorbar": {
             "outlinewidth": 0,
             "ticks": ""
            },
            "type": "contourcarpet"
           }
          ],
          "heatmap": [
           {
            "colorbar": {
             "outlinewidth": 0,
             "ticks": ""
            },
            "colorscale": [
             [
              0,
              "#0d0887"
             ],
             [
              0.1111111111111111,
              "#46039f"
             ],
             [
              0.2222222222222222,
              "#7201a8"
             ],
             [
              0.3333333333333333,
              "#9c179e"
             ],
             [
              0.4444444444444444,
              "#bd3786"
             ],
             [
              0.5555555555555556,
              "#d8576b"
             ],
             [
              0.6666666666666666,
              "#ed7953"
             ],
             [
              0.7777777777777778,
              "#fb9f3a"
             ],
             [
              0.8888888888888888,
              "#fdca26"
             ],
             [
              1,
              "#f0f921"
             ]
            ],
            "type": "heatmap"
           }
          ],
          "heatmapgl": [
           {
            "colorbar": {
             "outlinewidth": 0,
             "ticks": ""
            },
            "colorscale": [
             [
              0,
              "#0d0887"
             ],
             [
              0.1111111111111111,
              "#46039f"
             ],
             [
              0.2222222222222222,
              "#7201a8"
             ],
             [
              0.3333333333333333,
              "#9c179e"
             ],
             [
              0.4444444444444444,
              "#bd3786"
             ],
             [
              0.5555555555555556,
              "#d8576b"
             ],
             [
              0.6666666666666666,
              "#ed7953"
             ],
             [
              0.7777777777777778,
              "#fb9f3a"
             ],
             [
              0.8888888888888888,
              "#fdca26"
             ],
             [
              1,
              "#f0f921"
             ]
            ],
            "type": "heatmapgl"
           }
          ],
          "histogram": [
           {
            "marker": {
             "pattern": {
              "fillmode": "overlay",
              "size": 10,
              "solidity": 0.2
             }
            },
            "type": "histogram"
           }
          ],
          "histogram2d": [
           {
            "colorbar": {
             "outlinewidth": 0,
             "ticks": ""
            },
            "colorscale": [
             [
              0,
              "#0d0887"
             ],
             [
              0.1111111111111111,
              "#46039f"
             ],
             [
              0.2222222222222222,
              "#7201a8"
             ],
             [
              0.3333333333333333,
              "#9c179e"
             ],
             [
              0.4444444444444444,
              "#bd3786"
             ],
             [
              0.5555555555555556,
              "#d8576b"
             ],
             [
              0.6666666666666666,
              "#ed7953"
             ],
             [
              0.7777777777777778,
              "#fb9f3a"
             ],
             [
              0.8888888888888888,
              "#fdca26"
             ],
             [
              1,
              "#f0f921"
             ]
            ],
            "type": "histogram2d"
           }
          ],
          "histogram2dcontour": [
           {
            "colorbar": {
             "outlinewidth": 0,
             "ticks": ""
            },
            "colorscale": [
             [
              0,
              "#0d0887"
             ],
             [
              0.1111111111111111,
              "#46039f"
             ],
             [
              0.2222222222222222,
              "#7201a8"
             ],
             [
              0.3333333333333333,
              "#9c179e"
             ],
             [
              0.4444444444444444,
              "#bd3786"
             ],
             [
              0.5555555555555556,
              "#d8576b"
             ],
             [
              0.6666666666666666,
              "#ed7953"
             ],
             [
              0.7777777777777778,
              "#fb9f3a"
             ],
             [
              0.8888888888888888,
              "#fdca26"
             ],
             [
              1,
              "#f0f921"
             ]
            ],
            "type": "histogram2dcontour"
           }
          ],
          "mesh3d": [
           {
            "colorbar": {
             "outlinewidth": 0,
             "ticks": ""
            },
            "type": "mesh3d"
           }
          ],
          "parcoords": [
           {
            "line": {
             "colorbar": {
              "outlinewidth": 0,
              "ticks": ""
             }
            },
            "type": "parcoords"
           }
          ],
          "pie": [
           {
            "automargin": true,
            "type": "pie"
           }
          ],
          "scatter": [
           {
            "fillpattern": {
             "fillmode": "overlay",
             "size": 10,
             "solidity": 0.2
            },
            "type": "scatter"
           }
          ],
          "scatter3d": [
           {
            "line": {
             "colorbar": {
              "outlinewidth": 0,
              "ticks": ""
             }
            },
            "marker": {
             "colorbar": {
              "outlinewidth": 0,
              "ticks": ""
             }
            },
            "type": "scatter3d"
           }
          ],
          "scattercarpet": [
           {
            "marker": {
             "colorbar": {
              "outlinewidth": 0,
              "ticks": ""
             }
            },
            "type": "scattercarpet"
           }
          ],
          "scattergeo": [
           {
            "marker": {
             "colorbar": {
              "outlinewidth": 0,
              "ticks": ""
             }
            },
            "type": "scattergeo"
           }
          ],
          "scattergl": [
           {
            "marker": {
             "colorbar": {
              "outlinewidth": 0,
              "ticks": ""
             }
            },
            "type": "scattergl"
           }
          ],
          "scattermapbox": [
           {
            "marker": {
             "colorbar": {
              "outlinewidth": 0,
              "ticks": ""
             }
            },
            "type": "scattermapbox"
           }
          ],
          "scatterpolar": [
           {
            "marker": {
             "colorbar": {
              "outlinewidth": 0,
              "ticks": ""
             }
            },
            "type": "scatterpolar"
           }
          ],
          "scatterpolargl": [
           {
            "marker": {
             "colorbar": {
              "outlinewidth": 0,
              "ticks": ""
             }
            },
            "type": "scatterpolargl"
           }
          ],
          "scatterternary": [
           {
            "marker": {
             "colorbar": {
              "outlinewidth": 0,
              "ticks": ""
             }
            },
            "type": "scatterternary"
           }
          ],
          "surface": [
           {
            "colorbar": {
             "outlinewidth": 0,
             "ticks": ""
            },
            "colorscale": [
             [
              0,
              "#0d0887"
             ],
             [
              0.1111111111111111,
              "#46039f"
             ],
             [
              0.2222222222222222,
              "#7201a8"
             ],
             [
              0.3333333333333333,
              "#9c179e"
             ],
             [
              0.4444444444444444,
              "#bd3786"
             ],
             [
              0.5555555555555556,
              "#d8576b"
             ],
             [
              0.6666666666666666,
              "#ed7953"
             ],
             [
              0.7777777777777778,
              "#fb9f3a"
             ],
             [
              0.8888888888888888,
              "#fdca26"
             ],
             [
              1,
              "#f0f921"
             ]
            ],
            "type": "surface"
           }
          ],
          "table": [
           {
            "cells": {
             "fill": {
              "color": "#EBF0F8"
             },
             "line": {
              "color": "white"
             }
            },
            "header": {
             "fill": {
              "color": "#C8D4E3"
             },
             "line": {
              "color": "white"
             }
            },
            "type": "table"
           }
          ]
         },
         "layout": {
          "annotationdefaults": {
           "arrowcolor": "#2a3f5f",
           "arrowhead": 0,
           "arrowwidth": 1
          },
          "autotypenumbers": "strict",
          "coloraxis": {
           "colorbar": {
            "outlinewidth": 0,
            "ticks": ""
           }
          },
          "colorscale": {
           "diverging": [
            [
             0,
             "#8e0152"
            ],
            [
             0.1,
             "#c51b7d"
            ],
            [
             0.2,
             "#de77ae"
            ],
            [
             0.3,
             "#f1b6da"
            ],
            [
             0.4,
             "#fde0ef"
            ],
            [
             0.5,
             "#f7f7f7"
            ],
            [
             0.6,
             "#e6f5d0"
            ],
            [
             0.7,
             "#b8e186"
            ],
            [
             0.8,
             "#7fbc41"
            ],
            [
             0.9,
             "#4d9221"
            ],
            [
             1,
             "#276419"
            ]
           ],
           "sequential": [
            [
             0,
             "#0d0887"
            ],
            [
             0.1111111111111111,
             "#46039f"
            ],
            [
             0.2222222222222222,
             "#7201a8"
            ],
            [
             0.3333333333333333,
             "#9c179e"
            ],
            [
             0.4444444444444444,
             "#bd3786"
            ],
            [
             0.5555555555555556,
             "#d8576b"
            ],
            [
             0.6666666666666666,
             "#ed7953"
            ],
            [
             0.7777777777777778,
             "#fb9f3a"
            ],
            [
             0.8888888888888888,
             "#fdca26"
            ],
            [
             1,
             "#f0f921"
            ]
           ],
           "sequentialminus": [
            [
             0,
             "#0d0887"
            ],
            [
             0.1111111111111111,
             "#46039f"
            ],
            [
             0.2222222222222222,
             "#7201a8"
            ],
            [
             0.3333333333333333,
             "#9c179e"
            ],
            [
             0.4444444444444444,
             "#bd3786"
            ],
            [
             0.5555555555555556,
             "#d8576b"
            ],
            [
             0.6666666666666666,
             "#ed7953"
            ],
            [
             0.7777777777777778,
             "#fb9f3a"
            ],
            [
             0.8888888888888888,
             "#fdca26"
            ],
            [
             1,
             "#f0f921"
            ]
           ]
          },
          "colorway": [
           "#636efa",
           "#EF553B",
           "#00cc96",
           "#ab63fa",
           "#FFA15A",
           "#19d3f3",
           "#FF6692",
           "#B6E880",
           "#FF97FF",
           "#FECB52"
          ],
          "font": {
           "color": "#2a3f5f"
          },
          "geo": {
           "bgcolor": "white",
           "lakecolor": "white",
           "landcolor": "#E5ECF6",
           "showlakes": true,
           "showland": true,
           "subunitcolor": "white"
          },
          "hoverlabel": {
           "align": "left"
          },
          "hovermode": "closest",
          "mapbox": {
           "style": "light"
          },
          "paper_bgcolor": "white",
          "plot_bgcolor": "#E5ECF6",
          "polar": {
           "angularaxis": {
            "gridcolor": "white",
            "linecolor": "white",
            "ticks": ""
           },
           "bgcolor": "#E5ECF6",
           "radialaxis": {
            "gridcolor": "white",
            "linecolor": "white",
            "ticks": ""
           }
          },
          "scene": {
           "xaxis": {
            "backgroundcolor": "#E5ECF6",
            "gridcolor": "white",
            "gridwidth": 2,
            "linecolor": "white",
            "showbackground": true,
            "ticks": "",
            "zerolinecolor": "white"
           },
           "yaxis": {
            "backgroundcolor": "#E5ECF6",
            "gridcolor": "white",
            "gridwidth": 2,
            "linecolor": "white",
            "showbackground": true,
            "ticks": "",
            "zerolinecolor": "white"
           },
           "zaxis": {
            "backgroundcolor": "#E5ECF6",
            "gridcolor": "white",
            "gridwidth": 2,
            "linecolor": "white",
            "showbackground": true,
            "ticks": "",
            "zerolinecolor": "white"
           }
          },
          "shapedefaults": {
           "line": {
            "color": "#2a3f5f"
           }
          },
          "ternary": {
           "aaxis": {
            "gridcolor": "white",
            "linecolor": "white",
            "ticks": ""
           },
           "baxis": {
            "gridcolor": "white",
            "linecolor": "white",
            "ticks": ""
           },
           "bgcolor": "#E5ECF6",
           "caxis": {
            "gridcolor": "white",
            "linecolor": "white",
            "ticks": ""
           }
          },
          "title": {
           "x": 0.05
          },
          "xaxis": {
           "automargin": true,
           "gridcolor": "white",
           "linecolor": "white",
           "ticks": "",
           "title": {
            "standoff": 15
           },
           "zerolinecolor": "white",
           "zerolinewidth": 2
          },
          "yaxis": {
           "automargin": true,
           "gridcolor": "white",
           "linecolor": "white",
           "ticks": "",
           "title": {
            "standoff": 15
           },
           "zerolinecolor": "white",
           "zerolinewidth": 2
          }
         }
        },
        "xaxis": {
         "anchor": "y",
         "domain": [
          0,
          1
         ],
         "title": {
          "text": "ds"
         }
        },
        "yaxis": {
         "anchor": "x",
         "domain": [
          0,
          1
         ],
         "title": {
          "text": "y"
         }
        }
       }
      }
     },
     "metadata": {},
     "output_type": "display_data"
    }
   ],
   "source": [
    "from plotly.express import line\n",
    "\n",
    "line(data_frame=df_prophet, x='ds',y='y')"
   ]
  },
  {
   "cell_type": "markdown",
   "id": "8095d594",
   "metadata": {},
   "source": [
    "### Train-test split and future"
   ]
  },
  {
   "cell_type": "code",
   "execution_count": 15,
   "id": "7f520838",
   "metadata": {},
   "outputs": [],
   "source": [
    "# train_df=df_prophet[df_prophet['ds']<='2020-08-02'] #80% de los datos\n",
    "# test_df=df_prophet[df_prophet['ds']>='2020-08-02'] #20% de los datos\n",
    "\n",
    "futuro = pd.DataFrame({\n",
    "    'ds': pd.date_range(start='2020-12-30', periods=15, freq='D'), # Dataset de futuro\n",
    "    'y': np.nan\n",
    "})\n"
   ]
  },
  {
   "cell_type": "markdown",
   "id": "55ed2a77",
   "metadata": {},
   "source": [
    "### Modelo prophet básico"
   ]
  },
  {
   "cell_type": "code",
   "execution_count": 16,
   "id": "d2dfa86d",
   "metadata": {},
   "outputs": [
    {
     "name": "stderr",
     "output_type": "stream",
     "text": [
      "17:37:49 - cmdstanpy - INFO - Chain [1] start processing\n",
      "17:37:49 - cmdstanpy - INFO - Chain [1] done processing\n"
     ]
    }
   ],
   "source": [
    "\n",
    "# instanciamos modelo\n",
    "m = Prophet()\n",
    "\n",
    "# fiteamos el modelo en TRAIN\n",
    "#m.fit(train_df)\n",
    "m.fit(df_prophet)\n",
    "\n",
    "# para graficar, hacemos predict tambien en train\n",
    "forecast = m.predict(df_prophet)"
   ]
  },
  {
   "cell_type": "code",
   "execution_count": 17,
   "id": "4db890df",
   "metadata": {},
   "outputs": [
    {
     "data": {
      "image/png": "[encoded data removed]",
      "text/plain": [
       "<Figure size 900x600 with 2 Axes>"
      ]
     },
     "metadata": {},
     "output_type": "display_data"
    }
   ],
   "source": [
    "# #plot componentes del forecast\n",
    "m.plot_components(forecast);"
   ]
  },
  {
   "cell_type": "code",
   "execution_count": 18,
   "id": "11d8a6c2",
   "metadata": {},
   "outputs": [],
   "source": [
    "## Predecimos con el test\n",
    "forecast = m.predict(futuro)"
   ]
  },
  {
   "cell_type": "code",
   "execution_count": 19,
   "id": "14c335f6",
   "metadata": {},
   "outputs": [
    {
     "data": {
      "application/vnd.microsoft.datawrangler.viewer.v0+json": {
       "columns": [
        {
         "name": "index",
         "rawType": "int64",
         "type": "integer"
        },
        {
         "name": "ds",
         "rawType": "datetime64[ns]",
         "type": "datetime"
        },
        {
         "name": "trend",
         "rawType": "float64",
         "type": "float"
        },
        {
         "name": "yhat_lower",
         "rawType": "float64",
         "type": "float"
        },
        {
         "name": "yhat_upper",
         "rawType": "float64",
         "type": "float"
        },
        {
         "name": "trend_lower",
         "rawType": "float64",
         "type": "float"
        },
        {
         "name": "trend_upper",
         "rawType": "float64",
         "type": "float"
        },
        {
         "name": "additive_terms",
         "rawType": "float64",
         "type": "float"
        },
        {
         "name": "additive_terms_lower",
         "rawType": "float64",
         "type": "float"
        },
        {
         "name": "additive_terms_upper",
         "rawType": "float64",
         "type": "float"
        },
        {
         "name": "weekly",
         "rawType": "float64",
         "type": "float"
        },
        {
         "name": "weekly_lower",
         "rawType": "float64",
         "type": "float"
        },
        {
         "name": "weekly_upper",
         "rawType": "float64",
         "type": "float"
        },
        {
         "name": "multiplicative_terms",
         "rawType": "float64",
         "type": "float"
        },
        {
         "name": "multiplicative_terms_lower",
         "rawType": "float64",
         "type": "float"
        },
        {
         "name": "multiplicative_terms_upper",
         "rawType": "float64",
         "type": "float"
        },
        {
         "name": "yhat",
         "rawType": "float64",
         "type": "float"
        }
       ],
       "conversionMethod": "pd.DataFrame",
       "ref": "89236eb8-d12a-4609-94e2-b98d606562e5",
       "rows": [
        [
         "0",
         "2020-12-30 00:00:00",
         "577734.9787431278",
         "-9734.450479060613",
         "741045.1140217709",
         "577734.9787431278",
         "577734.9787431278",
         "-213658.1860259337",
         "-213658.1860259337",
         "-213658.1860259337",
         "-213658.1860259337",
         "-213658.1860259337",
         "-213658.1860259337",
         "0.0",
         "0.0",
         "0.0",
         "364076.79271719407"
        ],
        [
         "1",
         "2020-12-31 00:00:00",
         "578329.2378651722",
         "225533.4426600822",
         "957295.5784433832",
         "578329.2378651722",
         "578329.2378651722",
         "4767.423322674767",
         "4767.423322674767",
         "4767.423322674767",
         "4767.423322674767",
         "4767.423322674767",
         "4767.423322674767",
         "0.0",
         "0.0",
         "0.0",
         "583096.661187847"
        ],
        [
         "2",
         "2021-01-01 00:00:00",
         "578923.4969872166",
         "336315.86835976393",
         "1041278.1684554804",
         "578923.4969872166",
         "578923.4969872166",
         "124589.38435680723",
         "124589.38435680723",
         "124589.38435680723",
         "124589.38435680723",
         "124589.38435680723",
         "124589.38435680723",
         "0.0",
         "0.0",
         "0.0",
         "703512.8813440239"
        ],
        [
         "3",
         "2021-01-02 00:00:00",
         "579517.7561092611",
         "199287.25590506665",
         "953512.9143144873",
         "579517.7561092611",
         "579517.7561092611",
         "7337.267462736445",
         "7337.267462736445",
         "7337.267462736445",
         "7337.267462736445",
         "7337.267462736445",
         "7337.267462736445",
         "0.0",
         "0.0",
         "0.0",
         "586855.0235719975"
        ],
        [
         "4",
         "2021-01-03 00:00:00",
         "580112.0152313055",
         "325959.94512543996",
         "1051147.0621124152",
         "580112.0152313055",
         "580112.0152313055",
         "111385.00572322316",
         "111385.00572322316",
         "111385.00572322316",
         "111385.00572322316",
         "111385.00572322316",
         "111385.00572322316",
         "0.0",
         "0.0",
         "0.0",
         "691497.0209545287"
        ],
        [
         "5",
         "2021-01-04 00:00:00",
         "580706.2743533498",
         "287524.9086113223",
         "1024103.3448190638",
         "580704.9125956638",
         "580706.2743533498",
         "75359.8839974129",
         "75359.8839974129",
         "75359.8839974129",
         "75359.8839974129",
         "75359.8839974129",
         "75359.8839974129",
         "0.0",
         "0.0",
         "0.0",
         "656066.1583507627"
        ],
        [
         "6",
         "2021-01-05 00:00:00",
         "581300.5334753944",
         "101151.99686077745",
         "785081.877534376",
         "581116.4811796455",
         "581359.0610782873",
         "-109780.77883747655",
         "-109780.77883747655",
         "-109780.77883747655",
         "-109780.77883747655",
         "-109780.77883747655",
         "-109780.77883747655",
         "0.0",
         "0.0",
         "0.0",
         "471519.7546379178"
        ],
        [
         "7",
         "2021-01-06 00:00:00",
         "581894.7925974388",
         "20574.15699664565",
         "719017.0106495194",
         "581510.8567929644",
         "582108.0381305811",
         "-213658.18602626168",
         "-213658.18602626168",
         "-213658.18602626168",
         "-213658.18602626168",
         "-213658.18602626168",
         "-213658.18602626168",
         "0.0",
         "0.0",
         "0.0",
         "368236.60657117714"
        ],
        [
         "8",
         "2021-01-07 00:00:00",
         "582489.0517194831",
         "236664.41623423115",
         "957049.096513757",
         "581687.2727370673",
         "582894.0140525426",
         "4767.4233229888505",
         "4767.4233229888505",
         "4767.4233229888505",
         "4767.4233229888505",
         "4767.4233229888505",
         "4767.4233229888505",
         "0.0",
         "0.0",
         "0.0",
         "587256.475042472"
        ],
        [
         "9",
         "2021-01-08 00:00:00",
         "583083.3108415277",
         "359997.06072096404",
         "1059834.6242896395",
         "581864.5713138358",
         "583764.1876042722",
         "124589.38435681",
         "124589.38435681",
         "124589.38435681",
         "124589.38435681",
         "124589.38435681",
         "124589.38435681",
         "0.0",
         "0.0",
         "0.0",
         "707672.6951983377"
        ],
        [
         "10",
         "2021-01-09 00:00:00",
         "583677.569963572",
         "244759.29874479343",
         "939271.2201751729",
         "582203.8402559633",
         "584712.6512063516",
         "7337.267462689822",
         "7337.267462689822",
         "7337.267462689822",
         "7337.267462689822",
         "7337.267462689822",
         "7337.267462689822",
         "0.0",
         "0.0",
         "0.0",
         "591014.8374262617"
        ],
        [
         "11",
         "2021-01-10 00:00:00",
         "584271.8290856164",
         "368917.8561444324",
         "1058055.185976117",
         "582205.5734905192",
         "585715.4497479573",
         "111385.00572287662",
         "111385.00572287662",
         "111385.00572287662",
         "111385.00572287662",
         "111385.00572287662",
         "111385.00572287662",
         "0.0",
         "0.0",
         "0.0",
         "695656.834808493"
        ],
        [
         "12",
         "2021-01-11 00:00:00",
         "584866.0882076608",
         "301697.3684349131",
         "1025814.0899949718",
         "582020.366257844",
         "586814.3433317221",
         "75359.88399785075",
         "75359.88399785075",
         "75359.88399785075",
         "75359.88399785075",
         "75359.88399785075",
         "75359.88399785075",
         "0.0",
         "0.0",
         "0.0",
         "660225.9722055115"
        ],
        [
         "13",
         "2021-01-12 00:00:00",
         "585460.3473297053",
         "134314.77707730644",
         "813770.2958471222",
         "582201.1170681708",
         "587789.166759775",
         "-109780.77883753672",
         "-109780.77883753672",
         "-109780.77883753672",
         "-109780.77883753672",
         "-109780.77883753672",
         "-109780.77883753672",
         "0.0",
         "0.0",
         "0.0",
         "475679.56849216856"
        ],
        [
         "14",
         "2021-01-13 00:00:00",
         "586054.6064517496",
         "14113.734936545396",
         "742430.9620777112",
         "582340.5751513407",
         "588824.5400527754",
         "-213658.1860261368",
         "-213658.1860261368",
         "-213658.1860261368",
         "-213658.1860261368",
         "-213658.1860261368",
         "-213658.1860261368",
         "0.0",
         "0.0",
         "0.0",
         "372396.42042561277"
        ]
       ],
       "shape": {
        "columns": 16,
        "rows": 15
       }
      },
      "text/html": [
       "<div>\n",
       "<style scoped>\n",
       "    .dataframe tbody tr th:only-of-type {\n",
       "        vertical-align: middle;\n",
       "    }\n",
       "\n",
       "    .dataframe tbody tr th {\n",
       "        vertical-align: top;\n",
       "    }\n",
       "\n",
       "    .dataframe thead th {\n",
       "        text-align: right;\n",
       "    }\n",
       "</style>\n",
       "<table border=\"1\" class=\"dataframe\">\n",
       "  <thead>\n",
       "    <tr style=\"text-align: right;\">\n",
       "      <th></th>\n",
       "      <th>ds</th>\n",
       "      <th>trend</th>\n",
       "      <th>yhat_lower</th>\n",
       "      <th>yhat_upper</th>\n",
       "      <th>trend_lower</th>\n",
       "      <th>trend_upper</th>\n",
       "      <th>additive_terms</th>\n",
       "      <th>additive_terms_lower</th>\n",
       "      <th>additive_terms_upper</th>\n",
       "      <th>weekly</th>\n",
       "      <th>weekly_lower</th>\n",
       "      <th>weekly_upper</th>\n",
       "      <th>multiplicative_terms</th>\n",
       "      <th>multiplicative_terms_lower</th>\n",
       "      <th>multiplicative_terms_upper</th>\n",
       "      <th>yhat</th>\n",
       "    </tr>\n",
       "  </thead>\n",
       "  <tbody>\n",
       "    <tr>\n",
       "      <th>0</th>\n",
       "      <td>2020-12-30</td>\n",
       "      <td>577734.978743</td>\n",
       "      <td>-9734.450479</td>\n",
       "      <td>7.410451e+05</td>\n",
       "      <td>577734.978743</td>\n",
       "      <td>577734.978743</td>\n",
       "      <td>-213658.186026</td>\n",
       "      <td>-213658.186026</td>\n",
       "      <td>-213658.186026</td>\n",
       "      <td>-213658.186026</td>\n",
       "      <td>-213658.186026</td>\n",
       "      <td>-213658.186026</td>\n",
       "      <td>0.0</td>\n",
       "      <td>0.0</td>\n",
       "      <td>0.0</td>\n",
       "      <td>364076.792717</td>\n",
       "    </tr>\n",
       "    <tr>\n",
       "      <th>1</th>\n",
       "      <td>2020-12-31</td>\n",
       "      <td>578329.237865</td>\n",
       "      <td>225533.442660</td>\n",
       "      <td>9.572956e+05</td>\n",
       "      <td>578329.237865</td>\n",
       "      <td>578329.237865</td>\n",
       "      <td>4767.423323</td>\n",
       "      <td>4767.423323</td>\n",
       "      <td>4767.423323</td>\n",
       "      <td>4767.423323</td>\n",
       "      <td>4767.423323</td>\n",
       "      <td>4767.423323</td>\n",
       "      <td>0.0</td>\n",
       "      <td>0.0</td>\n",
       "      <td>0.0</td>\n",
       "      <td>583096.661188</td>\n",
       "    </tr>\n",
       "    <tr>\n",
       "      <th>2</th>\n",
       "      <td>2021-01-01</td>\n",
       "      <td>578923.496987</td>\n",
       "      <td>336315.868360</td>\n",
       "      <td>1.041278e+06</td>\n",
       "      <td>578923.496987</td>\n",
       "      <td>578923.496987</td>\n",
       "      <td>124589.384357</td>\n",
       "      <td>124589.384357</td>\n",
       "      <td>124589.384357</td>\n",
       "      <td>124589.384357</td>\n",
       "      <td>124589.384357</td>\n",
       "      <td>124589.384357</td>\n",
       "      <td>0.0</td>\n",
       "      <td>0.0</td>\n",
       "      <td>0.0</td>\n",
       "      <td>703512.881344</td>\n",
       "    </tr>\n",
       "    <tr>\n",
       "      <th>3</th>\n",
       "      <td>2021-01-02</td>\n",
       "      <td>579517.756109</td>\n",
       "      <td>199287.255905</td>\n",
       "      <td>9.535129e+05</td>\n",
       "      <td>579517.756109</td>\n",
       "      <td>579517.756109</td>\n",
       "      <td>7337.267463</td>\n",
       "      <td>7337.267463</td>\n",
       "      <td>7337.267463</td>\n",
       "      <td>7337.267463</td>\n",
       "      <td>7337.267463</td>\n",
       "      <td>7337.267463</td>\n",
       "      <td>0.0</td>\n",
       "      <td>0.0</td>\n",
       "      <td>0.0</td>\n",
       "      <td>586855.023572</td>\n",
       "    </tr>\n",
       "    <tr>\n",
       "      <th>4</th>\n",
       "      <td>2021-01-03</td>\n",
       "      <td>580112.015231</td>\n",
       "      <td>325959.945125</td>\n",
       "      <td>1.051147e+06</td>\n",
       "      <td>580112.015231</td>\n",
       "      <td>580112.015231</td>\n",
       "      <td>111385.005723</td>\n",
       "      <td>111385.005723</td>\n",
       "      <td>111385.005723</td>\n",
       "      <td>111385.005723</td>\n",
       "      <td>111385.005723</td>\n",
       "      <td>111385.005723</td>\n",
       "      <td>0.0</td>\n",
       "      <td>0.0</td>\n",
       "      <td>0.0</td>\n",
       "      <td>691497.020955</td>\n",
       "    </tr>\n",
       "    <tr>\n",
       "      <th>5</th>\n",
       "      <td>2021-01-04</td>\n",
       "      <td>580706.274353</td>\n",
       "      <td>287524.908611</td>\n",
       "      <td>1.024103e+06</td>\n",
       "      <td>580704.912596</td>\n",
       "      <td>580706.274353</td>\n",
       "      <td>75359.883997</td>\n",
       "      <td>75359.883997</td>\n",
       "      <td>75359.883997</td>\n",
       "      <td>75359.883997</td>\n",
       "      <td>75359.883997</td>\n",
       "      <td>75359.883997</td>\n",
       "      <td>0.0</td>\n",
       "      <td>0.0</td>\n",
       "      <td>0.0</td>\n",
       "      <td>656066.158351</td>\n",
       "    </tr>\n",
       "    <tr>\n",
       "      <th>6</th>\n",
       "      <td>2021-01-05</td>\n",
       "      <td>581300.533475</td>\n",
       "      <td>101151.996861</td>\n",
       "      <td>7.850819e+05</td>\n",
       "      <td>581116.481180</td>\n",
       "      <td>581359.061078</td>\n",
       "      <td>-109780.778837</td>\n",
       "      <td>-109780.778837</td>\n",
       "      <td>-109780.778837</td>\n",
       "      <td>-109780.778837</td>\n",
       "      <td>-109780.778837</td>\n",
       "      <td>-109780.778837</td>\n",
       "      <td>0.0</td>\n",
       "      <td>0.0</td>\n",
       "      <td>0.0</td>\n",
       "      <td>471519.754638</td>\n",
       "    </tr>\n",
       "    <tr>\n",
       "      <th>7</th>\n",
       "      <td>2021-01-06</td>\n",
       "      <td>581894.792597</td>\n",
       "      <td>20574.156997</td>\n",
       "      <td>7.190170e+05</td>\n",
       "      <td>581510.856793</td>\n",
       "      <td>582108.038131</td>\n",
       "      <td>-213658.186026</td>\n",
       "      <td>-213658.186026</td>\n",
       "      <td>-213658.186026</td>\n",
       "      <td>-213658.186026</td>\n",
       "      <td>-213658.186026</td>\n",
       "      <td>-213658.186026</td>\n",
       "      <td>0.0</td>\n",
       "      <td>0.0</td>\n",
       "      <td>0.0</td>\n",
       "      <td>368236.606571</td>\n",
       "    </tr>\n",
       "    <tr>\n",
       "      <th>8</th>\n",
       "      <td>2021-01-07</td>\n",
       "      <td>582489.051719</td>\n",
       "      <td>236664.416234</td>\n",
       "      <td>9.570491e+05</td>\n",
       "      <td>581687.272737</td>\n",
       "      <td>582894.014053</td>\n",
       "      <td>4767.423323</td>\n",
       "      <td>4767.423323</td>\n",
       "      <td>4767.423323</td>\n",
       "      <td>4767.423323</td>\n",
       "      <td>4767.423323</td>\n",
       "      <td>4767.423323</td>\n",
       "      <td>0.0</td>\n",
       "      <td>0.0</td>\n",
       "      <td>0.0</td>\n",
       "      <td>587256.475042</td>\n",
       "    </tr>\n",
       "    <tr>\n",
       "      <th>9</th>\n",
       "      <td>2021-01-08</td>\n",
       "      <td>583083.310842</td>\n",
       "      <td>359997.060721</td>\n",
       "      <td>1.059835e+06</td>\n",
       "      <td>581864.571314</td>\n",
       "      <td>583764.187604</td>\n",
       "      <td>124589.384357</td>\n",
       "      <td>124589.384357</td>\n",
       "      <td>124589.384357</td>\n",
       "      <td>124589.384357</td>\n",
       "      <td>124589.384357</td>\n",
       "      <td>124589.384357</td>\n",
       "      <td>0.0</td>\n",
       "      <td>0.0</td>\n",
       "      <td>0.0</td>\n",
       "      <td>707672.695198</td>\n",
       "    </tr>\n",
       "    <tr>\n",
       "      <th>10</th>\n",
       "      <td>2021-01-09</td>\n",
       "      <td>583677.569964</td>\n",
       "      <td>244759.298745</td>\n",
       "      <td>9.392712e+05</td>\n",
       "      <td>582203.840256</td>\n",
       "      <td>584712.651206</td>\n",
       "      <td>7337.267463</td>\n",
       "      <td>7337.267463</td>\n",
       "      <td>7337.267463</td>\n",
       "      <td>7337.267463</td>\n",
       "      <td>7337.267463</td>\n",
       "      <td>7337.267463</td>\n",
       "      <td>0.0</td>\n",
       "      <td>0.0</td>\n",
       "      <td>0.0</td>\n",
       "      <td>591014.837426</td>\n",
       "    </tr>\n",
       "    <tr>\n",
       "      <th>11</th>\n",
       "      <td>2021-01-10</td>\n",
       "      <td>584271.829086</td>\n",
       "      <td>368917.856144</td>\n",
       "      <td>1.058055e+06</td>\n",
       "      <td>582205.573491</td>\n",
       "      <td>585715.449748</td>\n",
       "      <td>111385.005723</td>\n",
       "      <td>111385.005723</td>\n",
       "      <td>111385.005723</td>\n",
       "      <td>111385.005723</td>\n",
       "      <td>111385.005723</td>\n",
       "      <td>111385.005723</td>\n",
       "      <td>0.0</td>\n",
       "      <td>0.0</td>\n",
       "      <td>0.0</td>\n",
       "      <td>695656.834808</td>\n",
       "    </tr>\n",
       "    <tr>\n",
       "      <th>12</th>\n",
       "      <td>2021-01-11</td>\n",
       "      <td>584866.088208</td>\n",
       "      <td>301697.368435</td>\n",
       "      <td>1.025814e+06</td>\n",
       "      <td>582020.366258</td>\n",
       "      <td>586814.343332</td>\n",
       "      <td>75359.883998</td>\n",
       "      <td>75359.883998</td>\n",
       "      <td>75359.883998</td>\n",
       "      <td>75359.883998</td>\n",
       "      <td>75359.883998</td>\n",
       "      <td>75359.883998</td>\n",
       "      <td>0.0</td>\n",
       "      <td>0.0</td>\n",
       "      <td>0.0</td>\n",
       "      <td>660225.972206</td>\n",
       "    </tr>\n",
       "    <tr>\n",
       "      <th>13</th>\n",
       "      <td>2021-01-12</td>\n",
       "      <td>585460.347330</td>\n",
       "      <td>134314.777077</td>\n",
       "      <td>8.137703e+05</td>\n",
       "      <td>582201.117068</td>\n",
       "      <td>587789.166760</td>\n",
       "      <td>-109780.778838</td>\n",
       "      <td>-109780.778838</td>\n",
       "      <td>-109780.778838</td>\n",
       "      <td>-109780.778838</td>\n",
       "      <td>-109780.778838</td>\n",
       "      <td>-109780.778838</td>\n",
       "      <td>0.0</td>\n",
       "      <td>0.0</td>\n",
       "      <td>0.0</td>\n",
       "      <td>475679.568492</td>\n",
       "    </tr>\n",
       "    <tr>\n",
       "      <th>14</th>\n",
       "      <td>2021-01-13</td>\n",
       "      <td>586054.606452</td>\n",
       "      <td>14113.734937</td>\n",
       "      <td>7.424310e+05</td>\n",
       "      <td>582340.575151</td>\n",
       "      <td>588824.540053</td>\n",
       "      <td>-213658.186026</td>\n",
       "      <td>-213658.186026</td>\n",
       "      <td>-213658.186026</td>\n",
       "      <td>-213658.186026</td>\n",
       "      <td>-213658.186026</td>\n",
       "      <td>-213658.186026</td>\n",
       "      <td>0.0</td>\n",
       "      <td>0.0</td>\n",
       "      <td>0.0</td>\n",
       "      <td>372396.420426</td>\n",
       "    </tr>\n",
       "  </tbody>\n",
       "</table>\n",
       "</div>"
      ],
      "text/plain": [
       "           ds          trend     yhat_lower    yhat_upper    trend_lower  \\\n",
       "0  2020-12-30  577734.978743   -9734.450479  7.410451e+05  577734.978743   \n",
       "1  2020-12-31  578329.237865  225533.442660  9.572956e+05  578329.237865   \n",
       "2  2021-01-01  578923.496987  336315.868360  1.041278e+06  578923.496987   \n",
       "3  2021-01-02  579517.756109  199287.255905  9.535129e+05  579517.756109   \n",
       "4  2021-01-03  580112.015231  325959.945125  1.051147e+06  580112.015231   \n",
       "5  2021-01-04  580706.274353  287524.908611  1.024103e+06  580704.912596   \n",
       "6  2021-01-05  581300.533475  101151.996861  7.850819e+05  581116.481180   \n",
       "7  2021-01-06  581894.792597   20574.156997  7.190170e+05  581510.856793   \n",
       "8  2021-01-07  582489.051719  236664.416234  9.570491e+05  581687.272737   \n",
       "9  2021-01-08  583083.310842  359997.060721  1.059835e+06  581864.571314   \n",
       "10 2021-01-09  583677.569964  244759.298745  9.392712e+05  582203.840256   \n",
       "11 2021-01-10  584271.829086  368917.856144  1.058055e+06  582205.573491   \n",
       "12 2021-01-11  584866.088208  301697.368435  1.025814e+06  582020.366258   \n",
       "13 2021-01-12  585460.347330  134314.777077  8.137703e+05  582201.117068   \n",
       "14 2021-01-13  586054.606452   14113.734937  7.424310e+05  582340.575151   \n",
       "\n",
       "      trend_upper  additive_terms  additive_terms_lower  additive_terms_upper  \\\n",
       "0   577734.978743  -213658.186026        -213658.186026        -213658.186026   \n",
       "1   578329.237865     4767.423323           4767.423323           4767.423323   \n",
       "2   578923.496987   124589.384357         124589.384357         124589.384357   \n",
       "3   579517.756109     7337.267463           7337.267463           7337.267463   \n",
       "4   580112.015231   111385.005723         111385.005723         111385.005723   \n",
       "5   580706.274353    75359.883997          75359.883997          75359.883997   \n",
       "6   581359.061078  -109780.778837        -109780.778837        -109780.778837   \n",
       "7   582108.038131  -213658.186026        -213658.186026        -213658.186026   \n",
       "8   582894.014053     4767.423323           4767.423323           4767.423323   \n",
       "9   583764.187604   124589.384357         124589.384357         124589.384357   \n",
       "10  584712.651206     7337.267463           7337.267463           7337.267463   \n",
       "11  585715.449748   111385.005723         111385.005723         111385.005723   \n",
       "12  586814.343332    75359.883998          75359.883998          75359.883998   \n",
       "13  587789.166760  -109780.778838        -109780.778838        -109780.778838   \n",
       "14  588824.540053  -213658.186026        -213658.186026        -213658.186026   \n",
       "\n",
       "           weekly   weekly_lower   weekly_upper  multiplicative_terms  \\\n",
       "0  -213658.186026 -213658.186026 -213658.186026                   0.0   \n",
       "1     4767.423323    4767.423323    4767.423323                   0.0   \n",
       "2   124589.384357  124589.384357  124589.384357                   0.0   \n",
       "3     7337.267463    7337.267463    7337.267463                   0.0   \n",
       "4   111385.005723  111385.005723  111385.005723                   0.0   \n",
       "5    75359.883997   75359.883997   75359.883997                   0.0   \n",
       "6  -109780.778837 -109780.778837 -109780.778837                   0.0   \n",
       "7  -213658.186026 -213658.186026 -213658.186026                   0.0   \n",
       "8     4767.423323    4767.423323    4767.423323                   0.0   \n",
       "9   124589.384357  124589.384357  124589.384357                   0.0   \n",
       "10    7337.267463    7337.267463    7337.267463                   0.0   \n",
       "11  111385.005723  111385.005723  111385.005723                   0.0   \n",
       "12   75359.883998   75359.883998   75359.883998                   0.0   \n",
       "13 -109780.778838 -109780.778838 -109780.778838                   0.0   \n",
       "14 -213658.186026 -213658.186026 -213658.186026                   0.0   \n",
       "\n",
       "    multiplicative_terms_lower  multiplicative_terms_upper           yhat  \n",
       "0                          0.0                         0.0  364076.792717  \n",
       "1                          0.0                         0.0  583096.661188  \n",
       "2                          0.0                         0.0  703512.881344  \n",
       "3                          0.0                         0.0  586855.023572  \n",
       "4                          0.0                         0.0  691497.020955  \n",
       "5                          0.0                         0.0  656066.158351  \n",
       "6                          0.0                         0.0  471519.754638  \n",
       "7                          0.0                         0.0  368236.606571  \n",
       "8                          0.0                         0.0  587256.475042  \n",
       "9                          0.0                         0.0  707672.695198  \n",
       "10                         0.0                         0.0  591014.837426  \n",
       "11                         0.0                         0.0  695656.834808  \n",
       "12                         0.0                         0.0  660225.972206  \n",
       "13                         0.0                         0.0  475679.568492  \n",
       "14                         0.0                         0.0  372396.420426  "
      ]
     },
     "execution_count": 19,
     "metadata": {},
     "output_type": "execute_result"
    }
   ],
   "source": [
    "forecast"
   ]
  },
  {
   "cell_type": "code",
   "execution_count": 20,
   "id": "465149c5",
   "metadata": {},
   "outputs": [
    {
     "data": {
      "image/png": "[encoded data removed]",
      "text/plain": [
       "<Figure size 1000x600 with 1 Axes>"
      ]
     },
     "metadata": {},
     "output_type": "display_data"
    }
   ],
   "source": [
    "m.plot(forecast);"
   ]
  },
  {
   "cell_type": "code",
   "execution_count": 21,
   "id": "a95bbe68",
   "metadata": {},
   "outputs": [
    {
     "data": {
      "image/png": "[encoded data removed]",
      "text/plain": [
       "<Figure size 1400x600 with 1 Axes>"
      ]
     },
     "metadata": {},
     "output_type": "display_data"
    }
   ],
   "source": [
    "# Se grafica la informacion real\n",
    "plt.figure(figsize=(14, 6))\n",
    "# plt.plot(train_df['ds'], train_df['y'], label='Train')\n",
    "# plt.plot(test_df['ds'], test_df['y'], label='Test')\n",
    "plt.plot(df_prophet['ds'], df_prophet['y'], label='Datos')\n",
    "\n",
    "\n",
    "# Graficar predicciones \n",
    "plt.plot(forecast['ds'], forecast['yhat'], label='Forecast')\n",
    "\n",
    "# Agregar intervalos de confianza de las predicciones\n",
    "plt.fill_between(forecast['ds'],\n",
    "                 forecast['yhat_lower'],\n",
    "                 forecast['yhat_upper'],\n",
    "                 alpha=0.3, label='Confidence Interval')\n",
    "\n",
    "plt.title('Train, Test & Forecast')\n",
    "plt.xlabel('Date')\n",
    "plt.ylabel('Value')\n",
    "plt.legend()\n",
    "plt.grid(True)\n",
    "plt.tight_layout()\n",
    "plt.show()"
   ]
  },
  {
   "cell_type": "markdown",
   "id": "b6738772",
   "metadata": {},
   "source": [
    "**Holidays**"
   ]
  },
  {
   "cell_type": "code",
   "execution_count": 22,
   "id": "4dce2b33",
   "metadata": {},
   "outputs": [
    {
     "data": {
      "application/vnd.microsoft.datawrangler.viewer.v0+json": {
       "columns": [
        {
         "name": "index",
         "rawType": "int64",
         "type": "integer"
        },
        {
         "name": "ds",
         "rawType": "datetime64[ns]",
         "type": "datetime"
        },
        {
         "name": "holiday",
         "rawType": "object",
         "type": "string"
        },
        {
         "name": "lower_window",
         "rawType": "int64",
         "type": "integer"
        },
        {
         "name": "upper_window",
         "rawType": "int64",
         "type": "integer"
        }
       ],
       "conversionMethod": "pd.DataFrame",
       "ref": "5cdac8a3-b9fe-4fa2-b592-330438027c7a",
       "rows": [
        [
         "0",
         "2019-01-01 00:00:00",
         "Año Nuevo",
         "0",
         "1"
        ],
        [
         "1",
         "2019-02-04 00:00:00",
         "Día de la Constitución",
         "0",
         "1"
        ],
        [
         "2",
         "2019-03-18 00:00:00",
         "Natalicio de Benito Juárez",
         "0",
         "1"
        ],
        [
         "3",
         "2019-05-01 00:00:00",
         "Día del Trabajo",
         "0",
         "1"
        ],
        [
         "4",
         "2019-09-16 00:00:00",
         "Día de la Independencia",
         "0",
         "1"
        ],
        [
         "5",
         "2019-11-18 00:00:00",
         "Día de la Revolución",
         "0",
         "1"
        ],
        [
         "6",
         "2019-12-25 00:00:00",
         "Navidad",
         "0",
         "1"
        ],
        [
         "7",
         "2020-01-01 00:00:00",
         "Año Nuevo",
         "0",
         "1"
        ],
        [
         "8",
         "2020-02-03 00:00:00",
         "Día de la Constitución",
         "0",
         "1"
        ],
        [
         "9",
         "2020-03-16 00:00:00",
         "Natalicio de Benito Juárez",
         "0",
         "1"
        ]
       ],
       "shape": {
        "columns": 4,
        "rows": 10
       }
      },
      "text/html": [
       "<div>\n",
       "<style scoped>\n",
       "    .dataframe tbody tr th:only-of-type {\n",
       "        vertical-align: middle;\n",
       "    }\n",
       "\n",
       "    .dataframe tbody tr th {\n",
       "        vertical-align: top;\n",
       "    }\n",
       "\n",
       "    .dataframe thead th {\n",
       "        text-align: right;\n",
       "    }\n",
       "</style>\n",
       "<table border=\"1\" class=\"dataframe\">\n",
       "  <thead>\n",
       "    <tr style=\"text-align: right;\">\n",
       "      <th></th>\n",
       "      <th>ds</th>\n",
       "      <th>holiday</th>\n",
       "      <th>lower_window</th>\n",
       "      <th>upper_window</th>\n",
       "    </tr>\n",
       "  </thead>\n",
       "  <tbody>\n",
       "    <tr>\n",
       "      <th>0</th>\n",
       "      <td>2019-01-01</td>\n",
       "      <td>Año Nuevo</td>\n",
       "      <td>0</td>\n",
       "      <td>1</td>\n",
       "    </tr>\n",
       "    <tr>\n",
       "      <th>1</th>\n",
       "      <td>2019-02-04</td>\n",
       "      <td>Día de la Constitución</td>\n",
       "      <td>0</td>\n",
       "      <td>1</td>\n",
       "    </tr>\n",
       "    <tr>\n",
       "      <th>2</th>\n",
       "      <td>2019-03-18</td>\n",
       "      <td>Natalicio de Benito Juárez</td>\n",
       "      <td>0</td>\n",
       "      <td>1</td>\n",
       "    </tr>\n",
       "    <tr>\n",
       "      <th>3</th>\n",
       "      <td>2019-05-01</td>\n",
       "      <td>Día del Trabajo</td>\n",
       "      <td>0</td>\n",
       "      <td>1</td>\n",
       "    </tr>\n",
       "    <tr>\n",
       "      <th>4</th>\n",
       "      <td>2019-09-16</td>\n",
       "      <td>Día de la Independencia</td>\n",
       "      <td>0</td>\n",
       "      <td>1</td>\n",
       "    </tr>\n",
       "    <tr>\n",
       "      <th>5</th>\n",
       "      <td>2019-11-18</td>\n",
       "      <td>Día de la Revolución</td>\n",
       "      <td>0</td>\n",
       "      <td>1</td>\n",
       "    </tr>\n",
       "    <tr>\n",
       "      <th>6</th>\n",
       "      <td>2019-12-25</td>\n",
       "      <td>Navidad</td>\n",
       "      <td>0</td>\n",
       "      <td>1</td>\n",
       "    </tr>\n",
       "    <tr>\n",
       "      <th>7</th>\n",
       "      <td>2020-01-01</td>\n",
       "      <td>Año Nuevo</td>\n",
       "      <td>0</td>\n",
       "      <td>1</td>\n",
       "    </tr>\n",
       "    <tr>\n",
       "      <th>8</th>\n",
       "      <td>2020-02-03</td>\n",
       "      <td>Día de la Constitución</td>\n",
       "      <td>0</td>\n",
       "      <td>1</td>\n",
       "    </tr>\n",
       "    <tr>\n",
       "      <th>9</th>\n",
       "      <td>2020-03-16</td>\n",
       "      <td>Natalicio de Benito Juárez</td>\n",
       "      <td>0</td>\n",
       "      <td>1</td>\n",
       "    </tr>\n",
       "  </tbody>\n",
       "</table>\n",
       "</div>"
      ],
      "text/plain": [
       "          ds                     holiday  lower_window  upper_window\n",
       "0 2019-01-01                   Año Nuevo             0             1\n",
       "1 2019-02-04      Día de la Constitución             0             1\n",
       "2 2019-03-18  Natalicio de Benito Juárez             0             1\n",
       "3 2019-05-01             Día del Trabajo             0             1\n",
       "4 2019-09-16     Día de la Independencia             0             1\n",
       "5 2019-11-18        Día de la Revolución             0             1\n",
       "6 2019-12-25                     Navidad             0             1\n",
       "7 2020-01-01                   Año Nuevo             0             1\n",
       "8 2020-02-03      Día de la Constitución             0             1\n",
       "9 2020-03-16  Natalicio de Benito Juárez             0             1"
      ]
     },
     "execution_count": 22,
     "metadata": {},
     "output_type": "execute_result"
    }
   ],
   "source": [
    "feriados_mx = holidays.Mexico(years=[2019,2020,2021])\n",
    "\n",
    "# Convertir a df para Prophet\n",
    "df_feriados = pd.DataFrame([\n",
    "    {'ds': pd.to_datetime(fecha), 'holiday': nombre}\n",
    "    for fecha, nombre in feriados_mx.items()\n",
    "])\n",
    "\n",
    "# Columans para extender el efecto del día festivo para prophet\n",
    "df_feriados['lower_window'] = 0\n",
    "df_feriados['upper_window'] = 1\n",
    "\n",
    "df_feriados.head(10)"
   ]
  },
  {
   "cell_type": "markdown",
   "id": "8aa7aef3",
   "metadata": {},
   "source": [
    "##### Covid (Aun en proceso)"
   ]
  },
  {
   "cell_type": "code",
   "execution_count": 23,
   "id": "0ebb481d",
   "metadata": {},
   "outputs": [
    {
     "data": {
      "application/vnd.microsoft.datawrangler.viewer.v0+json": {
       "columns": [
        {
         "name": "index",
         "rawType": "int64",
         "type": "integer"
        },
        {
         "name": "holiday",
         "rawType": "object",
         "type": "string"
        },
        {
         "name": "ds",
         "rawType": "datetime64[ns]",
         "type": "datetime"
        },
        {
         "name": "lower_window",
         "rawType": "int64",
         "type": "integer"
        },
        {
         "name": "ds_upper",
         "rawType": "datetime64[ns]",
         "type": "datetime"
        },
        {
         "name": "upper_window",
         "rawType": "int64",
         "type": "integer"
        }
       ],
       "conversionMethod": "pd.DataFrame",
       "ref": "cd4b42fc-b95c-4f19-a185-c7351e9a0ddf",
       "rows": [
        [
         "0",
         "lockdown_1",
         "2020-03-21 00:00:00",
         "0",
         "2020-06-06 00:00:00",
         "77"
        ],
        [
         "1",
         "lockdown_2",
         "2020-07-09 00:00:00",
         "0",
         "2020-10-27 00:00:00",
         "110"
        ]
       ],
       "shape": {
        "columns": 5,
        "rows": 2
       }
      },
      "text/html": [
       "<div>\n",
       "<style scoped>\n",
       "    .dataframe tbody tr th:only-of-type {\n",
       "        vertical-align: middle;\n",
       "    }\n",
       "\n",
       "    .dataframe tbody tr th {\n",
       "        vertical-align: top;\n",
       "    }\n",
       "\n",
       "    .dataframe thead th {\n",
       "        text-align: right;\n",
       "    }\n",
       "</style>\n",
       "<table border=\"1\" class=\"dataframe\">\n",
       "  <thead>\n",
       "    <tr style=\"text-align: right;\">\n",
       "      <th></th>\n",
       "      <th>holiday</th>\n",
       "      <th>ds</th>\n",
       "      <th>lower_window</th>\n",
       "      <th>ds_upper</th>\n",
       "      <th>upper_window</th>\n",
       "    </tr>\n",
       "  </thead>\n",
       "  <tbody>\n",
       "    <tr>\n",
       "      <th>0</th>\n",
       "      <td>lockdown_1</td>\n",
       "      <td>2020-03-21</td>\n",
       "      <td>0</td>\n",
       "      <td>2020-06-06</td>\n",
       "      <td>77</td>\n",
       "    </tr>\n",
       "    <tr>\n",
       "      <th>1</th>\n",
       "      <td>lockdown_2</td>\n",
       "      <td>2020-07-09</td>\n",
       "      <td>0</td>\n",
       "      <td>2020-10-27</td>\n",
       "      <td>110</td>\n",
       "    </tr>\n",
       "  </tbody>\n",
       "</table>\n",
       "</div>"
      ],
      "text/plain": [
       "      holiday         ds  lower_window   ds_upper  upper_window\n",
       "0  lockdown_1 2020-03-21             0 2020-06-06            77\n",
       "1  lockdown_2 2020-07-09             0 2020-10-27           110"
      ]
     },
     "execution_count": 23,
     "metadata": {},
     "output_type": "execute_result"
    }
   ],
   "source": [
    "### Lockdowns \n",
    "lockdowns = pd.DataFrame([\n",
    "    {'holiday': 'lockdown_1', 'ds': '2020-03-21', 'lower_window': 0, 'ds_upper': '2020-06-06'},\n",
    "    {'holiday': 'lockdown_2', 'ds': '2020-07-09', 'lower_window': 0, 'ds_upper': '2020-10-27'}\n",
    "   # {'holiday': 'lockdown_3', 'ds': '2021-02-13', 'lower_window': 0, 'ds_upper': '2021-02-17'},\n",
    "   # {'holiday': 'lockdown_4', 'ds': '2021-05-28', 'lower_window': 0, 'ds_upper': '2021-06-10'},\n",
    "])\n",
    "for t_col in ['ds', 'ds_upper']:\n",
    "    lockdowns[t_col] = pd.to_datetime(lockdowns[t_col])\n",
    "lockdowns['upper_window'] = (lockdowns['ds_upper'] - lockdowns['ds']).dt.days\n",
    "lockdowns"
   ]
  },
  {
   "cell_type": "markdown",
   "id": "157e70a9",
   "metadata": {},
   "source": [
    "### **Hyperparameter tuning**"
   ]
  },
  {
   "cell_type": "code",
   "execution_count": null,
   "id": "3532edf4",
   "metadata": {},
   "outputs": [
    {
     "name": "stderr",
     "output_type": "stream",
     "text": [
      "17:37:51 - cmdstanpy - INFO - Chain [1] start processing\n",
      "17:37:51 - cmdstanpy - INFO - Chain [1] done processing\n",
      "17:37:57 - cmdstanpy - INFO - Chain [1] start processing\n",
      "17:37:57 - cmdstanpy - INFO - Chain [1] done processing\n",
      "17:38:03 - cmdstanpy - INFO - Chain [1] start processing\n",
      "17:38:03 - cmdstanpy - INFO - Chain [1] done processing\n",
      "17:38:09 - cmdstanpy - INFO - Chain [1] start processing\n",
      "17:38:09 - cmdstanpy - INFO - Chain [1] done processing\n",
      "17:38:14 - cmdstanpy - INFO - Chain [1] start processing\n",
      "17:38:14 - cmdstanpy - INFO - Chain [1] done processing\n",
      "17:38:20 - cmdstanpy - INFO - Chain [1] start processing\n",
      "17:38:20 - cmdstanpy - INFO - Chain [1] done processing\n",
      "17:38:26 - cmdstanpy - INFO - Chain [1] start processing\n",
      "17:38:26 - cmdstanpy - INFO - Chain [1] done processing\n",
      "17:38:31 - cmdstanpy - INFO - Chain [1] start processing\n",
      "17:38:31 - cmdstanpy - INFO - Chain [1] done processing\n",
      "17:38:37 - cmdstanpy - INFO - Chain [1] start processing\n",
      "17:38:37 - cmdstanpy - INFO - Chain [1] done processing\n",
      "17:38:42 - cmdstanpy - INFO - Chain [1] start processing\n",
      "17:38:42 - cmdstanpy - INFO - Chain [1] done processing\n",
      "17:38:47 - cmdstanpy - INFO - Chain [1] start processing\n",
      "17:38:47 - cmdstanpy - INFO - Chain [1] done processing\n",
      "17:38:53 - cmdstanpy - INFO - Chain [1] start processing\n",
      "17:38:53 - cmdstanpy - INFO - Chain [1] done processing\n",
      "17:38:58 - cmdstanpy - INFO - Chain [1] start processing\n",
      "17:38:58 - cmdstanpy - INFO - Chain [1] done processing\n",
      "17:39:03 - cmdstanpy - INFO - Chain [1] start processing\n",
      "17:39:04 - cmdstanpy - INFO - Chain [1] done processing\n",
      "17:39:09 - cmdstanpy - INFO - Chain [1] start processing\n",
      "17:39:09 - cmdstanpy - INFO - Chain [1] done processing\n",
      "17:39:14 - cmdstanpy - INFO - Chain [1] start processing\n",
      "17:39:14 - cmdstanpy - INFO - Chain [1] done processing\n",
      "17:39:20 - cmdstanpy - INFO - Chain [1] start processing\n",
      "17:39:20 - cmdstanpy - INFO - Chain [1] done processing\n",
      "17:39:25 - cmdstanpy - INFO - Chain [1] start processing\n",
      "17:39:25 - cmdstanpy - INFO - Chain [1] done processing\n",
      "17:39:30 - cmdstanpy - INFO - Chain [1] start processing\n",
      "17:39:30 - cmdstanpy - INFO - Chain [1] done processing\n",
      "17:39:35 - cmdstanpy - INFO - Chain [1] start processing\n",
      "17:39:36 - cmdstanpy - INFO - Chain [1] done processing\n",
      "17:39:41 - cmdstanpy - INFO - Chain [1] start processing\n",
      "17:39:41 - cmdstanpy - INFO - Chain [1] done processing\n",
      "17:39:46 - cmdstanpy - INFO - Chain [1] start processing\n",
      "17:39:46 - cmdstanpy - INFO - Chain [1] done processing\n",
      "17:39:51 - cmdstanpy - INFO - Chain [1] start processing\n",
      "17:39:51 - cmdstanpy - INFO - Chain [1] done processing\n",
      "17:39:56 - cmdstanpy - INFO - Chain [1] start processing\n",
      "17:39:57 - cmdstanpy - INFO - Chain [1] done processing\n",
      "17:40:02 - cmdstanpy - INFO - Chain [1] start processing\n",
      "17:40:02 - cmdstanpy - INFO - Chain [1] done processing\n",
      "17:40:07 - cmdstanpy - INFO - Chain [1] start processing\n",
      "17:40:07 - cmdstanpy - INFO - Chain [1] done processing\n",
      "17:40:13 - cmdstanpy - INFO - Chain [1] start processing\n",
      "17:40:13 - cmdstanpy - INFO - Chain [1] done processing\n",
      "17:40:18 - cmdstanpy - INFO - Chain [1] start processing\n",
      "17:40:18 - cmdstanpy - INFO - Chain [1] done processing\n",
      "17:40:24 - cmdstanpy - INFO - Chain [1] start processing\n",
      "17:40:24 - cmdstanpy - INFO - Chain [1] done processing\n",
      "17:40:30 - cmdstanpy - INFO - Chain [1] start processing\n",
      "17:40:30 - cmdstanpy - INFO - Chain [1] done processing\n",
      "17:40:36 - cmdstanpy - INFO - Chain [1] start processing\n",
      "17:40:36 - cmdstanpy - INFO - Chain [1] done processing\n",
      "17:40:41 - cmdstanpy - INFO - Chain [1] start processing\n",
      "17:40:41 - cmdstanpy - INFO - Chain [1] done processing\n",
      "17:40:46 - cmdstanpy - INFO - Chain [1] start processing\n",
      "17:40:46 - cmdstanpy - INFO - Chain [1] done processing\n",
      "17:40:50 - cmdstanpy - INFO - Chain [1] start processing\n",
      "17:40:51 - cmdstanpy - INFO - Chain [1] done processing\n",
      "17:40:55 - cmdstanpy - INFO - Chain [1] start processing\n",
      "17:40:55 - cmdstanpy - INFO - Chain [1] done processing\n",
      "17:40:59 - cmdstanpy - INFO - Chain [1] start processing\n",
      "17:40:59 - cmdstanpy - INFO - Chain [1] done processing\n",
      "17:41:03 - cmdstanpy - INFO - Chain [1] start processing\n",
      "17:41:03 - cmdstanpy - INFO - Chain [1] done processing\n",
      "17:41:08 - cmdstanpy - INFO - Chain [1] start processing\n",
      "17:41:08 - cmdstanpy - INFO - Chain [1] done processing\n",
      "17:41:12 - cmdstanpy - INFO - Chain [1] start processing\n",
      "17:41:12 - cmdstanpy - INFO - Chain [1] done processing\n",
      "17:41:16 - cmdstanpy - INFO - Chain [1] start processing\n",
      "17:41:17 - cmdstanpy - INFO - Chain [1] done processing\n",
      "17:41:21 - cmdstanpy - INFO - Chain [1] start processing\n",
      "17:41:21 - cmdstanpy - INFO - Chain [1] done processing\n",
      "17:41:25 - cmdstanpy - INFO - Chain [1] start processing\n",
      "17:41:25 - cmdstanpy - INFO - Chain [1] done processing\n",
      "17:41:29 - cmdstanpy - INFO - Chain [1] start processing\n",
      "17:41:30 - cmdstanpy - INFO - Chain [1] done processing\n",
      "17:41:34 - cmdstanpy - INFO - Chain [1] start processing\n",
      "17:41:34 - cmdstanpy - INFO - Chain [1] done processing\n",
      "17:41:38 - cmdstanpy - INFO - Chain [1] start processing\n",
      "17:41:38 - cmdstanpy - INFO - Chain [1] done processing\n",
      "17:41:42 - cmdstanpy - INFO - Chain [1] start processing\n",
      "17:41:43 - cmdstanpy - INFO - Chain [1] done processing\n",
      "17:41:47 - cmdstanpy - INFO - Chain [1] start processing\n",
      "17:41:47 - cmdstanpy - INFO - Chain [1] done processing\n",
      "17:41:51 - cmdstanpy - INFO - Chain [1] start processing\n",
      "17:41:51 - cmdstanpy - INFO - Chain [1] done processing\n",
      "17:41:55 - cmdstanpy - INFO - Chain [1] start processing\n",
      "17:41:55 - cmdstanpy - INFO - Chain [1] done processing\n",
      "17:41:59 - cmdstanpy - INFO - Chain [1] start processing\n",
      "17:41:59 - cmdstanpy - INFO - Chain [1] done processing\n",
      "17:42:03 - cmdstanpy - INFO - Chain [1] start processing\n",
      "17:42:04 - cmdstanpy - INFO - Chain [1] done processing\n",
      "17:42:08 - cmdstanpy - INFO - Chain [1] start processing\n",
      "17:42:08 - cmdstanpy - INFO - Chain [1] done processing\n",
      "17:42:12 - cmdstanpy - INFO - Chain [1] start processing\n",
      "17:42:12 - cmdstanpy - INFO - Chain [1] done processing\n",
      "17:42:17 - cmdstanpy - INFO - Chain [1] start processing\n",
      "17:42:17 - cmdstanpy - INFO - Chain [1] done processing\n",
      "17:42:22 - cmdstanpy - INFO - Chain [1] start processing\n",
      "17:42:22 - cmdstanpy - INFO - Chain [1] done processing\n",
      "17:42:27 - cmdstanpy - INFO - Chain [1] start processing\n",
      "17:42:27 - cmdstanpy - INFO - Chain [1] done processing\n",
      "17:42:32 - cmdstanpy - INFO - Chain [1] start processing\n",
      "17:42:32 - cmdstanpy - INFO - Chain [1] done processing\n",
      "17:42:37 - cmdstanpy - INFO - Chain [1] start processing\n",
      "17:42:37 - cmdstanpy - INFO - Chain [1] done processing\n",
      "17:42:42 - cmdstanpy - INFO - Chain [1] start processing\n",
      "17:42:43 - cmdstanpy - INFO - Chain [1] done processing\n",
      "17:42:47 - cmdstanpy - INFO - Chain [1] start processing\n",
      "17:42:48 - cmdstanpy - INFO - Chain [1] done processing\n",
      "17:42:53 - cmdstanpy - INFO - Chain [1] start processing\n",
      "17:42:53 - cmdstanpy - INFO - Chain [1] done processing\n",
      "17:42:57 - cmdstanpy - INFO - Chain [1] start processing\n",
      "17:42:57 - cmdstanpy - INFO - Chain [1] done processing\n",
      "17:43:02 - cmdstanpy - INFO - Chain [1] start processing\n",
      "17:43:02 - cmdstanpy - INFO - Chain [1] done processing\n",
      "17:43:07 - cmdstanpy - INFO - Chain [1] start processing\n",
      "17:43:07 - cmdstanpy - INFO - Chain [1] done processing\n",
      "17:43:12 - cmdstanpy - INFO - Chain [1] start processing\n",
      "17:43:12 - cmdstanpy - INFO - Chain [1] done processing\n",
      "17:43:17 - cmdstanpy - INFO - Chain [1] start processing\n",
      "17:43:17 - cmdstanpy - INFO - Chain [1] done processing\n",
      "17:43:21 - cmdstanpy - INFO - Chain [1] start processing\n",
      "17:43:22 - cmdstanpy - INFO - Chain [1] done processing\n",
      "17:43:26 - cmdstanpy - INFO - Chain [1] start processing\n",
      "17:43:27 - cmdstanpy - INFO - Chain [1] done processing\n",
      "17:43:31 - cmdstanpy - INFO - Chain [1] start processing\n",
      "17:43:31 - cmdstanpy - INFO - Chain [1] done processing\n",
      "17:43:36 - cmdstanpy - INFO - Chain [1] start processing\n",
      "17:43:36 - cmdstanpy - INFO - Chain [1] done processing\n",
      "17:43:41 - cmdstanpy - INFO - Chain [1] start processing\n",
      "17:43:41 - cmdstanpy - INFO - Chain [1] done processing\n",
      "17:43:45 - cmdstanpy - INFO - Chain [1] start processing\n",
      "17:43:46 - cmdstanpy - INFO - Chain [1] done processing\n",
      "17:43:50 - cmdstanpy - INFO - Chain [1] start processing\n",
      "17:43:50 - cmdstanpy - INFO - Chain [1] done processing\n",
      "17:43:54 - cmdstanpy - INFO - Chain [1] start processing\n",
      "17:43:54 - cmdstanpy - INFO - Chain [1] done processing\n",
      "17:43:58 - cmdstanpy - INFO - Chain [1] start processing\n",
      "17:43:59 - cmdstanpy - INFO - Chain [1] done processing\n",
      "17:44:03 - cmdstanpy - INFO - Chain [1] start processing\n",
      "17:44:03 - cmdstanpy - INFO - Chain [1] done processing\n",
      "17:44:07 - cmdstanpy - INFO - Chain [1] start processing\n",
      "17:44:07 - cmdstanpy - INFO - Chain [1] done processing\n",
      "17:44:11 - cmdstanpy - INFO - Chain [1] start processing\n",
      "17:44:12 - cmdstanpy - INFO - Chain [1] done processing\n",
      "17:44:16 - cmdstanpy - INFO - Chain [1] start processing\n",
      "17:44:16 - cmdstanpy - INFO - Chain [1] done processing\n",
      "17:44:20 - cmdstanpy - INFO - Chain [1] start processing\n",
      "17:44:20 - cmdstanpy - INFO - Chain [1] done processing\n",
      "17:44:25 - cmdstanpy - INFO - Chain [1] start processing\n",
      "17:44:25 - cmdstanpy - INFO - Chain [1] done processing\n",
      "17:44:29 - cmdstanpy - INFO - Chain [1] start processing\n",
      "17:44:29 - cmdstanpy - INFO - Chain [1] done processing\n",
      "17:44:33 - cmdstanpy - INFO - Chain [1] start processing\n",
      "17:44:34 - cmdstanpy - INFO - Chain [1] done processing\n",
      "17:44:38 - cmdstanpy - INFO - Chain [1] start processing\n",
      "17:44:38 - cmdstanpy - INFO - Chain [1] done processing\n",
      "17:44:42 - cmdstanpy - INFO - Chain [1] start processing\n",
      "17:44:43 - cmdstanpy - INFO - Chain [1] done processing\n",
      "17:44:47 - cmdstanpy - INFO - Chain [1] start processing\n",
      "17:44:47 - cmdstanpy - INFO - Chain [1] done processing\n",
      "17:44:52 - cmdstanpy - INFO - Chain [1] start processing\n",
      "17:44:52 - cmdstanpy - INFO - Chain [1] done processing\n",
      "17:44:57 - cmdstanpy - INFO - Chain [1] start processing\n",
      "17:44:57 - cmdstanpy - INFO - Chain [1] done processing\n",
      "17:45:01 - cmdstanpy - INFO - Chain [1] start processing\n",
      "17:45:02 - cmdstanpy - INFO - Chain [1] done processing\n",
      "17:45:06 - cmdstanpy - INFO - Chain [1] start processing\n",
      "17:45:07 - cmdstanpy - INFO - Chain [1] done processing\n",
      "17:45:11 - cmdstanpy - INFO - Chain [1] start processing\n",
      "17:45:11 - cmdstanpy - INFO - Chain [1] done processing\n",
      "17:45:15 - cmdstanpy - INFO - Chain [1] start processing\n",
      "17:45:15 - cmdstanpy - INFO - Chain [1] done processing\n",
      "17:45:20 - cmdstanpy - INFO - Chain [1] start processing\n",
      "17:45:20 - cmdstanpy - INFO - Chain [1] done processing\n",
      "17:45:24 - cmdstanpy - INFO - Chain [1] start processing\n",
      "17:45:24 - cmdstanpy - INFO - Chain [1] done processing\n",
      "17:45:28 - cmdstanpy - INFO - Chain [1] start processing\n",
      "17:45:28 - cmdstanpy - INFO - Chain [1] done processing\n",
      "17:45:33 - cmdstanpy - INFO - Chain [1] start processing\n",
      "17:45:33 - cmdstanpy - INFO - Chain [1] done processing\n",
      "17:45:37 - cmdstanpy - INFO - Chain [1] start processing\n",
      "17:45:37 - cmdstanpy - INFO - Chain [1] done processing\n",
      "17:45:42 - cmdstanpy - INFO - Chain [1] start processing\n",
      "17:45:42 - cmdstanpy - INFO - Chain [1] done processing\n",
      "17:45:46 - cmdstanpy - INFO - Chain [1] start processing\n",
      "17:45:47 - cmdstanpy - INFO - Chain [1] done processing\n",
      "17:45:51 - cmdstanpy - INFO - Chain [1] start processing\n",
      "17:45:51 - cmdstanpy - INFO - Chain [1] done processing\n",
      "17:45:56 - cmdstanpy - INFO - Chain [1] start processing\n",
      "17:45:56 - cmdstanpy - INFO - Chain [1] done processing\n",
      "17:46:01 - cmdstanpy - INFO - Chain [1] start processing\n",
      "17:46:01 - cmdstanpy - INFO - Chain [1] done processing\n",
      "17:46:06 - cmdstanpy - INFO - Chain [1] start processing\n",
      "17:46:06 - cmdstanpy - INFO - Chain [1] done processing\n",
      "17:46:11 - cmdstanpy - INFO - Chain [1] start processing\n",
      "17:46:11 - cmdstanpy - INFO - Chain [1] done processing\n",
      "17:46:16 - cmdstanpy - INFO - Chain [1] start processing\n",
      "17:46:16 - cmdstanpy - INFO - Chain [1] done processing\n",
      "17:46:21 - cmdstanpy - INFO - Chain [1] start processing\n",
      "17:46:21 - cmdstanpy - INFO - Chain [1] done processing\n",
      "17:46:25 - cmdstanpy - INFO - Chain [1] start processing\n",
      "17:46:25 - cmdstanpy - INFO - Chain [1] done processing\n",
      "17:46:30 - cmdstanpy - INFO - Chain [1] start processing\n",
      "17:46:30 - cmdstanpy - INFO - Chain [1] done processing\n",
      "17:46:34 - cmdstanpy - INFO - Chain [1] start processing\n",
      "17:46:34 - cmdstanpy - INFO - Chain [1] done processing\n",
      "17:46:39 - cmdstanpy - INFO - Chain [1] start processing\n",
      "17:46:39 - cmdstanpy - INFO - Chain [1] done processing\n",
      "17:46:43 - cmdstanpy - INFO - Chain [1] start processing\n",
      "17:46:43 - cmdstanpy - INFO - Chain [1] done processing\n",
      "17:46:48 - cmdstanpy - INFO - Chain [1] start processing\n",
      "17:46:48 - cmdstanpy - INFO - Chain [1] done processing\n",
      "17:46:52 - cmdstanpy - INFO - Chain [1] start processing\n",
      "17:46:52 - cmdstanpy - INFO - Chain [1] done processing\n",
      "17:46:57 - cmdstanpy - INFO - Chain [1] start processing\n",
      "17:46:57 - cmdstanpy - INFO - Chain [1] done processing\n",
      "17:47:01 - cmdstanpy - INFO - Chain [1] start processing\n",
      "17:47:02 - cmdstanpy - INFO - Chain [1] done processing\n",
      "17:47:06 - cmdstanpy - INFO - Chain [1] start processing\n",
      "17:47:06 - cmdstanpy - INFO - Chain [1] done processing\n",
      "17:47:11 - cmdstanpy - INFO - Chain [1] start processing\n",
      "17:47:11 - cmdstanpy - INFO - Chain [1] done processing\n",
      "17:47:16 - cmdstanpy - INFO - Chain [1] start processing\n",
      "17:47:16 - cmdstanpy - INFO - Chain [1] done processing\n",
      "17:47:21 - cmdstanpy - INFO - Chain [1] start processing\n",
      "17:47:21 - cmdstanpy - INFO - Chain [1] done processing\n",
      "17:47:26 - cmdstanpy - INFO - Chain [1] start processing\n",
      "17:47:26 - cmdstanpy - INFO - Chain [1] done processing\n",
      "17:47:31 - cmdstanpy - INFO - Chain [1] start processing\n",
      "17:47:31 - cmdstanpy - INFO - Chain [1] done processing\n",
      "17:47:35 - cmdstanpy - INFO - Chain [1] start processing\n",
      "17:47:35 - cmdstanpy - INFO - Chain [1] done processing\n",
      "17:47:40 - cmdstanpy - INFO - Chain [1] start processing\n",
      "17:47:40 - cmdstanpy - INFO - Chain [1] done processing\n",
      "17:47:44 - cmdstanpy - INFO - Chain [1] start processing\n",
      "17:47:44 - cmdstanpy - INFO - Chain [1] done processing\n",
      "17:47:49 - cmdstanpy - INFO - Chain [1] start processing\n",
      "17:47:49 - cmdstanpy - INFO - Chain [1] done processing\n",
      "17:47:53 - cmdstanpy - INFO - Chain [1] start processing\n",
      "17:47:53 - cmdstanpy - INFO - Chain [1] done processing\n",
      "17:47:57 - cmdstanpy - INFO - Chain [1] start processing\n",
      "17:47:58 - cmdstanpy - INFO - Chain [1] done processing\n",
      "17:48:02 - cmdstanpy - INFO - Chain [1] start processing\n",
      "17:48:02 - cmdstanpy - INFO - Chain [1] done processing\n"
     ]
    },
    {
     "name": "stdout",
     "output_type": "stream",
     "text": [
      "Mejores parámetros:\n",
      "changepoint_prior_scale               0.5\n",
      "seasonality_prior_scale               1.0\n",
      "holidays_prior_scale                  1.0\n",
      "seasonality_mode           multiplicative\n",
      "rmse                        329136.334238\n",
      "Name: 117, dtype: object\n"
     ]
    }
   ],
   "source": [
    "\n",
    "\n",
    "param_grid = {  \n",
    "    'changepoint_prior_scale': [0.001, 0.01, 0.1, 0.5],\n",
    "    'seasonality_prior_scale': [0.01, 0.1, 1.0, 10.0],\n",
    "    'holidays_prior_scale':[0.01, 0.1, 1.0, 10.0],\n",
    "    'seasonality_mode':['additive', 'multiplicative']\n",
    "\n",
    "}\n",
    "\n",
    "\n",
    "all_params = [dict(zip(param_grid.keys(), v)) for v in itertools.product(*param_grid.values())]\n",
    "rmses = []  # Store the RMSEs for each params here\n",
    "mse=[]\n",
    "mape=[]\n",
    "metrics=[]\n",
    "\n",
    "# Use cross validation to evaluate all parameters\n",
    "for params in all_params:\n",
    "    model = Prophet(holidays=df_feriados,**params,scaling=\"minmax\").fit(df_prophet)  \n",
    "\n",
    "    # Se realiza validación cruzada con ventana deslizante:\n",
    "    # - initial='180 days': se entrena con los primeros 180 días de datos,\n",
    "    # - period='31 days': se genera una nueva predicción cada mes,\n",
    "    # - horizon='30 days': se evalúa el modelo prediciendo 30 días hacia adelante.\n",
    "    df_cv = cross_validation(model, initial='180 days', period='31 days', horizon='30 days', parallel=\"processes\")\n",
    "    df_p = performance_metrics(df_cv, rolling_window=1)\n",
    "    rmses.append(df_p['rmse'].values[0])\n",
    "\n",
    "    for col, val in params.items():\n",
    "        df_p[col] = val\n",
    "    metrics.append(df_p)\n",
    "\n",
    "df_all = pd.concat(metrics, ignore_index=True)\n",
    "\n",
    "# Find the best parameters\n",
    "tuning_results = pd.DataFrame(all_params)\n",
    "tuning_results['rmse'] = rmses\n",
    "best_params = tuning_results.sort_values('rmse').iloc[0]\n",
    "print(\"Mejores parámetros:\")\n",
    "print(best_params)"
   ]
  },
  {
   "cell_type": "code",
   "execution_count": 25,
   "id": "0f0cc8c1",
   "metadata": {},
   "outputs": [
    {
     "data": {
      "application/vnd.microsoft.datawrangler.viewer.v0+json": {
       "columns": [
        {
         "name": "index",
         "rawType": "int64",
         "type": "integer"
        },
        {
         "name": "horizon",
         "rawType": "timedelta64[ns]",
         "type": "unknown"
        },
        {
         "name": "mse",
         "rawType": "float64",
         "type": "float"
        },
        {
         "name": "rmse",
         "rawType": "float64",
         "type": "float"
        },
        {
         "name": "mae",
         "rawType": "float64",
         "type": "float"
        },
        {
         "name": "mape",
         "rawType": "float64",
         "type": "float"
        },
        {
         "name": "mdape",
         "rawType": "float64",
         "type": "float"
        },
        {
         "name": "smape",
         "rawType": "float64",
         "type": "float"
        },
        {
         "name": "coverage",
         "rawType": "float64",
         "type": "float"
        },
        {
         "name": "changepoint_prior_scale",
         "rawType": "float64",
         "type": "float"
        },
        {
         "name": "seasonality_prior_scale",
         "rawType": "float64",
         "type": "float"
        },
        {
         "name": "holidays_prior_scale",
         "rawType": "float64",
         "type": "float"
        },
        {
         "name": "seasonality_mode",
         "rawType": "object",
         "type": "string"
        }
       ],
       "conversionMethod": "pd.DataFrame",
       "ref": "8003e554-ae5a-4860-85a7-e0613b377db8",
       "rows": [
        [
         "0",
         "30 days 00:00:00",
         "447512217493.9174",
         "668963.5397343546",
         "528897.1978753399",
         "0.7702541405244844",
         "0.5351906091822121",
         "0.481661477263891",
         "0.6546610169491526",
         "0.001",
         "0.01",
         "0.01",
         "additive"
        ],
        [
         "1",
         "30 days 00:00:00",
         "466990045897.8625",
         "683366.6994358611",
         "555044.5445044439",
         "0.847852855838721",
         "0.6228375808537587",
         "0.5119020541331267",
         "0.690677966101695",
         "0.001",
         "0.01",
         "0.01",
         "multiplicative"
        ],
        [
         "2",
         "30 days 00:00:00",
         "433161987417.571",
         "658150.4291706957",
         "518546.5235511548",
         "0.7526691495210803",
         "0.5182745321118625",
         "0.4758864915084303",
         "0.6588983050847458",
         "0.001",
         "0.01",
         "0.1",
         "additive"
        ],
        [
         "3",
         "30 days 00:00:00",
         "462284973603.3796",
         "679915.4165066266",
         "551961.5336802764",
         "0.8431767240645044",
         "0.6062440136708377",
         "0.5100956798967697",
         "0.684322033898305",
         "0.001",
         "0.01",
         "0.1",
         "multiplicative"
        ],
        [
         "4",
         "30 days 00:00:00",
         "431691718412.35846",
         "657032.5094029659",
         "518022.6149350828",
         "0.7510637242294264",
         "0.517264109124618",
         "0.47757838918093487",
         "0.6610169491525424",
         "0.001",
         "0.01",
         "1.0",
         "additive"
        ],
        [
         "5",
         "30 days 00:00:00",
         "456447740676.46716",
         "675609.1626646778",
         "547295.3283487028",
         "0.8334119254516126",
         "0.6090784569135989",
         "0.5093614577657104",
         "0.684322033898305",
         "0.001",
         "0.01",
         "1.0",
         "multiplicative"
        ],
        [
         "6",
         "30 days 00:00:00",
         "431244993713.3826",
         "656692.4650956356",
         "517744.7764143823",
         "0.7506738658494714",
         "0.5239108932110215",
         "0.4766791264886753",
         "0.673728813559322",
         "0.001",
         "0.01",
         "10.0",
         "additive"
        ],
        [
         "7",
         "30 days 00:00:00",
         "480892677547.2714",
         "693464.2583055535",
         "562122.9962550875",
         "0.8570040163264566",
         "0.6247758002899758",
         "0.5175406574762533",
         "0.6694915254237288",
         "0.001",
         "0.01",
         "10.0",
         "multiplicative"
        ],
        [
         "8",
         "30 days 00:00:00",
         "452920687385.4802",
         "672993.8241807871",
         "544218.0045776186",
         "0.8064316506640805",
         "0.5818893336664726",
         "0.5010946591831151",
         "0.6567796610169492",
         "0.001",
         "0.1",
         "0.01",
         "additive"
        ],
        [
         "9",
         "30 days 00:00:00",
         "454507854070.7042",
         "674171.9766281481",
         "546842.698430861",
         "0.8225200916991372",
         "0.6134899877021631",
         "0.5040674539494977",
         "0.6567796610169492",
         "0.001",
         "0.1",
         "0.01",
         "multiplicative"
        ],
        [
         "10",
         "30 days 00:00:00",
         "457977100583.7124",
         "676740.0539230055",
         "548246.0638779702",
         "0.8190885977784413",
         "0.58160223469645",
         "0.5040779979684127",
         "0.635593220338983",
         "0.001",
         "0.1",
         "0.1",
         "additive"
        ],
        [
         "11",
         "30 days 00:00:00",
         "455389621670.2647",
         "674825.6231577642",
         "547308.7806443756",
         "0.8240702930758439",
         "0.6086133109417152",
         "0.5044388262035536",
         "0.6567796610169492",
         "0.001",
         "0.1",
         "0.1",
         "multiplicative"
        ],
        [
         "12",
         "30 days 00:00:00",
         "458352203526.9279",
         "677017.136804474",
         "548240.0930918711",
         "0.8181691251661205",
         "0.5799608769372988",
         "0.5066748753082101",
         "0.6398305084745762",
         "0.001",
         "0.1",
         "1.0",
         "additive"
        ],
        [
         "13",
         "30 days 00:00:00",
         "451081105549.02185",
         "671625.718349902",
         "543432.6595292637",
         "0.8172087325160928",
         "0.5969610757770787",
         "0.5041006181565716",
         "0.6461864406779662",
         "0.001",
         "0.1",
         "1.0",
         "multiplicative"
        ],
        [
         "14",
         "30 days 00:00:00",
         "463638794556.65686",
         "680910.2690932609",
         "551981.6414451312",
         "0.8239237715752241",
         "0.5862663947152944",
         "0.5094661788476826",
         "0.6419491525423728",
         "0.001",
         "0.1",
         "10.0",
         "additive"
        ],
        [
         "15",
         "30 days 00:00:00",
         "451082106260.98346",
         "671626.4633417771",
         "541619.6201084999",
         "0.8132157859319963",
         "0.5856643500071579",
         "0.5029700652634362",
         "0.6673728813559322",
         "0.001",
         "0.1",
         "10.0",
         "multiplicative"
        ],
        [
         "16",
         "30 days 00:00:00",
         "444319810652.13226",
         "666573.1847682835",
         "538666.0413349161",
         "0.8019804032339307",
         "0.5888741725490749",
         "0.4982023152544392",
         "0.6546610169491526",
         "0.001",
         "1.0",
         "0.01",
         "additive"
        ],
        [
         "17",
         "30 days 00:00:00",
         "460869393311.48096",
         "678873.6210160776",
         "550928.4833514087",
         "0.826033275469949",
         "0.6131464416673338",
         "0.5061009439617474",
         "0.6504237288135594",
         "0.001",
         "1.0",
         "0.01",
         "multiplicative"
        ],
        [
         "18",
         "30 days 00:00:00",
         "456053276231.05383",
         "675317.1671378226",
         "545000.6624287689",
         "0.8140476909730002",
         "0.5793258367031776",
         "0.5017916979982784",
         "0.6504237288135594",
         "0.001",
         "1.0",
         "0.1",
         "additive"
        ],
        [
         "19",
         "30 days 00:00:00",
         "459416795307.0576",
         "677802.9177475246",
         "549694.1049984883",
         "0.8234565510279688",
         "0.5931292240899442",
         "0.50554931794144",
         "0.6546610169491526",
         "0.001",
         "1.0",
         "0.1",
         "multiplicative"
        ],
        [
         "20",
         "30 days 00:00:00",
         "436135705841.26855",
         "660405.7130592288",
         "532600.0920163888",
         "0.7876174191748366",
         "0.5676759382205978",
         "0.4967346354312264",
         "0.652542372881356",
         "0.001",
         "1.0",
         "1.0",
         "additive"
        ],
        [
         "21",
         "30 days 00:00:00",
         "453720333893.8433",
         "673587.6586561272",
         "543980.7275123987",
         "0.8150594032589866",
         "0.5822030927214499",
         "0.5027512751332781",
         "0.6588983050847458",
         "0.001",
         "1.0",
         "1.0",
         "multiplicative"
        ],
        [
         "22",
         "30 days 00:00:00",
         "429944162731.60297",
         "655701.2755299497",
         "526865.3714464682",
         "0.7741881661110728",
         "0.5673044456492458",
         "0.49181436317741345",
         "0.652542372881356",
         "0.001",
         "1.0",
         "10.0",
         "additive"
        ],
        [
         "23",
         "30 days 00:00:00",
         "451750939302.4859",
         "672124.1993132563",
         "541478.7417543753",
         "0.8131059298135057",
         "0.576979214742289",
         "0.5026203972651399",
         "0.6673728813559322",
         "0.001",
         "1.0",
         "10.0",
         "multiplicative"
        ],
        [
         "24",
         "30 days 00:00:00",
         "430401099198.1619",
         "656049.6164149187",
         "518419.1558961026",
         "0.7444711786523497",
         "0.5184201871607048",
         "0.48058336790631867",
         "0.673728813559322",
         "0.001",
         "10.0",
         "0.01",
         "additive"
        ],
        [
         "25",
         "30 days 00:00:00",
         "461629112334.8811",
         "679432.9343907911",
         "550910.6953056834",
         "0.8268143778250766",
         "0.6067730716798349",
         "0.5057341521892699",
         "0.6652542372881356",
         "0.001",
         "10.0",
         "0.01",
         "multiplicative"
        ],
        [
         "26",
         "30 days 00:00:00",
         "427380828303.33734",
         "653743.7023049151",
         "516316.77273422794",
         "0.739178172954639",
         "0.5158485617826097",
         "0.47513829989402195",
         "0.6567796610169492",
         "0.001",
         "10.0",
         "0.1",
         "additive"
        ],
        [
         "27",
         "30 days 00:00:00",
         "457293039639.4408",
         "676234.4561166939",
         "548482.4841455525",
         "0.8232370707538814",
         "0.6032366879882637",
         "0.5044529272032569",
         "0.6546610169491526",
         "0.001",
         "10.0",
         "0.1",
         "multiplicative"
        ],
        [
         "28",
         "30 days 00:00:00",
         "433248409774.3931",
         "658216.081370239",
         "517805.89502623066",
         "0.7461064466943645",
         "0.5113572519531038",
         "0.4757212246545519",
         "0.6504237288135594",
         "0.001",
         "10.0",
         "1.0",
         "additive"
        ],
        [
         "29",
         "30 days 00:00:00",
         "436385483668.57654",
         "660594.795368974",
         "531334.6879863215",
         "0.7895153635471936",
         "0.5751119149637431",
         "0.49505980384382525",
         "0.6716101694915254",
         "0.001",
         "10.0",
         "1.0",
         "multiplicative"
        ],
        [
         "30",
         "30 days 00:00:00",
         "448801147665.2248",
         "669926.2255392192",
         "541669.1259560749",
         "0.8061051651002283",
         "0.567321623575137",
         "0.5028467766476628",
         "0.6440677966101694",
         "0.001",
         "10.0",
         "10.0",
         "additive"
        ],
        [
         "31",
         "30 days 00:00:00",
         "440608990238.2283",
         "663783.8430078186",
         "534862.7889425869",
         "0.7992164290265659",
         "0.5750180040608253",
         "0.4987782953983129",
         "0.6652542372881356",
         "0.001",
         "10.0",
         "10.0",
         "multiplicative"
        ],
        [
         "32",
         "30 days 00:00:00",
         "155106025450.7065",
         "393835.0231387586",
         "325168.8113199869",
         "0.4455875080651078",
         "0.3704422339870943",
         "0.3979771809279883",
         "0.7478813559322034",
         "0.01",
         "0.01",
         "0.01",
         "additive"
        ],
        [
         "33",
         "30 days 00:00:00",
         "166866010967.09528",
         "408492.36341343675",
         "335628.7998486102",
         "0.4646052435762269",
         "0.37584059280245763",
         "0.3946887423962978",
         "0.7457627118644068",
         "0.01",
         "0.01",
         "0.01",
         "multiplicative"
        ],
        [
         "34",
         "30 days 00:00:00",
         "158106107832.61563",
         "397625.5874973536",
         "327944.9198079771",
         "0.44713280637958225",
         "0.37011735830055426",
         "0.4003365409487928",
         "0.7457627118644068",
         "0.01",
         "0.01",
         "0.1",
         "additive"
        ],
        [
         "35",
         "30 days 00:00:00",
         "167628354918.77487",
         "409424.41905530606",
         "335213.5095896928",
         "0.46311556117220737",
         "0.37233321665193575",
         "0.3925344404150578",
         "0.7330508474576272",
         "0.01",
         "0.01",
         "0.1",
         "multiplicative"
        ],
        [
         "36",
         "30 days 00:00:00",
         "160546128736.06815",
         "400682.0793797349",
         "329243.7011358197",
         "0.44598073422441836",
         "0.3666645785893877",
         "0.40193711363600526",
         "0.7351694915254238",
         "0.01",
         "0.01",
         "1.0",
         "additive"
        ],
        [
         "37",
         "30 days 00:00:00",
         "168640816593.3423",
         "410659.0028154044",
         "336814.57969313476",
         "0.46449636142435746",
         "0.37725363872433204",
         "0.39434368475216347",
         "0.7415254237288136",
         "0.01",
         "0.01",
         "1.0",
         "multiplicative"
        ],
        [
         "38",
         "30 days 00:00:00",
         "157016688991.73422",
         "396253.314171294",
         "326345.0563363017",
         "0.4453982205588609",
         "0.3641813252019436",
         "0.3977606097243135",
         "0.7415254237288136",
         "0.01",
         "0.01",
         "10.0",
         "additive"
        ],
        [
         "39",
         "30 days 00:00:00",
         "170079551837.45856",
         "412407.02205158747",
         "337933.57498505776",
         "0.4660131614219951",
         "0.37847424983931516",
         "0.39557078692762015",
         "0.7415254237288136",
         "0.01",
         "0.01",
         "10.0",
         "multiplicative"
        ],
        [
         "40",
         "30 days 00:00:00",
         "155200310834.00354",
         "393954.7065767885",
         "324100.6306750166",
         "0.4410644982574738",
         "0.36964360140876984",
         "0.4049836854529372",
         "0.7351694915254238",
         "0.01",
         "0.1",
         "0.01",
         "additive"
        ],
        [
         "41",
         "30 days 00:00:00",
         "154735325155.02145",
         "393364.1126933435",
         "324412.780147734",
         "0.4415993865415422",
         "0.3642830610141913",
         "0.38843264947288864",
         "0.739406779661017",
         "0.01",
         "0.1",
         "0.01",
         "multiplicative"
        ],
        [
         "42",
         "30 days 00:00:00",
         "157685020786.24054",
         "397095.73252081237",
         "325639.59708527266",
         "0.4411057754675959",
         "0.36376318564651283",
         "0.4016206658922141",
         "0.7351694915254238",
         "0.01",
         "0.1",
         "0.1",
         "additive"
        ],
        [
         "43",
         "30 days 00:00:00",
         "157746603761.04254",
         "397173.2666746876",
         "326497.022183465",
         "0.4421355625027891",
         "0.36721219892440193",
         "0.3887906065086461",
         "0.7351694915254238",
         "0.01",
         "0.1",
         "0.1",
         "multiplicative"
        ],
        [
         "44",
         "30 days 00:00:00",
         "159680137936.2241",
         "399599.97239267186",
         "329172.91647766327",
         "0.4484512681383589",
         "0.3651558221050728",
         "0.4095850625609334",
         "0.7309322033898306",
         "0.01",
         "0.1",
         "1.0",
         "additive"
        ],
        [
         "45",
         "30 days 00:00:00",
         "158277205248.588",
         "397840.6782225619",
         "326470.2617510341",
         "0.444164980256615",
         "0.36230098787145615",
         "0.38858144548126505",
         "0.7436440677966102",
         "0.01",
         "0.1",
         "1.0",
         "multiplicative"
        ],
        [
         "46",
         "30 days 00:00:00",
         "156797215892.7835",
         "395976.2819826252",
         "326270.5376531431",
         "0.4420624619325518",
         "0.36931480038299364",
         "0.4069752960268749",
         "0.7288135593220338",
         "0.01",
         "0.1",
         "10.0",
         "additive"
        ],
        [
         "47",
         "30 days 00:00:00",
         "155691630032.22595",
         "394577.78704867046",
         "325225.4780529357",
         "0.4439664060909673",
         "0.3627152539874888",
         "0.3886893970454015",
         "0.7436440677966102",
         "0.01",
         "0.1",
         "10.0",
         "multiplicative"
        ],
        [
         "48",
         "30 days 00:00:00",
         "154827716893.418",
         "393481.5331034202",
         "325018.6902255449",
         "0.4420269746418607",
         "0.3731569275223373",
         "0.4049551651279516",
         "0.7309322033898306",
         "0.01",
         "1.0",
         "0.01",
         "additive"
        ],
        [
         "49",
         "30 days 00:00:00",
         "153918383124.8682",
         "392324.33409727237",
         "323565.76373934303",
         "0.44181874640056173",
         "0.36831654368480915",
         "0.3896033369912453",
         "0.7415254237288136",
         "0.01",
         "1.0",
         "0.01",
         "multiplicative"
        ]
       ],
       "shape": {
        "columns": 12,
        "rows": 128
       }
      },
      "text/html": [
       "<div>\n",
       "<style scoped>\n",
       "    .dataframe tbody tr th:only-of-type {\n",
       "        vertical-align: middle;\n",
       "    }\n",
       "\n",
       "    .dataframe tbody tr th {\n",
       "        vertical-align: top;\n",
       "    }\n",
       "\n",
       "    .dataframe thead th {\n",
       "        text-align: right;\n",
       "    }\n",
       "</style>\n",
       "<table border=\"1\" class=\"dataframe\">\n",
       "  <thead>\n",
       "    <tr style=\"text-align: right;\">\n",
       "      <th></th>\n",
       "      <th>horizon</th>\n",
       "      <th>mse</th>\n",
       "      <th>rmse</th>\n",
       "      <th>mae</th>\n",
       "      <th>mape</th>\n",
       "      <th>mdape</th>\n",
       "      <th>smape</th>\n",
       "      <th>coverage</th>\n",
       "      <th>changepoint_prior_scale</th>\n",
       "      <th>seasonality_prior_scale</th>\n",
       "      <th>holidays_prior_scale</th>\n",
       "      <th>seasonality_mode</th>\n",
       "    </tr>\n",
       "  </thead>\n",
       "  <tbody>\n",
       "    <tr>\n",
       "      <th>0</th>\n",
       "      <td>30 days</td>\n",
       "      <td>4.475122e+11</td>\n",
       "      <td>668963.539734</td>\n",
       "      <td>528897.197875</td>\n",
       "      <td>0.770254</td>\n",
       "      <td>0.535191</td>\n",
       "      <td>0.481661</td>\n",
       "      <td>0.654661</td>\n",
       "      <td>0.001</td>\n",
       "      <td>0.01</td>\n",
       "      <td>0.01</td>\n",
       "      <td>additive</td>\n",
       "    </tr>\n",
       "    <tr>\n",
       "      <th>1</th>\n",
       "      <td>30 days</td>\n",
       "      <td>4.669900e+11</td>\n",
       "      <td>683366.699436</td>\n",
       "      <td>555044.544504</td>\n",
       "      <td>0.847853</td>\n",
       "      <td>0.622838</td>\n",
       "      <td>0.511902</td>\n",
       "      <td>0.690678</td>\n",
       "      <td>0.001</td>\n",
       "      <td>0.01</td>\n",
       "      <td>0.01</td>\n",
       "      <td>multiplicative</td>\n",
       "    </tr>\n",
       "    <tr>\n",
       "      <th>2</th>\n",
       "      <td>30 days</td>\n",
       "      <td>4.331620e+11</td>\n",
       "      <td>658150.429171</td>\n",
       "      <td>518546.523551</td>\n",
       "      <td>0.752669</td>\n",
       "      <td>0.518275</td>\n",
       "      <td>0.475886</td>\n",
       "      <td>0.658898</td>\n",
       "      <td>0.001</td>\n",
       "      <td>0.01</td>\n",
       "      <td>0.10</td>\n",
       "      <td>additive</td>\n",
       "    </tr>\n",
       "    <tr>\n",
       "      <th>3</th>\n",
       "      <td>30 days</td>\n",
       "      <td>4.622850e+11</td>\n",
       "      <td>679915.416507</td>\n",
       "      <td>551961.533680</td>\n",
       "      <td>0.843177</td>\n",
       "      <td>0.606244</td>\n",
       "      <td>0.510096</td>\n",
       "      <td>0.684322</td>\n",
       "      <td>0.001</td>\n",
       "      <td>0.01</td>\n",
       "      <td>0.10</td>\n",
       "      <td>multiplicative</td>\n",
       "    </tr>\n",
       "    <tr>\n",
       "      <th>4</th>\n",
       "      <td>30 days</td>\n",
       "      <td>4.316917e+11</td>\n",
       "      <td>657032.509403</td>\n",
       "      <td>518022.614935</td>\n",
       "      <td>0.751064</td>\n",
       "      <td>0.517264</td>\n",
       "      <td>0.477578</td>\n",
       "      <td>0.661017</td>\n",
       "      <td>0.001</td>\n",
       "      <td>0.01</td>\n",
       "      <td>1.00</td>\n",
       "      <td>additive</td>\n",
       "    </tr>\n",
       "    <tr>\n",
       "      <th>...</th>\n",
       "      <td>...</td>\n",
       "      <td>...</td>\n",
       "      <td>...</td>\n",
       "      <td>...</td>\n",
       "      <td>...</td>\n",
       "      <td>...</td>\n",
       "      <td>...</td>\n",
       "      <td>...</td>\n",
       "      <td>...</td>\n",
       "      <td>...</td>\n",
       "      <td>...</td>\n",
       "      <td>...</td>\n",
       "    </tr>\n",
       "    <tr>\n",
       "      <th>123</th>\n",
       "      <td>30 days</td>\n",
       "      <td>1.095844e+11</td>\n",
       "      <td>331035.346117</td>\n",
       "      <td>266037.786738</td>\n",
       "      <td>0.341929</td>\n",
       "      <td>0.277209</td>\n",
       "      <td>0.357230</td>\n",
       "      <td>0.713983</td>\n",
       "      <td>0.500</td>\n",
       "      <td>10.00</td>\n",
       "      <td>0.10</td>\n",
       "      <td>multiplicative</td>\n",
       "    </tr>\n",
       "    <tr>\n",
       "      <th>124</th>\n",
       "      <td>30 days</td>\n",
       "      <td>1.091429e+11</td>\n",
       "      <td>330367.786178</td>\n",
       "      <td>268749.536536</td>\n",
       "      <td>0.356016</td>\n",
       "      <td>0.297546</td>\n",
       "      <td>0.386820</td>\n",
       "      <td>0.677966</td>\n",
       "      <td>0.500</td>\n",
       "      <td>10.00</td>\n",
       "      <td>1.00</td>\n",
       "      <td>additive</td>\n",
       "    </tr>\n",
       "    <tr>\n",
       "      <th>125</th>\n",
       "      <td>30 days</td>\n",
       "      <td>1.085665e+11</td>\n",
       "      <td>329494.281014</td>\n",
       "      <td>265298.078176</td>\n",
       "      <td>0.340879</td>\n",
       "      <td>0.271025</td>\n",
       "      <td>0.357789</td>\n",
       "      <td>0.703390</td>\n",
       "      <td>0.500</td>\n",
       "      <td>10.00</td>\n",
       "      <td>1.00</td>\n",
       "      <td>multiplicative</td>\n",
       "    </tr>\n",
       "    <tr>\n",
       "      <th>126</th>\n",
       "      <td>30 days</td>\n",
       "      <td>1.084250e+11</td>\n",
       "      <td>329279.521880</td>\n",
       "      <td>267793.215497</td>\n",
       "      <td>0.355086</td>\n",
       "      <td>0.296732</td>\n",
       "      <td>0.385270</td>\n",
       "      <td>0.699153</td>\n",
       "      <td>0.500</td>\n",
       "      <td>10.00</td>\n",
       "      <td>10.00</td>\n",
       "      <td>additive</td>\n",
       "    </tr>\n",
       "    <tr>\n",
       "      <th>127</th>\n",
       "      <td>30 days</td>\n",
       "      <td>1.089522e+11</td>\n",
       "      <td>330079.051431</td>\n",
       "      <td>265650.754977</td>\n",
       "      <td>0.341812</td>\n",
       "      <td>0.267927</td>\n",
       "      <td>0.359521</td>\n",
       "      <td>0.703390</td>\n",
       "      <td>0.500</td>\n",
       "      <td>10.00</td>\n",
       "      <td>10.00</td>\n",
       "      <td>multiplicative</td>\n",
       "    </tr>\n",
       "  </tbody>\n",
       "</table>\n",
       "<p>128 rows × 12 columns</p>\n",
       "</div>"
      ],
      "text/plain": [
       "    horizon           mse           rmse            mae      mape     mdape  \\\n",
       "0   30 days  4.475122e+11  668963.539734  528897.197875  0.770254  0.535191   \n",
       "1   30 days  4.669900e+11  683366.699436  555044.544504  0.847853  0.622838   \n",
       "2   30 days  4.331620e+11  658150.429171  518546.523551  0.752669  0.518275   \n",
       "3   30 days  4.622850e+11  679915.416507  551961.533680  0.843177  0.606244   \n",
       "4   30 days  4.316917e+11  657032.509403  518022.614935  0.751064  0.517264   \n",
       "..      ...           ...            ...            ...       ...       ...   \n",
       "123 30 days  1.095844e+11  331035.346117  266037.786738  0.341929  0.277209   \n",
       "124 30 days  1.091429e+11  330367.786178  268749.536536  0.356016  0.297546   \n",
       "125 30 days  1.085665e+11  329494.281014  265298.078176  0.340879  0.271025   \n",
       "126 30 days  1.084250e+11  329279.521880  267793.215497  0.355086  0.296732   \n",
       "127 30 days  1.089522e+11  330079.051431  265650.754977  0.341812  0.267927   \n",
       "\n",
       "        smape  coverage  changepoint_prior_scale  seasonality_prior_scale  \\\n",
       "0    0.481661  0.654661                    0.001                     0.01   \n",
       "1    0.511902  0.690678                    0.001                     0.01   \n",
       "2    0.475886  0.658898                    0.001                     0.01   \n",
       "3    0.510096  0.684322                    0.001                     0.01   \n",
       "4    0.477578  0.661017                    0.001                     0.01   \n",
       "..        ...       ...                      ...                      ...   \n",
       "123  0.357230  0.713983                    0.500                    10.00   \n",
       "124  0.386820  0.677966                    0.500                    10.00   \n",
       "125  0.357789  0.703390                    0.500                    10.00   \n",
       "126  0.385270  0.699153                    0.500                    10.00   \n",
       "127  0.359521  0.703390                    0.500                    10.00   \n",
       "\n",
       "     holidays_prior_scale seasonality_mode  \n",
       "0                    0.01         additive  \n",
       "1                    0.01   multiplicative  \n",
       "2                    0.10         additive  \n",
       "3                    0.10   multiplicative  \n",
       "4                    1.00         additive  \n",
       "..                    ...              ...  \n",
       "123                  0.10   multiplicative  \n",
       "124                  1.00         additive  \n",
       "125                  1.00   multiplicative  \n",
       "126                 10.00         additive  \n",
       "127                 10.00   multiplicative  \n",
       "\n",
       "[128 rows x 12 columns]"
      ]
     },
     "execution_count": 25,
     "metadata": {},
     "output_type": "execute_result"
    }
   ],
   "source": [
    "df_all"
   ]
  },
  {
   "cell_type": "code",
   "execution_count": 26,
   "id": "10bf9f81",
   "metadata": {},
   "outputs": [
    {
     "name": "stderr",
     "output_type": "stream",
     "text": [
      "17:48:07 - cmdstanpy - INFO - Chain [1] start processing\n",
      "17:48:07 - cmdstanpy - INFO - Chain [1] done processing\n"
     ]
    },
    {
     "data": {
      "text/plain": [
       "<prophet.forecaster.Prophet at 0x1c1f68b8c50>"
      ]
     },
     "execution_count": 26,
     "metadata": {},
     "output_type": "execute_result"
    }
   ],
   "source": [
    "best_model=Prophet(scaling=\"minmax\",holidays=df_feriados, changepoint_prior_scale= 0.5,seasonality_prior_scale =1,\n",
    "                   seasonality_mode='multiplicative',holidays_prior_scale=1)\n",
    "best_model.fit(df_prophet)"
   ]
  },
  {
   "cell_type": "code",
   "execution_count": 27,
   "id": "f2f9d79b",
   "metadata": {},
   "outputs": [],
   "source": [
    "forecast_tuning = best_model.predict(futuro)"
   ]
  },
  {
   "cell_type": "code",
   "execution_count": 28,
   "id": "df30a993",
   "metadata": {},
   "outputs": [
    {
     "data": {
      "image/png": "[encoded data removed]",
      "text/plain": [
       "<Figure size 900x900 with 3 Axes>"
      ]
     },
     "metadata": {},
     "output_type": "display_data"
    }
   ],
   "source": [
    "best_model.plot_components(forecast_tuning);"
   ]
  },
  {
   "cell_type": "code",
   "execution_count": 29,
   "id": "978449e6",
   "metadata": {},
   "outputs": [
    {
     "data": {
      "image/png": "[encoded data removed]",
      "text/plain": [
       "<Figure size 1000x600 with 1 Axes>"
      ]
     },
     "metadata": {},
     "output_type": "display_data"
    }
   ],
   "source": [
    "best_model.plot(forecast_tuning);"
   ]
  },
  {
   "cell_type": "code",
   "execution_count": 30,
   "id": "36d96010",
   "metadata": {},
   "outputs": [
    {
     "data": {
      "image/png": "[encoded data removed]",
      "text/plain": [
       "<Figure size 1400x600 with 1 Axes>"
      ]
     },
     "metadata": {},
     "output_type": "display_data"
    }
   ],
   "source": [
    "plt.figure(figsize=(14, 6))\n",
    "# plt.plot(train_df['ds'], train_df['y'], label='Train')\n",
    "# plt.plot(test_df['ds'], test_df['y'], label='Test')\n",
    "plt.plot(df_prophet['ds'], df_prophet['y'], label='Datos')\n",
    "# Graficar predicciones \n",
    "plt.plot(forecast_tuning ['ds'], forecast_tuning ['yhat'], label='forecast_tuning')\n",
    "\n",
    "# Agregar intervalos de confianza de las predicciones\n",
    "plt.fill_between(forecast_tuning ['ds'],\n",
    "                 forecast_tuning ['yhat_lower'],\n",
    "                 forecast_tuning ['yhat_upper'],\n",
    "                 alpha=0.3, label='Confidence Interval')\n",
    "\n",
    "plt.title('Train, Test & forecast_tuning')\n",
    "plt.xlabel('Date')\n",
    "plt.ylabel('Value')\n",
    "plt.legend()\n",
    "plt.grid(True)\n",
    "plt.tight_layout()\n",
    "plt.show()"
   ]
  },
  {
   "cell_type": "code",
   "execution_count": 31,
   "id": "2f5aef72",
   "metadata": {},
   "outputs": [],
   "source": [
    "# def mape(y,y_pred):\n",
    "#     return round(np.mean(np.abs((y-y_pred)/y))*100,4)"
   ]
  }
 ],
 "metadata": {
  "kernelspec": {
   "display_name": "base",
   "language": "python",
   "name": "python3"
  },
  "language_info": {
   "codemirror_mode": {
    "name": "ipython",
    "version": 3
   },
   "file_extension": ".py",
   "mimetype": "text/x-python",
   "name": "python",
   "nbconvert_exporter": "python",
   "pygments_lexer": "ipython3",
   "version": "3.11.4"
  }
 },
 "nbformat": 4,
 "nbformat_minor": 5
}
